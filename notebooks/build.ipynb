{
 "cells": [
  {
   "cell_type": "markdown",
   "metadata": {},
   "source": [
    "The next step in giving my project legs was to actually get data into my analysis stack. For this project, I planned on using a pandas/scikit-learn/statsmodels stack.\n",
    "\n",
    "To this end, I needed to get a hold of the code dictionary available on this webpage, and use it to rewrite the 2013 MEPS dataset as a comma separated values file.\n",
    "\n",
    "The first thing to do is to instantiate a scraper using the BeautifulSoup and requests libraries."
   ]
  },
  {
   "cell_type": "code",
   "execution_count": 1,
   "metadata": {
    "collapsed": false,
    "scrolled": false
   },
   "outputs": [],
   "source": [
    "from bs4 import BeautifulSoup\n",
    "import requests\n",
    "import pandas as pd\n",
    "import numpy as np\n",
    "import matplotlib.pyplot as plt\n",
    "import matplotlib\n",
    "%matplotlib inline\n",
    "matplotlib.pylab.rcParams['figure.figsize'] = (10, 6)"
   ]
  },
  {
   "cell_type": "markdown",
   "metadata": {},
   "source": [
    "I may run this analysis on several MEPS datasets in the future, so I'm going to hardcode a number of pages into a dictionary for easy access later. Here's a function that accesses the dictionary using project names."
   ]
  },
  {
   "cell_type": "code",
   "execution_count": 2,
   "metadata": {
    "collapsed": false,
    "scrolled": false
   },
   "outputs": [],
   "source": [
    "def theurl(name):\n",
    "    answer={\"2012\":\"http://meps.ahrq.gov/mepsweb/data_stats/download_data_files_codebook.jsp?PUFId=H155\", \n",
    "            \"2013\":\"http://meps.ahrq.gov/mepsweb/data_stats/download_data_files_codebook.jsp?PUFId=H163\", \n",
    "            \"population\": \"http://meps.ahrq.gov/mepsweb/data_stats/download_data_files_codebook.jsp?PUFId=H157\", \n",
    "            \"medical\": \"http://meps.ahrq.gov/mepsweb/data_stats/download_data_files_codebook.jsp?PUFId=H154\", \n",
    "            \"risk\": \"http://meps.ahrq.gov/mepsweb/data_stats/download_data_files_codebook.jsp?PUFId=H140\", \n",
    "            \"employment\": \"http://meps.ahrq.gov/mepsweb/data_stats/download_data_files_codebook.jsp?PUFId=H131\", \n",
    "            \"jobs\": \"http://meps.ahrq.gov/mepsweb/data_stats/download_data_files_codebook.jsp?PUFId=H158\", \n",
    "            \"person_round_plan\": \"http://meps.ahrq.gov/mepsweb/data_stats/download_data_files_codebook.jsp?PUFId=H153\"}\n",
    "    return answer[name]"
   ]
  },
  {
   "cell_type": "markdown",
   "metadata": {},
   "source": [
    "So for instance, calling it on \"2013\" yields:"
   ]
  },
  {
   "cell_type": "code",
   "execution_count": 3,
   "metadata": {
    "collapsed": false
   },
   "outputs": [
    {
     "data": {
      "text/plain": [
       "'http://meps.ahrq.gov/mepsweb/data_stats/download_data_files_codebook.jsp?PUFId=H163'"
      ]
     },
     "execution_count": 3,
     "metadata": {},
     "output_type": "execute_result"
    }
   ],
   "source": [
    "theurl(\"2013\")"
   ]
  },
  {
   "cell_type": "markdown",
   "metadata": {},
   "source": [
    "Let's write a function that returns the parse tree for the html we need:"
   ]
  },
  {
   "cell_type": "code",
   "execution_count": 4,
   "metadata": {
    "collapsed": true,
    "scrolled": false
   },
   "outputs": [],
   "source": [
    "def make_soup(url):\n",
    "    response=requests.get(url)\n",
    "    soup=BeautifulSoup(response.content)\n",
    "    return soup"
   ]
  },
  {
   "cell_type": "markdown",
   "metadata": {},
   "source": [
    "And let's check that this worked for our page:"
   ]
  },
  {
   "cell_type": "code",
   "execution_count": 5,
   "metadata": {
    "collapsed": true,
    "scrolled": false
   },
   "outputs": [],
   "source": [
    "this=make_soup(theurl(\"2013\"))"
   ]
  },
  {
   "cell_type": "code",
   "execution_count": 6,
   "metadata": {
    "collapsed": false
   },
   "outputs": [
    {
     "data": {
      "text/plain": [
       "<title>Medical Expenditure Panel Survey PUF Codebook</title>"
      ]
     },
     "execution_count": 6,
     "metadata": {},
     "output_type": "execute_result"
    }
   ],
   "source": [
    "this.title"
   ]
  },
  {
   "cell_type": "markdown",
   "metadata": {},
   "source": [
    "I fiddled around with this object for a while and discovered that the data I needed all lay inside bits tagged \"font\"."
   ]
  },
  {
   "cell_type": "code",
   "execution_count": 7,
   "metadata": {
    "collapsed": false
   },
   "outputs": [
    {
     "data": {
      "text/plain": [
       "[<font color=\"#660000\">::</font>,\n",
       " <font color=\"#660000\">::</font>,\n",
       " <font color=\"#660000\">::</font>,\n",
       " <font color=\"#660000\">::</font>,\n",
       " <font color=\"#660000\">::</font>,\n",
       " <font color=\"#660000\">::</font>,\n",
       " <font color=\"#660000\">::</font>,\n",
       " <font color=\"#660000\">::</font>,\n",
       " <font color=\"#660000\">::</font>,\n",
       " <font color=\"#660000\">::</font>,\n",
       " <font color=\"#660000\">::</font>,\n",
       " <font color=\"#660000\">::</font>,\n",
       " <font color=\"#660000\">::</font>,\n",
       " <font color=\"#660000\">::</font>,\n",
       " <font color=\"#660000\">::</font>,\n",
       " <font color=\"#660000\">::</font>,\n",
       " <font color=\"#660000\">::</font>,\n",
       " <font color=\"#660000\">::</font>,\n",
       " <font class=\"smallBlack\" face=\"Arial\">MEPS HC-163</font>,\n",
       " <font class=\"smallBlack\" face=\"Arial\">2013 FULL YEAR CONSOLIDATED DATA CODEBOOK</font>,\n",
       " <font class=\"smallBlack\" face=\"Arial\">DATE:   October 7, 2015</font>,\n",
       " <font class=\"smallBlack\" face=\"Arial\">940   </font>,\n",
       " <font class=\"smallBlack\" face=\"Arial\">941   </font>,\n",
       " <font class=\"smallBlack\" face=\"Arial\">PERS ELIGIBLE FOR ACCESS SUPPLEMENT-R4/2</font>,\n",
       " <font class=\"smallBlack\" face=\"Arial\">241   </font>,\n",
       " <font class=\"smallBlack\" face=\"Arial\">242   </font>,\n",
       " <font class=\"smallBlack\" face=\"Arial\">MILITARY FULL-TIME ACTIVE DUTY - R3/1</font>,\n",
       " <font class=\"smallBlack\" face=\"Arial\">243   </font>,\n",
       " <font class=\"smallBlack\" face=\"Arial\">244   </font>,\n",
       " <font class=\"smallBlack\" face=\"Arial\">MILITARY FULL-TIME ACTIVE DUTY - R4/2</font>,\n",
       " <font class=\"smallBlack\" face=\"Arial\">245   </font>,\n",
       " <font class=\"smallBlack\" face=\"Arial\">246   </font>,\n",
       " <font class=\"smallBlack\" face=\"Arial\">MILITARY FULL-TIME ACTIVE DUTY - R5/3</font>,\n",
       " <font class=\"smallBlack\" face=\"Arial\">473   </font>,\n",
       " <font class=\"smallBlack\" face=\"Arial\">474   </font>,\n",
       " <font class=\"smallBlack\" face=\"Arial\">ANY LIMITATION WORK/HOUSEWRK/SCHL-RD 3/1</font>,\n",
       " <font class=\"smallBlack\" face=\"Arial\">475   </font>,\n",
       " <font class=\"smallBlack\" face=\"Arial\">476   </font>,\n",
       " <font class=\"smallBlack\" face=\"Arial\">ANY LIMITATION WORK/HOUSEWRK/SCHL-RD 5/3</font>,\n",
       " <font class=\"smallBlack\" face=\"Arial\">734   </font>,\n",
       " <font class=\"smallBlack\" face=\"Arial\">735   </font>,\n",
       " <font class=\"smallBlack\" face=\"Arial\">SAQ 12 MOS: # VISITS TO MED OFF FOR CARE</font>,\n",
       " <font class=\"smallBlack\" face=\"Arial\">786   </font>,\n",
       " <font class=\"smallBlack\" face=\"Arial\">787   </font>,\n",
       " <font class=\"smallBlack\" face=\"Arial\">SAQ 4WKS: FELT CALM/PEACEFUL SF-12V2</font>,\n",
       " <font class=\"smallBlack\" face=\"Arial\">774   </font>,\n",
       " <font class=\"smallBlack\" face=\"Arial\">775   </font>,\n",
       " <font class=\"smallBlack\" face=\"Arial\">SAQ: HLTH LIMITS CLIMBING STAIRS SF-12V2</font>,\n",
       " <font class=\"smallBlack\" face=\"Arial\">834   </font>,\n",
       " <font class=\"smallBlack\" face=\"Arial\">835   </font>,\n",
       " <font class=\"smallBlack\" face=\"Arial\">SAQ: DATE COMPLETED - MONTH</font>,\n",
       " <font class=\"smallBlack\" face=\"Arial\">836   </font>,\n",
       " <font class=\"smallBlack\" face=\"Arial\">839   </font>,\n",
       " <font class=\"smallBlack\" face=\"Arial\">SAQ: DATE COMPLETED - YEAR</font>,\n",
       " <font class=\"smallBlack\" face=\"Arial\">772   </font>,\n",
       " <font class=\"smallBlack\" face=\"Arial\">773   </font>,\n",
       " <font class=\"smallBlack\" face=\"Arial\">SAQ: HLTH LIMITS MOD ACTIVITIES SF-12V2</font>,\n",
       " <font class=\"smallBlack\" face=\"Arial\">790   </font>,\n",
       " <font class=\"smallBlack\" face=\"Arial\">791   </font>,\n",
       " <font class=\"smallBlack\" face=\"Arial\">SAQ 4WKS: FELT DOWNHEARTED/DEPR SF-12V2</font>]"
      ]
     },
     "execution_count": 7,
     "metadata": {},
     "output_type": "execute_result"
    }
   ],
   "source": [
    "this.findAll('font',limit=60)"
   ]
  },
  {
   "cell_type": "markdown",
   "metadata": {},
   "source": [
    "These tagged pieces contain the variable description, preceded by the start and stop columns for the position of the field in the fixed-width file.\n",
    "\n",
    "For example:"
   ]
  },
  {
   "cell_type": "markdown",
   "metadata": {},
   "source": [
    "    <font class=\"smallBlack\" face=\"Arial\">353   </font>,\n",
    "    <font class=\"smallBlack\" face=\"Arial\">354   </font>,\n",
    "    <font class=\"smallBlack\" face=\"Arial\">CANCER DIAGNOSED - MELANOMA (&gt;17)</font>,"
   ]
  },
  {
   "cell_type": "markdown",
   "metadata": {},
   "source": [
    "The next function extracts all the tags in the parse tree with attribute \"font\" and collects them in a list, that I (in very poor taste) called final. In my defense, the list is really nothing, and nothing is ever final, so there you go.\n",
    "\n",
    "I then use a helper function I called \"prune_list\" to get rid of the crud I didn't want to deal with that also happened to be part of a \"font\" tag. Finally, this function writes the code dictionary table to the file provided as the second argument to the function."
   ]
  },
  {
   "cell_type": "code",
   "execution_count": 8,
   "metadata": {
    "collapsed": true,
    "scrolled": false
   },
   "outputs": [],
   "source": [
    "def get_data(soup,target):\n",
    "    result=[]\n",
    "    for row in soup.find_all(\"font\"):\n",
    "        result.append(row.contents)\n",
    "        final=[(term[0].replace(u'\\xa0',u'')).replace(',','') for term in result]\n",
    "        #get rid of junk\n",
    "        theterms=[\"::\",\n",
    "                  \"MEPS HC-155\",\n",
    "                  \"MEPS HC-163\",\n",
    "                  \"MEPS HC-157\",\n",
    "                  \"MEPS H154 CODEBOOK\",\n",
    "                  \"MEPS H140 CODEBOOK\",\n",
    "                  \"MEPS H131 CODEBOOK\",\n",
    "                  \"MEPS HC-150\",\n",
    "                  \"MEPS HC-158\",\n",
    "                  \"MEPS H153 CODEBOOK\",\n",
    "                  \"2012 FULL YEAR CONSOLIDATED DATA CODEBOOK\",\n",
    "                  \"2013 FULL YEAR CONSOLIDATED DATA CODEBOOK\",\n",
    "                  \"2013 FULL YEAR POPULATION CHARACTERISTICS CODEBOOK\",\n",
    "                  \"2012 MEPS MEDICAL CONDITIONS FILE\",\n",
    "                  \"2002-2009 RISK ADJUSTMENT SCORES FILE\",\n",
    "                  \"EMPLOYMENT VARIABLE IMPUTATION FILE\",\n",
    "                  \"2012 JOBS FILE CODEBOOK\",\n",
    "                  \"2013 JOBS FILE CODEBOOK\",\n",
    "                  \"2012 PERSON ROUND PLAN FILE\",\n",
    "                  \"DATE:   August 25 2014\",\n",
    "                  \"DATE:   August 25 2015\",\n",
    "                  \"DATE: August 21 2014\",\n",
    "                  \"DATE: August 4 2014\",\n",
    "                  \"DATE:     March 6 2015\",\n",
    "                  \"DATE: December 15 2014\",\n",
    "                  \"DATE:    April 10 2013\",\n",
    "                  \"DATE:   August 12 2014\",\n",
    "                  \"DATE: February 13 2015\"]                          \n",
    "        final=prune_list(final,theterms)\n",
    "        with open(target,\"w\") as f:\n",
    "            f.write(\"start,end,variable\\n\")\n",
    "            for skip in range(0,len(final)-1,3):\n",
    "                f.write(\"%s,\"%final[skip])\n",
    "                f.write(\"%s,\"%final[skip+1])\n",
    "                f.write(\"%s\\n\"%((final[skip+2]).lstrip()).rstrip())\n",
    "        print(\"Done\")\n",
    "        temp=pd.read_csv(target)\n",
    "        temp=temp.sort(\"start\").copy()\n",
    "        temp.index=list(range(len(temp)))\n",
    "        return temp"
   ]
  },
  {
   "cell_type": "markdown",
   "metadata": {},
   "source": [
    "Here's the definition of prune_list for reference:"
   ]
  },
  {
   "cell_type": "code",
   "execution_count": 9,
   "metadata": {
    "collapsed": true,
    "scrolled": false
   },
   "outputs": [],
   "source": [
    "def prune_list(thelist, theterms):\n",
    "    for theterm in theterms:\n",
    "        while True:\n",
    "            try:\n",
    "                thelist.pop(thelist.index(theterm))\n",
    "            except:\n",
    "                break\n",
    "    return thelist"
   ]
  },
  {
   "cell_type": "markdown",
   "metadata": {},
   "source": [
    "Finally, here's the function that takes the MEPS dataset, and a dataframe containing the column dictionary, and writes the dataset out into a comma separated values file:"
   ]
  },
  {
   "cell_type": "code",
   "execution_count": 10,
   "metadata": {
    "collapsed": true,
    "scrolled": false
   },
   "outputs": [],
   "source": [
    "def write_table(data,header,target,short=\"No\"):\n",
    "    if short!=\"No\":\n",
    "        data=data[:10]\n",
    "    data=prune_list(data,'')\n",
    "    header=header.sort(\"start\").copy()\n",
    "    header.index=list(range(len(header)))\n",
    "    with open(target,\"w\") as f:\n",
    "        for element in header[\"variable\"]:\n",
    "            f.write(\"%s, \"%element)\n",
    "        f.write(\"\\n\")\n",
    "    for row in data:\n",
    "        u=[row[(header[\"start\"].iloc[place]-1):(header[\"end\"].iloc[place])] for place in header.index]\n",
    "        with open(target,\"a\") as f:\n",
    "            writer=csv.writer(f)\n",
    "            writer.writerow(u)\n",
    "            #print(\"Done with row %s\"%data.index(row))\n"
   ]
  }
 ],
 "metadata": {
  "kernelspec": {
   "display_name": "Python 3",
   "language": "python",
   "name": "python3"
  },
  "language_info": {
   "codemirror_mode": {
    "name": "ipython",
    "version": 3
   },
   "file_extension": ".py",
   "mimetype": "text/x-python",
   "name": "python",
   "nbconvert_exporter": "python",
   "pygments_lexer": "ipython3",
   "version": "3.4.3"
  }
 },
 "nbformat": 4,
 "nbformat_minor": 0
}
