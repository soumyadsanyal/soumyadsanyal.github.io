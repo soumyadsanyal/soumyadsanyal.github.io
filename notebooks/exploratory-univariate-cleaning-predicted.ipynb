{
 "cells": [
  {
   "cell_type": "markdown",
   "metadata": {},
   "source": [
    "In the last post, I managed to construct the MEPS dataset as a csv file. [Here's](https://bitbucket.org/soumyadsanyal/insight_project/src/e9a85003b670600f89f0329d6a27c13093a1e695/data/2013_consolidated_frame.csv?at=master) the result, for reference. (Warning: the file is large: about 250MB.)\n",
    "\n",
    "The next thing to do is to take a look at the dataset, and see if we need to do any more processing. Since we have it written to disk as a csv file, I can import it using pandas' read_csv function. I may have to do a bit of plotting when I explore the dataset, so I'll go ahead and load all the packages I imagine I'll need for this.\n",
    "\n",
    "Here's the boilerplate:"
   ]
  },
  {
   "cell_type": "code",
   "execution_count": 1,
   "metadata": {
    "collapsed": false,
    "scrolled": false
   },
   "outputs": [],
   "source": [
    "import pandas as pd\n",
    "import numpy as np\n",
    "import matplotlib.pyplot as plt\n",
    "import matplotlib\n",
    "%matplotlib inline\n",
    "matplotlib.pylab.rcParams['figure.figsize'] = (10, 6)"
   ]
  },
  {
   "cell_type": "markdown",
   "metadata": {},
   "source": [
    "Let's load the dataset as a pandas dataframe and see what it contains:"
   ]
  },
  {
   "cell_type": "code",
   "execution_count": 2,
   "metadata": {
    "collapsed": false,
    "scrolled": false
   },
   "outputs": [
    {
     "name": "stdout",
     "output_type": "stream",
     "text": [
      "/home/soumya/research/insight/insight_project/data\n"
     ]
    }
   ],
   "source": [
    "cd /home/soumya/research/insight/insight_project/data/"
   ]
  },
  {
   "cell_type": "code",
   "execution_count": 3,
   "metadata": {
    "collapsed": false,
    "scrolled": false
   },
   "outputs": [
    {
     "name": "stdout",
     "output_type": "stream",
     "text": [
      "2013_consolidated_frame.csv     dsm_data_cleaned_columns.pkl\r\n",
      "2013_test_with_dummies.pkl      dsm_data.csv\r\n",
      "2013_train_with_dummies.pkl     dsm_data.pkl\r\n",
      "2013_validate_with_dummies.pkl  dsm_data_scoped_variables.pkl\r\n",
      "2013_with_dummies_.pkl          Untitled.ipynb\r\n",
      "2013_with_dummies.pkl\r\n"
     ]
    }
   ],
   "source": [
    "ls"
   ]
  },
  {
   "cell_type": "code",
   "execution_count": 4,
   "metadata": {
    "collapsed": false,
    "scrolled": false
   },
   "outputs": [],
   "source": [
    "data=pd.read_csv(\"./2013_consolidated_frame.csv\")"
   ]
  },
  {
   "cell_type": "markdown",
   "metadata": {},
   "source": [
    "First let's take a look at what features we have:"
   ]
  },
  {
   "cell_type": "code",
   "execution_count": 5,
   "metadata": {
    "collapsed": false,
    "scrolled": false
   },
   "outputs": [
    {
     "data": {
      "text/plain": [
       "Index(['DWELLING UNIT ID', ' PERSON NUMBER', ' PERSON ID (DUID + PID)',\n",
       "       ' PANEL NUMBER', ' FAMILY ID (STUDENT MERGED IN) - R3/1',\n",
       "       ' FAMILY ID (STUDENT MERGED IN) - R4/2',\n",
       "       ' FAMILY ID (STUDENT MERGED IN) - R5/3',\n",
       "       ' FAMILY ID (STUDENT MERGED IN) - 12/31/13',\n",
       "       ' ANNUAL FAMILY IDENTIFIER', ' CPSFAMID', \n",
       "       ...\n",
       "       ' TOTAL RX-PRV & TRI AMT 13', ' TOTAL RX-OTH COMBINED AMT 13',\n",
       "       ' FINAL PERSON WEIGHT 2013', ' FINAL FAMILY WEIGHT 2013',\n",
       "       ' POV ADJ FAMILY WGT-CPS FAM ON 12/31/13',\n",
       "       ' FINAL SAQ PERSON WEIGHT 2013',\n",
       "       ' FINAL DIABETES CARE SUPPLEMENT WEIGHT',\n",
       "       ' VARIANCE ESTIMATION STRATUM - 2013',\n",
       "       ' VARIANCE ESTIMATION PSU - 2013', ' '],\n",
       "      dtype='object', length=1792)"
      ]
     },
     "execution_count": 5,
     "metadata": {},
     "output_type": "execute_result"
    }
   ],
   "source": [
    "data.columns"
   ]
  },
  {
   "cell_type": "markdown",
   "metadata": {},
   "source": [
    "The first thing I get from this is that I need to learn what these features actually are, so I'll have to look up the MEPS survey methodology or documentation in order to figure out what these features actually are. There are 1792 features for each record, so this may be a bit involved.\n",
    "\n",
    "The second thing I get out of looking at the column names is that they really do need a bit of cleanup. For example, the first feature is called \"DWELLING UNIT ID\", but the second is called \" PERSON NUMBER\" (note the extra space at the beginning). This seems to be a running problem in the column names. There's also a column right at the end with no name.\n",
    "\n",
    "There are 1792 column names to fix, which is entirely too many to fix by hand.\n",
    "\n",
    "On the other hand, it looks like the cleanup consists of a couple of simple rules:\n",
    "\n",
    "    Remove the initial space in the feature name\n",
    "    Pop the last entry from the column names\n",
    "\n",
    "Let's write a function to do the first job:"
   ]
  },
  {
   "cell_type": "code",
   "execution_count": 6,
   "metadata": {
    "collapsed": true,
    "scrolled": false
   },
   "outputs": [],
   "source": [
    "def clean_columns(theframe):\n",
    "    temp=theframe.columns.map(lambda x: (((str(x).lstrip()).rstrip()))).copy()\n",
    "    theframe.columns=temp\n",
    "    return theframe"
   ]
  },
  {
   "cell_type": "markdown",
   "metadata": {},
   "source": [
    "Let's try this on our dataframe and see if it does the first task."
   ]
  },
  {
   "cell_type": "code",
   "execution_count": 7,
   "metadata": {
    "collapsed": false,
    "scrolled": false
   },
   "outputs": [
    {
     "data": {
      "text/html": [
       "<div>\n",
       "<table border=\"1\" class=\"dataframe\">\n",
       "  <thead>\n",
       "    <tr style=\"text-align: right;\">\n",
       "      <th></th>\n",
       "      <th>DWELLING UNIT ID</th>\n",
       "      <th>PERSON NUMBER</th>\n",
       "      <th>PERSON ID (DUID + PID)</th>\n",
       "      <th>PANEL NUMBER</th>\n",
       "      <th>FAMILY ID (STUDENT MERGED IN) - R3/1</th>\n",
       "      <th>FAMILY ID (STUDENT MERGED IN) - R4/2</th>\n",
       "      <th>FAMILY ID (STUDENT MERGED IN) - R5/3</th>\n",
       "      <th>FAMILY ID (STUDENT MERGED IN) - 12/31/13</th>\n",
       "      <th>ANNUAL FAMILY IDENTIFIER</th>\n",
       "      <th>CPSFAMID</th>\n",
       "      <th>...</th>\n",
       "      <th>TOTAL RX-PRV &amp; TRI AMT 13</th>\n",
       "      <th>TOTAL RX-OTH COMBINED AMT 13</th>\n",
       "      <th>FINAL PERSON WEIGHT 2013</th>\n",
       "      <th>FINAL FAMILY WEIGHT 2013</th>\n",
       "      <th>POV ADJ FAMILY WGT-CPS FAM ON 12/31/13</th>\n",
       "      <th>FINAL SAQ PERSON WEIGHT 2013</th>\n",
       "      <th>FINAL DIABETES CARE SUPPLEMENT WEIGHT</th>\n",
       "      <th>VARIANCE ESTIMATION STRATUM - 2013</th>\n",
       "      <th>VARIANCE ESTIMATION PSU - 2013</th>\n",
       "      <th></th>\n",
       "    </tr>\n",
       "  </thead>\n",
       "  <tbody>\n",
       "    <tr>\n",
       "      <th>0</th>\n",
       "      <td>20004</td>\n",
       "      <td>101</td>\n",
       "      <td>20004101</td>\n",
       "      <td>17</td>\n",
       "      <td>A</td>\n",
       "      <td>A</td>\n",
       "      <td>A</td>\n",
       "      <td>A</td>\n",
       "      <td>A</td>\n",
       "      <td>A</td>\n",
       "      <td>...</td>\n",
       "      <td>0</td>\n",
       "      <td>0</td>\n",
       "      <td>6594.801768</td>\n",
       "      <td>6263.398994</td>\n",
       "      <td>6263.398994</td>\n",
       "      <td>7960.062940</td>\n",
       "      <td>0</td>\n",
       "      <td>1109</td>\n",
       "      <td>1</td>\n",
       "      <td>NaN</td>\n",
       "    </tr>\n",
       "    <tr>\n",
       "      <th>1</th>\n",
       "      <td>20004</td>\n",
       "      <td>102</td>\n",
       "      <td>20004102</td>\n",
       "      <td>17</td>\n",
       "      <td>A</td>\n",
       "      <td>A</td>\n",
       "      <td>A</td>\n",
       "      <td>A</td>\n",
       "      <td>A</td>\n",
       "      <td>A</td>\n",
       "      <td>...</td>\n",
       "      <td>0</td>\n",
       "      <td>0</td>\n",
       "      <td>7144.183132</td>\n",
       "      <td>6263.398994</td>\n",
       "      <td>6263.398994</td>\n",
       "      <td>7971.337575</td>\n",
       "      <td>0</td>\n",
       "      <td>1109</td>\n",
       "      <td>1</td>\n",
       "      <td>NaN</td>\n",
       "    </tr>\n",
       "    <tr>\n",
       "      <th>2</th>\n",
       "      <td>20004</td>\n",
       "      <td>103</td>\n",
       "      <td>20004103</td>\n",
       "      <td>17</td>\n",
       "      <td>A</td>\n",
       "      <td>A</td>\n",
       "      <td>A</td>\n",
       "      <td>A</td>\n",
       "      <td>A</td>\n",
       "      <td>A</td>\n",
       "      <td>...</td>\n",
       "      <td>77</td>\n",
       "      <td>0</td>\n",
       "      <td>5616.278666</td>\n",
       "      <td>6263.398994</td>\n",
       "      <td>6263.398994</td>\n",
       "      <td>0.000000</td>\n",
       "      <td>0</td>\n",
       "      <td>1109</td>\n",
       "      <td>1</td>\n",
       "      <td>NaN</td>\n",
       "    </tr>\n",
       "    <tr>\n",
       "      <th>3</th>\n",
       "      <td>20005</td>\n",
       "      <td>101</td>\n",
       "      <td>20005101</td>\n",
       "      <td>17</td>\n",
       "      <td>A</td>\n",
       "      <td>A</td>\n",
       "      <td>A</td>\n",
       "      <td>A</td>\n",
       "      <td>A</td>\n",
       "      <td>A</td>\n",
       "      <td>...</td>\n",
       "      <td>0</td>\n",
       "      <td>53</td>\n",
       "      <td>4045.586998</td>\n",
       "      <td>6080.690177</td>\n",
       "      <td>6080.690177</td>\n",
       "      <td>5604.764494</td>\n",
       "      <td>0</td>\n",
       "      <td>1109</td>\n",
       "      <td>2</td>\n",
       "      <td>NaN</td>\n",
       "    </tr>\n",
       "    <tr>\n",
       "      <th>4</th>\n",
       "      <td>20005</td>\n",
       "      <td>102</td>\n",
       "      <td>20005102</td>\n",
       "      <td>17</td>\n",
       "      <td>A</td>\n",
       "      <td>A</td>\n",
       "      <td>A</td>\n",
       "      <td>A</td>\n",
       "      <td>A</td>\n",
       "      <td>A</td>\n",
       "      <td>...</td>\n",
       "      <td>0</td>\n",
       "      <td>0</td>\n",
       "      <td>6901.505814</td>\n",
       "      <td>6080.690177</td>\n",
       "      <td>6080.690177</td>\n",
       "      <td>7781.609891</td>\n",
       "      <td>0</td>\n",
       "      <td>1109</td>\n",
       "      <td>2</td>\n",
       "      <td>NaN</td>\n",
       "    </tr>\n",
       "  </tbody>\n",
       "</table>\n",
       "<p>5 rows × 1792 columns</p>\n",
       "</div>"
      ],
      "text/plain": [
       "   DWELLING UNIT ID  PERSON NUMBER  PERSON ID (DUID + PID)  PANEL NUMBER  \\\n",
       "0             20004            101                20004101            17   \n",
       "1             20004            102                20004102            17   \n",
       "2             20004            103                20004103            17   \n",
       "3             20005            101                20005101            17   \n",
       "4             20005            102                20005102            17   \n",
       "\n",
       "  FAMILY ID (STUDENT MERGED IN) - R3/1 FAMILY ID (STUDENT MERGED IN) - R4/2  \\\n",
       "0                                   A                                    A    \n",
       "1                                   A                                    A    \n",
       "2                                   A                                    A    \n",
       "3                                   A                                    A    \n",
       "4                                   A                                    A    \n",
       "\n",
       "  FAMILY ID (STUDENT MERGED IN) - R5/3  \\\n",
       "0                                   A    \n",
       "1                                   A    \n",
       "2                                   A    \n",
       "3                                   A    \n",
       "4                                   A    \n",
       "\n",
       "  FAMILY ID (STUDENT MERGED IN) - 12/31/13 ANNUAL FAMILY IDENTIFIER CPSFAMID  \\\n",
       "0                                       A                        A        A    \n",
       "1                                       A                        A        A    \n",
       "2                                       A                        A        A    \n",
       "3                                       A                        A        A    \n",
       "4                                       A                        A        A    \n",
       "\n",
       "  ...  TOTAL RX-PRV & TRI AMT 13  TOTAL RX-OTH COMBINED AMT 13  \\\n",
       "0 ...                          0                             0   \n",
       "1 ...                          0                             0   \n",
       "2 ...                         77                             0   \n",
       "3 ...                          0                            53   \n",
       "4 ...                          0                             0   \n",
       "\n",
       "  FINAL PERSON WEIGHT 2013 FINAL FAMILY WEIGHT 2013  \\\n",
       "0              6594.801768              6263.398994   \n",
       "1              7144.183132              6263.398994   \n",
       "2              5616.278666              6263.398994   \n",
       "3              4045.586998              6080.690177   \n",
       "4              6901.505814              6080.690177   \n",
       "\n",
       "  POV ADJ FAMILY WGT-CPS FAM ON 12/31/13 FINAL SAQ PERSON WEIGHT 2013  \\\n",
       "0                            6263.398994                  7960.062940   \n",
       "1                            6263.398994                  7971.337575   \n",
       "2                            6263.398994                     0.000000   \n",
       "3                            6080.690177                  5604.764494   \n",
       "4                            6080.690177                  7781.609891   \n",
       "\n",
       "   FINAL DIABETES CARE SUPPLEMENT WEIGHT  VARIANCE ESTIMATION STRATUM - 2013  \\\n",
       "0                                      0                                1109   \n",
       "1                                      0                                1109   \n",
       "2                                      0                                1109   \n",
       "3                                      0                                1109   \n",
       "4                                      0                                1109   \n",
       "\n",
       "   VARIANCE ESTIMATION PSU - 2013      \n",
       "0                               1 NaN  \n",
       "1                               1 NaN  \n",
       "2                               1 NaN  \n",
       "3                               2 NaN  \n",
       "4                               2 NaN  \n",
       "\n",
       "[5 rows x 1792 columns]"
      ]
     },
     "execution_count": 7,
     "metadata": {},
     "output_type": "execute_result"
    }
   ],
   "source": [
    "data1=clean_columns(data)\n",
    "data1.head()"
   ]
  },
  {
   "cell_type": "markdown",
   "metadata": {},
   "source": [
    "So far so good; now I just need to get rid of the last column."
   ]
  },
  {
   "cell_type": "code",
   "execution_count": 8,
   "metadata": {
    "collapsed": false,
    "scrolled": false
   },
   "outputs": [
    {
     "data": {
      "text/html": [
       "<div>\n",
       "<table border=\"1\" class=\"dataframe\">\n",
       "  <thead>\n",
       "    <tr style=\"text-align: right;\">\n",
       "      <th></th>\n",
       "      <th>DWELLING UNIT ID</th>\n",
       "      <th>PERSON NUMBER</th>\n",
       "      <th>PERSON ID (DUID + PID)</th>\n",
       "      <th>PANEL NUMBER</th>\n",
       "      <th>FAMILY ID (STUDENT MERGED IN) - R3/1</th>\n",
       "      <th>FAMILY ID (STUDENT MERGED IN) - R4/2</th>\n",
       "      <th>FAMILY ID (STUDENT MERGED IN) - R5/3</th>\n",
       "      <th>FAMILY ID (STUDENT MERGED IN) - 12/31/13</th>\n",
       "      <th>ANNUAL FAMILY IDENTIFIER</th>\n",
       "      <th>CPSFAMID</th>\n",
       "      <th>...</th>\n",
       "      <th>TOT RX-OTH UNCLASS SRCE AMT 13</th>\n",
       "      <th>TOTAL RX-PRV &amp; TRI AMT 13</th>\n",
       "      <th>TOTAL RX-OTH COMBINED AMT 13</th>\n",
       "      <th>FINAL PERSON WEIGHT 2013</th>\n",
       "      <th>FINAL FAMILY WEIGHT 2013</th>\n",
       "      <th>POV ADJ FAMILY WGT-CPS FAM ON 12/31/13</th>\n",
       "      <th>FINAL SAQ PERSON WEIGHT 2013</th>\n",
       "      <th>FINAL DIABETES CARE SUPPLEMENT WEIGHT</th>\n",
       "      <th>VARIANCE ESTIMATION STRATUM - 2013</th>\n",
       "      <th>VARIANCE ESTIMATION PSU - 2013</th>\n",
       "    </tr>\n",
       "  </thead>\n",
       "  <tbody>\n",
       "    <tr>\n",
       "      <th>0</th>\n",
       "      <td>20004</td>\n",
       "      <td>101</td>\n",
       "      <td>20004101</td>\n",
       "      <td>17</td>\n",
       "      <td>A</td>\n",
       "      <td>A</td>\n",
       "      <td>A</td>\n",
       "      <td>A</td>\n",
       "      <td>A</td>\n",
       "      <td>A</td>\n",
       "      <td>...</td>\n",
       "      <td>0</td>\n",
       "      <td>0</td>\n",
       "      <td>0</td>\n",
       "      <td>6594.801768</td>\n",
       "      <td>6263.398994</td>\n",
       "      <td>6263.398994</td>\n",
       "      <td>7960.062940</td>\n",
       "      <td>0</td>\n",
       "      <td>1109</td>\n",
       "      <td>1</td>\n",
       "    </tr>\n",
       "    <tr>\n",
       "      <th>1</th>\n",
       "      <td>20004</td>\n",
       "      <td>102</td>\n",
       "      <td>20004102</td>\n",
       "      <td>17</td>\n",
       "      <td>A</td>\n",
       "      <td>A</td>\n",
       "      <td>A</td>\n",
       "      <td>A</td>\n",
       "      <td>A</td>\n",
       "      <td>A</td>\n",
       "      <td>...</td>\n",
       "      <td>0</td>\n",
       "      <td>0</td>\n",
       "      <td>0</td>\n",
       "      <td>7144.183132</td>\n",
       "      <td>6263.398994</td>\n",
       "      <td>6263.398994</td>\n",
       "      <td>7971.337575</td>\n",
       "      <td>0</td>\n",
       "      <td>1109</td>\n",
       "      <td>1</td>\n",
       "    </tr>\n",
       "    <tr>\n",
       "      <th>2</th>\n",
       "      <td>20004</td>\n",
       "      <td>103</td>\n",
       "      <td>20004103</td>\n",
       "      <td>17</td>\n",
       "      <td>A</td>\n",
       "      <td>A</td>\n",
       "      <td>A</td>\n",
       "      <td>A</td>\n",
       "      <td>A</td>\n",
       "      <td>A</td>\n",
       "      <td>...</td>\n",
       "      <td>0</td>\n",
       "      <td>77</td>\n",
       "      <td>0</td>\n",
       "      <td>5616.278666</td>\n",
       "      <td>6263.398994</td>\n",
       "      <td>6263.398994</td>\n",
       "      <td>0.000000</td>\n",
       "      <td>0</td>\n",
       "      <td>1109</td>\n",
       "      <td>1</td>\n",
       "    </tr>\n",
       "    <tr>\n",
       "      <th>3</th>\n",
       "      <td>20005</td>\n",
       "      <td>101</td>\n",
       "      <td>20005101</td>\n",
       "      <td>17</td>\n",
       "      <td>A</td>\n",
       "      <td>A</td>\n",
       "      <td>A</td>\n",
       "      <td>A</td>\n",
       "      <td>A</td>\n",
       "      <td>A</td>\n",
       "      <td>...</td>\n",
       "      <td>0</td>\n",
       "      <td>0</td>\n",
       "      <td>53</td>\n",
       "      <td>4045.586998</td>\n",
       "      <td>6080.690177</td>\n",
       "      <td>6080.690177</td>\n",
       "      <td>5604.764494</td>\n",
       "      <td>0</td>\n",
       "      <td>1109</td>\n",
       "      <td>2</td>\n",
       "    </tr>\n",
       "    <tr>\n",
       "      <th>4</th>\n",
       "      <td>20005</td>\n",
       "      <td>102</td>\n",
       "      <td>20005102</td>\n",
       "      <td>17</td>\n",
       "      <td>A</td>\n",
       "      <td>A</td>\n",
       "      <td>A</td>\n",
       "      <td>A</td>\n",
       "      <td>A</td>\n",
       "      <td>A</td>\n",
       "      <td>...</td>\n",
       "      <td>0</td>\n",
       "      <td>0</td>\n",
       "      <td>0</td>\n",
       "      <td>6901.505814</td>\n",
       "      <td>6080.690177</td>\n",
       "      <td>6080.690177</td>\n",
       "      <td>7781.609891</td>\n",
       "      <td>0</td>\n",
       "      <td>1109</td>\n",
       "      <td>2</td>\n",
       "    </tr>\n",
       "  </tbody>\n",
       "</table>\n",
       "<p>5 rows × 1791 columns</p>\n",
       "</div>"
      ],
      "text/plain": [
       "   DWELLING UNIT ID  PERSON NUMBER  PERSON ID (DUID + PID)  PANEL NUMBER  \\\n",
       "0             20004            101                20004101            17   \n",
       "1             20004            102                20004102            17   \n",
       "2             20004            103                20004103            17   \n",
       "3             20005            101                20005101            17   \n",
       "4             20005            102                20005102            17   \n",
       "\n",
       "  FAMILY ID (STUDENT MERGED IN) - R3/1 FAMILY ID (STUDENT MERGED IN) - R4/2  \\\n",
       "0                                   A                                    A    \n",
       "1                                   A                                    A    \n",
       "2                                   A                                    A    \n",
       "3                                   A                                    A    \n",
       "4                                   A                                    A    \n",
       "\n",
       "  FAMILY ID (STUDENT MERGED IN) - R5/3  \\\n",
       "0                                   A    \n",
       "1                                   A    \n",
       "2                                   A    \n",
       "3                                   A    \n",
       "4                                   A    \n",
       "\n",
       "  FAMILY ID (STUDENT MERGED IN) - 12/31/13 ANNUAL FAMILY IDENTIFIER CPSFAMID  \\\n",
       "0                                       A                        A        A    \n",
       "1                                       A                        A        A    \n",
       "2                                       A                        A        A    \n",
       "3                                       A                        A        A    \n",
       "4                                       A                        A        A    \n",
       "\n",
       "                ...                TOT RX-OTH UNCLASS SRCE AMT 13  \\\n",
       "0               ...                                             0   \n",
       "1               ...                                             0   \n",
       "2               ...                                             0   \n",
       "3               ...                                             0   \n",
       "4               ...                                             0   \n",
       "\n",
       "   TOTAL RX-PRV & TRI AMT 13 TOTAL RX-OTH COMBINED AMT 13  \\\n",
       "0                          0                            0   \n",
       "1                          0                            0   \n",
       "2                         77                            0   \n",
       "3                          0                           53   \n",
       "4                          0                            0   \n",
       "\n",
       "  FINAL PERSON WEIGHT 2013 FINAL FAMILY WEIGHT 2013  \\\n",
       "0              6594.801768              6263.398994   \n",
       "1              7144.183132              6263.398994   \n",
       "2              5616.278666              6263.398994   \n",
       "3              4045.586998              6080.690177   \n",
       "4              6901.505814              6080.690177   \n",
       "\n",
       "  POV ADJ FAMILY WGT-CPS FAM ON 12/31/13  FINAL SAQ PERSON WEIGHT 2013  \\\n",
       "0                            6263.398994                   7960.062940   \n",
       "1                            6263.398994                   7971.337575   \n",
       "2                            6263.398994                      0.000000   \n",
       "3                            6080.690177                   5604.764494   \n",
       "4                            6080.690177                   7781.609891   \n",
       "\n",
       "   FINAL DIABETES CARE SUPPLEMENT WEIGHT  VARIANCE ESTIMATION STRATUM - 2013  \\\n",
       "0                                      0                                1109   \n",
       "1                                      0                                1109   \n",
       "2                                      0                                1109   \n",
       "3                                      0                                1109   \n",
       "4                                      0                                1109   \n",
       "\n",
       "   VARIANCE ESTIMATION PSU - 2013  \n",
       "0                               1  \n",
       "1                               1  \n",
       "2                               1  \n",
       "3                               2  \n",
       "4                               2  \n",
       "\n",
       "[5 rows x 1791 columns]"
      ]
     },
     "execution_count": 8,
     "metadata": {},
     "output_type": "execute_result"
    }
   ],
   "source": [
    "data1=data1.drop(\"\",axis=1)\n",
    "data1.head()"
   ]
  },
  {
   "cell_type": "markdown",
   "metadata": {},
   "source": [
    "Great, that worked. Alright, let's roll that into the clean_columns function:"
   ]
  },
  {
   "cell_type": "code",
   "execution_count": 9,
   "metadata": {
    "collapsed": true,
    "scrolled": false
   },
   "outputs": [],
   "source": [
    "def clean_columns(theframe):\n",
    "    temp=theframe.columns.map(lambda x: (((str(x).lstrip()).rstrip()))).copy()\n",
    "    theframe.columns=temp\n",
    "    theframe=theframe.drop(\"\",axis=1)\n",
    "    return theframe"
   ]
  },
  {
   "cell_type": "code",
   "execution_count": 10,
   "metadata": {
    "collapsed": false,
    "scrolled": false
   },
   "outputs": [],
   "source": [
    "data=clean_columns(data)"
   ]
  },
  {
   "cell_type": "code",
   "execution_count": 11,
   "metadata": {
    "collapsed": false,
    "scrolled": false
   },
   "outputs": [
    {
     "data": {
      "text/plain": [
       "Index(['DWELLING UNIT ID', 'PERSON NUMBER', 'PERSON ID (DUID + PID)',\n",
       "       'PANEL NUMBER', 'FAMILY ID (STUDENT MERGED IN) - R3/1',\n",
       "       'FAMILY ID (STUDENT MERGED IN) - R4/2',\n",
       "       'FAMILY ID (STUDENT MERGED IN) - R5/3',\n",
       "       'FAMILY ID (STUDENT MERGED IN) - 12/31/13', 'ANNUAL FAMILY IDENTIFIER',\n",
       "       'CPSFAMID', \n",
       "       ...\n",
       "       'TOT RX-OTH UNCLASS SRCE AMT 13', 'TOTAL RX-PRV & TRI AMT 13',\n",
       "       'TOTAL RX-OTH COMBINED AMT 13', 'FINAL PERSON WEIGHT 2013',\n",
       "       'FINAL FAMILY WEIGHT 2013', 'POV ADJ FAMILY WGT-CPS FAM ON 12/31/13',\n",
       "       'FINAL SAQ PERSON WEIGHT 2013', 'FINAL DIABETES CARE SUPPLEMENT WEIGHT',\n",
       "       'VARIANCE ESTIMATION STRATUM - 2013', 'VARIANCE ESTIMATION PSU - 2013'],\n",
       "      dtype='object', length=1791)"
      ]
     },
     "execution_count": 11,
     "metadata": {},
     "output_type": "execute_result"
    }
   ],
   "source": [
    "data.columns"
   ]
  },
  {
   "cell_type": "markdown",
   "metadata": {},
   "source": [
    "Perfect.\n",
    "\n",
    "One thing worth remarking on is that I've actually extracted the variable **description** rather than the variable name in this step. This was a deliberate decision, as I find it much more intuitive to work with variable names like \"MOST RECENT COLONOSCOPY (>39) - R5/3\" rather than the variable name \"CLNTST53\". Those of you familiar with the constraints of variable names in SQL databases will object that this is going to cause trouble in the future. I decided to go with the more descriptive variable names, and write a coding-decoding function to help move data in and out of SQL databases a bit later in the project. Overall, I found this to be a reasonable choice.\n",
    "\n",
    "To this end, let me go ahead and get rid of the spaces in the variables names before that causes any bugs down the road."
   ]
  },
  {
   "cell_type": "code",
   "execution_count": 12,
   "metadata": {
    "collapsed": true
   },
   "outputs": [],
   "source": [
    "def underscore_the_headers(data):\n",
    "    temp=(data.columns).copy()\n",
    "    result=[term.replace(' ','_') for term in temp]\n",
    "    data.columns=result.copy()\n",
    "    return data"
   ]
  },
  {
   "cell_type": "markdown",
   "metadata": {},
   "source": [
    "Let's run the data columns through this function:"
   ]
  },
  {
   "cell_type": "code",
   "execution_count": 13,
   "metadata": {
    "collapsed": true
   },
   "outputs": [],
   "source": [
    "data=underscore_the_headers(data)"
   ]
  },
  {
   "cell_type": "code",
   "execution_count": 14,
   "metadata": {
    "collapsed": false
   },
   "outputs": [
    {
     "data": {
      "text/plain": [
       "Index(['DWELLING_UNIT_ID', 'PERSON_NUMBER', 'PERSON_ID_(DUID_+_PID)',\n",
       "       'PANEL_NUMBER', 'FAMILY_ID_(STUDENT_MERGED_IN)_-_R3/1',\n",
       "       'FAMILY_ID_(STUDENT_MERGED_IN)_-_R4/2',\n",
       "       'FAMILY_ID_(STUDENT_MERGED_IN)_-_R5/3',\n",
       "       'FAMILY_ID_(STUDENT_MERGED_IN)_-_12/31/13', 'ANNUAL_FAMILY_IDENTIFIER',\n",
       "       'CPSFAMID', \n",
       "       ...\n",
       "       'TOT_RX-OTH_UNCLASS_SRCE_AMT_13', 'TOTAL_RX-PRV_&_TRI_AMT_13',\n",
       "       'TOTAL_RX-OTH_COMBINED_AMT_13', 'FINAL_PERSON_WEIGHT_2013',\n",
       "       'FINAL_FAMILY_WEIGHT_2013', 'POV_ADJ_FAMILY_WGT-CPS_FAM_ON_12/31/13',\n",
       "       'FINAL_SAQ_PERSON_WEIGHT_2013', 'FINAL_DIABETES_CARE_SUPPLEMENT_WEIGHT',\n",
       "       'VARIANCE_ESTIMATION_STRATUM_-_2013', 'VARIANCE_ESTIMATION_PSU_-_2013'],\n",
       "      dtype='object', length=1791)"
      ]
     },
     "execution_count": 14,
     "metadata": {},
     "output_type": "execute_result"
    }
   ],
   "source": [
    "data.columns"
   ]
  },
  {
   "cell_type": "markdown",
   "metadata": {},
   "source": [
    "Great!"
   ]
  },
  {
   "cell_type": "markdown",
   "metadata": {},
   "source": [
    "Next, I'd like to learn a bit more about what these features are. The main thing to keep in mind is that having a large number of features will make our model very unwieldy. \n",
    "\n",
    "The crucial thing for this model is for it to be as **useful** as possible, and if I have to collect 1700 features or so about a person before I can give them any useful feedback, this model won't be used by anyone.\n",
    "\n",
    "Secondly, for the purposes of my project, I'm most concerned with how the demographic, economic, or health status of a consumer drives cost, since these are the things that can inform how we choose to design the market for healthcare services.\n",
    "\n"
   ]
  },
  {
   "cell_type": "markdown",
   "metadata": {},
   "source": [
    "To this end, let's take a look at what's available at the MEPS [page](http://meps.ahrq.gov/mepsweb/data_stats/download_data_files_detail.jsp?cboPufNumber=HC-163) that points to the dataset. This page gives us two helpful pieces of information: the first is the [documentation](http://meps.ahrq.gov/mepsweb/data_stats/download_data/pufs/h163/h163doc.shtml) for the dataset  and the second is the [codebook](http://meps.ahrq.gov/mepsweb/data_stats/download_data_files_codebook.jsp?PUFId=H163), which we've already used in constructing the csv file.\n",
    "\n",
    "While the codebook contains the entire listing of variables in the dataset and the start-end points in the ASCII file, it does not tell us what values the variables actually take. To be fair, the variable names are fairly descriptive so we might be able to make educated guesses here, but a quick query of one of the columns in the dataset we've constructed:\n",
    "\n"
   ]
  },
  {
   "cell_type": "code",
   "execution_count": 15,
   "metadata": {
    "collapsed": false,
    "scrolled": false
   },
   "outputs": [
    {
     "data": {
      "text/plain": [
       "count    36940.000000\n",
       "mean         0.928533\n",
       "std          1.355903\n",
       "min         -9.000000\n",
       "25%         -1.000000\n",
       "50%          2.000000\n",
       "75%          2.000000\n",
       "max          2.000000\n",
       "Name: HIGH_CHOLESTEROL_DIAGNOSIS_(>17), dtype: float64"
      ]
     },
     "execution_count": 15,
     "metadata": {},
     "output_type": "execute_result"
    }
   ],
   "source": [
    "data[\"HIGH_CHOLESTEROL_DIAGNOSIS_(>17)\"].describe()"
   ]
  },
  {
   "cell_type": "markdown",
   "metadata": {},
   "source": [
    "raises the question: what do the values of this variable mean? It has a max of 2, and a min of -9. That doesn't correspond to any prior I currently have over the values of a diagnosis of high cholesterol. I'd expect to see things like positive, negative, not tested, and so on. Let's take a more detailed look:"
   ]
  },
  {
   "cell_type": "code",
   "execution_count": 16,
   "metadata": {
    "collapsed": false,
    "scrolled": false
   },
   "outputs": [
    {
     "data": {
      "text/plain": [
       " 2    18967\n",
       "-1    10382\n",
       " 1     7497\n",
       "-8       49\n",
       "-7       24\n",
       "-9       21\n",
       "dtype: int64"
      ]
     },
     "execution_count": 16,
     "metadata": {},
     "output_type": "execute_result"
    }
   ],
   "source": [
    "data[\"HIGH_CHOLESTEROL_DIAGNOSIS_(>17)\"].value_counts()"
   ]
  },
  {
   "cell_type": "markdown",
   "metadata": {},
   "source": [
    "The most frequently populated values are 2, 1 and -1, but there are also records with values -8, -7 and -9.\n",
    "\n",
    "This warrants a closer look at the documentation. A quick search for \"cholesterol\" turns up:\n",
    "\n",
    "    High Cholesterol\n",
    "\n",
    "    Questions about high cholesterol were asked of persons aged 18 or older. Consequently, persons aged 17 or younger were coded as “Inapplicable” (-1) on these variables. CHOLDX ascertained whether the person had ever been diagnosed as having high cholesterol. Through 2007, a person-level variable (CHLAGE) indicated the age of diagnosis for high cholesterol on the Person-Level Use PUF. The age of diagnosis for high cholesterol (CHOLAGED) is included in this file. This variable is top-coded to 85 years of age.\n",
    "\n",
    "\n",
    "\n",
    "which is somewhat helpful, but doesn't explain the use of the values -8 and -9.\n",
    "\n",
    "Further digging into the documentation yields the following table:\n",
    "\n",
    "    2.2 Reserved Codes\n",
    "\n",
    "    The following reserved code values are used:\n",
    "\n",
    "    Value \tDefinition\n",
    "    -1 INAPPLICABLE \tQuestion was not asked due to skip pattern\n",
    "    -2 DETERMINED IN PREVIOUS ROUND \tQuestion was not asked in round because there was no change in current main job since previous round\n",
    "    -7 REFUSED \tQuestion was asked and respondent refused to answer question\n",
    "    -8 DK \tQuestion was asked and respondent did not know answer\n",
    "    -9 NOT ASCERTAINED \tInterviewer did not record the data\n",
    "    -10 HOURLY WAGE >= $76.96 \tHourly wage was top-coded for confidentiality\n",
    "    -13 INITIAL WAGE IMPUTED \tHourly wage was previously imputed so an updated wage is not included in this file\n",
    "\n",
    "This is helpful; it indicates that the most relevant levels for our analysis ought to be the following three:\n",
    "\n",
    "1. Positive diagnosis of high cholesterol\n",
    "2. Negative diagnosis of high cholesterol\n",
    "3. Inapplicable to respondent\n",
    "\n",
    "and given the low population in levels below -1, we can either aggregate these data points with level==-1, or discard them entirely. In the following analysis, we choose to discard them.\n",
    "\n",
    "A final question that needs to be asked at this step is which level corresponds to a positive diagnosis of high cholesterol? A close look at the documentation indicates that level==1 corresponds to having the condition, and level==2 corresponds to not having the condition. Knowing which level is which doesn't particularly affect the computations that generate our models going forward, but it is important for being able to interpret the models.\n",
    "\n",
    "As a quick sanity check, let's get a visualization of the distribution of the data between these levels:"
   ]
  },
  {
   "cell_type": "code",
   "execution_count": 17,
   "metadata": {
    "collapsed": false,
    "scrolled": false
   },
   "outputs": [
    {
     "data": {
      "text/plain": [
       "<matplotlib.axes._subplots.AxesSubplot at 0x7efd06e86860>"
      ]
     },
     "execution_count": 17,
     "metadata": {},
     "output_type": "execute_result"
    },
    {
     "data": {
      "image/png": "[encoded data removed]",
      "text/plain": [
       "<matplotlib.figure.Figure at 0x7efd06e86160>"
      ]
     },
     "metadata": {},
     "output_type": "display_data"
    }
   ],
   "source": [
    "data[\"HIGH_CHOLESTEROL_DIAGNOSIS_(>17)\"].hist(bins=100, weights=data[\"FINAL_PERSON_WEIGHT_2013\"])"
   ]
  },
  {
   "cell_type": "markdown",
   "metadata": {},
   "source": [
    "Of the respondents for whom the question was applicable, it looks like the ratio of level==1 to level==2 is 7/17 or about 2/5. This is close to the CDC estimates of the prevalence of high cholesterol amongst American adults: http://www.cdc.gov/dhdsp/data_statistics/fact_sheets/fs_cholesterol.htm ."
   ]
  },
  {
   "cell_type": "markdown",
   "metadata": {},
   "source": [
    "Next, instead of using level==1 or level==2 to describe the values that a categorical feature takes, I'd like to translate the levels of these categorical variables into their descriptions so my plots are easier to read.\n",
    "\n",
    "Here's a dictionary that implements this using the documentation quoted above:"
   ]
  },
  {
   "cell_type": "code",
   "execution_count": 18,
   "metadata": {
    "collapsed": false
   },
   "outputs": [],
   "source": [
    "interpretation={}\n",
    "\n",
    "interpretation[\"categorical\"]={\n",
    "                1: \"Yes\",\n",
    "                2: \"No\",\n",
    "                -1: \"Inapplicable\",\n",
    "                -2: \"Determined in previous round\",\n",
    "                -7: \"Refused\",\n",
    "                -8: \"Don't know\",\n",
    "                -9: \"Not ascertained\",\n",
    "                -10: \"HOURLY WAGE >= $76.96\",\n",
    "                -13: \"INITIAL WAGE IMPUTED\"\n",
    "                }\n",
    "\n",
    "interpretation[\"RACE/ETHNICITY_(EDITED/IMPUTED)\"]={1: \"HISPANIC\",\n",
    "                        2: \"NON-HISPANIC WHITE ONLY\",\n",
    "                        3: \"NON-HISPANIC BLACK ONLY\",\n",
    "                        4: \"NON-HISPANIC ASIAN ONLY\",\n",
    "                        5: \"NON-HISPANIC OTHER RACE OR MULTIPLE RACE\"\n",
    "                        }\n",
    "\n",
    "interpretation[\"SEX\"]={1: \"MALE\", 2: \"FEMALE\"}\n",
    "\n",
    "interpretation[\"MARITAL_STATUS-12/31/13_(EDITED/IMPUTED)\"]={-9: \"NOT ASCERTAINED\",\n",
    "                           -8: \"DK\",\n",
    "                           -7: \"REFUSED\",\n",
    "                           1: \"MARRIED\",\n",
    "                           2: \"WIDOWED\",\n",
    "                           3: \"DIVORCED\",\n",
    "                           4: \"SEPARATED\",\n",
    "                           5: \"NEVER MARRIED\",\n",
    "                           6: \"UNDER 16 - INAPPLICABLE\"\n",
    "                          }\n",
    "\n",
    "interpretation[\"EDUCATION_RECODE_(EDITED)\"]={-9: \"NOT ASCERTAINED\",\n",
    "                             -8: \"DK\",\n",
    "                             -7: \"REFUSED\",\n",
    "                             -1: \"INAPPLICABLE OR UNDER 5\",\n",
    "                             1: \"LESS THAN/EQUAL TO 8TH GRADE\",\n",
    "                             2: \"9 - 12TH GRADE, NO HS DIPLOMA OR GED\",\n",
    "                             13: \"GED OR HS GRAD\",\n",
    "                             14: \"BEYOND HS,COLLEGE(NO 4YR DEG),ASSOC DEG\",\n",
    "                             15: \"4-YEAR COLLEGE DEGREE, BACHELOR'S DEGREE\",\n",
    "                             16: \"MASTER'S, DOCTORATE, OR PROFESSIONAL DEG\"\n",
    "                             }\n",
    "\n",
    "interpretation[\"INDUSTRY_GROUP_RD_3/1_CMJ\"]={-9: \"NOT ASCERTAINED\",\n",
    "                            -1: \"INAPPLICABLE\",\n",
    "                            1: \"NATURAL RESOURCES\",\n",
    "                            2: \"MINING\",\n",
    "                            3: \"CONSTRUCTION\",\n",
    "                            4: \"MANUFACTURING\",\n",
    "                            5: \"WHOLESALE AND RETAIL TRADE\",\n",
    "                            6: \"TRANSPORTATION AND UTILITIES\",\n",
    "                            7: \"INFORMATION\",\n",
    "                            8: \"FINANCIAL ACTIVITIES\",\n",
    "                            9: \"PROFESSIONAL AND BUSINESS SERVICES\",\n",
    "                            10: \"EDUCATION, HEALTH, AND SOCIAL SERVICES\",\n",
    "                            11: \"LEISURE AND HOSPITALITY\",\n",
    "                            12: \"OTHER SERVICES\",\n",
    "                            13: \"PUBLIC ADMINISTRATION\",\n",
    "                            14: \"MILITARY\",\n",
    "                            15: \"UNCLASSIFIABLE INDUSTRY\"}\n",
    "\n",
    "interpretation[\"OCCUPATION_GROUP_RD_3/1_CMJ\"]={\n",
    "    -9: \"NOT ASCERTAINED\",\n",
    "    -1: \"INAPPLICABLE\",\n",
    "    1: \"MANAGEMENT, BUSINESS, AND FINANCIAL OPER\",\n",
    "    2: \"PROFESSIONAL AND RELATED OCCUPATIONS\", \n",
    "    3: \"SERVICE OCCUPATIONS\",\n",
    "    4: \"SALES AND RELATED OCCUPATIONS\", \n",
    "    5: \"OFFICE AND ADMINISTRATIVE SUPPORT\",\n",
    "    6: \"FARMING, FISHING, AND FORESTRY\",\n",
    "    7: \"CONSTRUCTION, EXTRACTION, AND MAINTENANC\",\n",
    "    8: \"PRODUCTION, TRNSPORTATION, MATRL MOVING\", \n",
    "    9: \"MILITARY SPECIFIC OCCUPATIONS\",\n",
    "    11: \"UNCLASSIFIABLE OCCUPATION\"}\n",
    "\n",
    "interpretation[\"CENSUS_REGION_AS_OF_12/31/13\"]={-1: \"Inapplicable\",\n",
    "                                                1:\"Northeast\",\n",
    "                                                2:\"Midwest\",\n",
    "                                                3:\"South\",\n",
    "                                                4:\"West\"}\n",
    "\n",
    "interpretation[\"EMPLOYMENT_STATUS_RD_3/1\"]={-9: \"NOT ASCERTAINED\",\n",
    "                                            -8: \"DK\",\n",
    "                                            -7: \"REFUSED\",\n",
    "                                            -1: \"INAPPLICABLE\",\n",
    "                                            1: \"EMPLOYED AT RD 3/1 INT DATE\",\n",
    "                                            2: \"JOB TO RETURN TO AT RD 3/1 INT DATE\",\n",
    "                                            3: \"JOB DURING RD 3/1 REF PERIOD\",\n",
    "                                            4: \"NOT EMPLOYED DURING RD 3/1\"}\n",
    "\n",
    "interpretation[\"FULL_YEAR_INSURANCE_COVERAGE_STATUS_2013\"]={\n",
    "     1: \"<65 ANY PRIVATE\",\n",
    "     2: \"<65 PUBLIC ONLY\",\n",
    "     3: \"<65 UNINSURED\",\n",
    "     4: \"65+ EDITED MEDICARE ONLY\",\n",
    "     5: \"65+ EDITED MEDICARE AND PRIVATE\",\n",
    "     6: \"65+ EDITED MEDICARE AND OTH PUB ONLY\",\n",
    "     7: \"65+ UNINSURED\",\n",
    "     8: \"65+ NO MEDICARE AND ANY PUBLIC/PRIVATE\"\n",
    "    }\n",
    "\n"
   ]
  },
  {
   "cell_type": "markdown",
   "metadata": {},
   "source": [
    "Let's write a function that implements this as necessary for a feature.\n",
    "\n",
    "The features whose levels I need to interpret in this way are all categorical features; the documentation indicates that the continuous variables aren't generally coded (apart from top-coding to preserve privacy). Accordingly, it would help to be able to automatically determine whether the feature I'm looking at is categorical or continuous. I'll try implementing the following rough rule of thumb: if a feature has less than 10-20 levels, I'll assume it's categorical, and otherwise I'll assume it's continuous."
   ]
  },
  {
   "cell_type": "code",
   "execution_count": 19,
   "metadata": {
    "collapsed": true
   },
   "outputs": [],
   "source": [
    "def check_discrete(data,thevariable):\n",
    "    if len(data[thevariable].unique())>19 or \"AGE_OF\" in thevariable or \"AGE_AS\" in thevariable or \"#\" in thevariable:\n",
    "        return \"continuous\"\n",
    "    else:\n",
    "        return \"categorical\""
   ]
  },
  {
   "cell_type": "markdown",
   "metadata": {},
   "source": [
    "Let's classify the features in the dataset:"
   ]
  },
  {
   "cell_type": "code",
   "execution_count": 20,
   "metadata": {
    "collapsed": false,
    "scrolled": true
   },
   "outputs": [],
   "source": [
    "continuous=[term for term in data.columns if check_discrete(data,term)==\"continuous\"]\n",
    "categorical=[term for term in data.columns if check_discrete(data,term)==\"categorical\"]"
   ]
  },
  {
   "cell_type": "markdown",
   "metadata": {},
   "source": [
    "Finally, I'll write a function that interprets the levels of the features in any categorical variable:"
   ]
  },
  {
   "cell_type": "code",
   "execution_count": 21,
   "metadata": {
    "collapsed": true
   },
   "outputs": [],
   "source": [
    "def interpret_vectorized(data,feature):\n",
    "    if feature in interpretation:\n",
    "        return data[feature].map(lambda x: interpretation[feature][x])\n",
    "    elif feature in categorical:\n",
    "        return data[feature].map(lambda x: interpretation[\"categorical\"][x])\n",
    "    else:\n",
    "        return data[feature].map(lambda x: \"inapplicable\" if x<0 else x)"
   ]
  },
  {
   "cell_type": "markdown",
   "metadata": {},
   "source": [
    "Here's an example of how it transforms the levels in a plot:"
   ]
  },
  {
   "cell_type": "code",
   "execution_count": 22,
   "metadata": {
    "collapsed": true
   },
   "outputs": [],
   "source": [
    "thevar='HIGH_CHOLESTEROL_DIAGNOSIS_(>17)'"
   ]
  },
  {
   "cell_type": "code",
   "execution_count": 23,
   "metadata": {
    "collapsed": false
   },
   "outputs": [],
   "source": [
    "def explore(data,thevar):\n",
    "    temp=interpret_vectorized(data,thevar)\n",
    "    w=data[\"FINAL_PERSON_WEIGHT_2013\"]\n",
    "    temp=pd.concat([temp,w],axis=1)\n",
    "    temp[\"ones\"]=1\n",
    "    temp[\"scaled\"]=temp[\"ones\"]*temp[\"FINAL_PERSON_WEIGHT_2013\"]\n",
    "    result=temp.groupby([thevar])[\"scaled\"].sum()\n",
    "    ax=result.plot(kind=\"bar\",title=thevar)\n",
    "    ax.set_ylabel(\"Count\")\n",
    "    plt.show()"
   ]
  },
  {
   "cell_type": "code",
   "execution_count": 24,
   "metadata": {
    "collapsed": false
   },
   "outputs": [
    {
     "data": {
      "image/png": "[encoded data removed]",
      "text/plain": [
       "<matplotlib.figure.Figure at 0x7efd070713c8>"
      ]
     },
     "metadata": {},
     "output_type": "display_data"
    }
   ],
   "source": [
    "explore(data,thevar)"
   ]
  },
  {
   "cell_type": "markdown",
   "metadata": {},
   "source": [
    "That visualization was a nice way of learning something about the data, and confirming a hunch we had about how to interpret it. In fact, simple visual plots of different features in the dataset are a crucial way of getting some initial insight into the data, and helping us prioritize the most fruitful approaches for modeling the data."
   ]
  },
  {
   "cell_type": "markdown",
   "metadata": {},
   "source": [
    "To fix ideas, let's scope down what we want to go into our model.\n",
    "\n",
    "Explicitly, we'd like to be able to answer the following questions: which (if any) of the following features about a person determine what they will pay for healthcare in a year?\n",
    "\n",
    "1. Demographic information:\n",
    "    1. Age\n",
    "    2. Sex\n",
    "    3. Race/Ethnicity\n",
    "    4. Marital Status\n",
    "    5. Educational attainment\n",
    "    6. Census region\n",
    "2. Income information (these are all top-coded in the dataset for confidentiality reasons):\n",
    "3. Idiosyncratic health status variables:\n",
    "    1. High blood pressure, including multiple diagnoses\n",
    "    2. Heart disease (including coronary heart disease, angina, myocardial infarction, and other unspecified heart disease)\n",
    "    3. Stroke\n",
    "    4. Emphysema\n",
    "    5. Chronic Bronchitis\n",
    "    6. High cholesterol, including the age of diagnosis\n",
    "    7. Cancer\n",
    "    8. Diabetes\n",
    "    9. Joint pain\n",
    "    10. Arthritis\n",
    "    11. Asthma\n",
    "    12. Attention Deficit Hyperactivity Disorder/Attention Deficit Disorder (ADHD/ADD)\n",
    "4. Adult Body Mass Index\n",
    "5. Health Insurance Variables\n",
    "    1. Public Insurance Indicators\n",
    "    2. Private Insurance Indicators\n",
    "    3. Any Insurance Indicators\n",
    "    4. HMO plan\n",
    "6. Utilization, expenditure and source of payments information"
   ]
  },
  {
   "cell_type": "markdown",
   "metadata": {},
   "source": [
    "It's fair to say that this is a lot of information to process. One thing that stands out here is that there are a great number of features already recorded for us in this dataset; this is in sharp contrast to some projects I've done using text and/or social media data, in which the hard part of the modeling process is feature construction in some appropriate way.\n",
    "\n",
    "Since there is such a rich variety of features, I imagine most of the feature engineering in this project will amount to bucketing variables and levels in appropriate ways to optimize explained variation, rather than constructing new features from scratch.\n",
    "\n",
    "To this end, let's make a list of the exact features we want to start working with.\n",
    "\n",
    "1. AGE AS OF 12/31/13 (EDITED/IMPUTED)\n",
    "2. SEX\n",
    "3. RACE/ETHNICITY (EDITED/IMPUTED)\n",
    "4. MARITAL STATUS-12/31/13 (EDITED/IMPUTED)\n",
    "5. FAMILY'S TOTAL INCOME\n",
    "6. ADULT BODY MASS INDEX (>17) - RD 5/3\n",
    "7. HIGH BLOOD PRESSURE DIAG (>17)\n",
    "8. CORONARY HRT DISEASE DIAG (>17)\n",
    "9. AGE OF DIAGNOSIS-HIGH BLOOD PRESSURE\n",
    "10. MULT DIAG HIGH BLOOD PRESS (>17)\n",
    "11. AGE OF DIAGNOSIS-CORONARY HEART DISEASE\n",
    "12. ANGINA DIAGNOSIS (>17)\n",
    "13. AGE OF DIAGNOSIS-ANGINA\n",
    "14. HEART ATTACK (MI) DIAG (>17)\n",
    "15. AGE OF DIAGNOSIS-HEART ATTACK(MI)\n",
    "16. OTHER HEART DISEASE DIAG (>17)\n",
    "17. AGE OF DIAGNOSIS-OTHER HEART DISEASE\n",
    "18. STROKE DIAGNOSIS (>17)\n",
    "19. AGE OF DIAGNOSIS-STROKE\n",
    "20. EMPHYSEMA DIAGNOSIS (>17)\n",
    "21. AGE OF DIAGNOSIS-EMPHYSEMA\n",
    "22. CHRONC BRONCHITS LAST 12 MTHS (>17)-R3/1\n",
    "23. CHRONC BRONCHITS LAST 12 MTHS (>17)-R5/3\n",
    "24. HIGH CHOLESTEROL DIAGNOSIS (>17)\n",
    "25. AGE OF DIAGNOSIS-HIGH CHOLESTEROL\n",
    "26. CANCER DIAGNOSIS (>17)\n",
    "27. CANCER DIAGNOSED - BLADDER (>17)\n",
    "28. CANCER DIAGNOSED - BREAST (>17)\n",
    "29. CANCER DIAGNOSED - CERVIX (>17)\n",
    "30. CANCER DIAGNOSED - COLON (>17)\n",
    "31. CANCER DIAGNOSED - LUNG (>17)\n",
    "32. CANCER DIAGNOSED - LYMPHOMA (>17)\n",
    "33. CANCER DIAGNOSED - MELANOMA (>17)\n",
    "34. CANCER DIAGNOSED - OTHER (>17)\n",
    "35. CANCER DIAGNOSED - PROSTATE (>17)\n",
    "36. CANCER DIAGNOSED - SKIN-NONMELANO (>17)\n",
    "37. CANCER DIAGNOSED-SKIN-UNKNOWN TYPE (>17)\n",
    "38. CANCER DIAGNOSED - UTERUS (>17)\n",
    "39. DIABETES DIAGNOSIS (>17)\n",
    "40. AGE OF DIAGNOSIS-DIABETES\n",
    "41. JOINT PAIN LAST 12 MONTHS (>17) - RD 3/1\n",
    "42. JOINT PAIN LAST 12 MONTHS (>17) - RD 5/3\n",
    "43. ARTHRITIS DIAGNOSIS (>17)\n",
    "44. AGE OF DIAGNOSIS-ARTHRITIS\n",
    "45. ASTHMA DIAGNOSIS\n",
    "46. AGE OF DIAGNOSIS-ASTHMA\n",
    "47. DOES PERSON STILL HAVE ASTHMA-RD3/1\n",
    "48. DOES PERSON STILL HAVE ASTHMA - RD 5/3\n",
    "49. ASTHMA ATTACK LAST 12 MOS - RD3/1\n",
    "50. USED ACUTE PRES INHALER LAST 3 MOS-RD5/3\n",
    "51. USED>3ACUTE CN PRES INH LAST 3 MOS-RD5/3\n",
    "52. EVER USED PREV DAILY ASTHMA MEDS -RD 5/3\n",
    "53. NOW TAKE PREV DAILY ASTHMA MEDS - RD 5/3\n",
    "54. HAVE PEAK FLOW METER AT HOME - RD 5/3\n",
    "55. EVER USED PEAK FLOW METER - RD 5/3\n",
    "56. ADHDADD DIAGNOSIS (5-17)\n",
    "57. AGE OF DIAGNOSIS-ADHD/ADD\n",
    "58. PREGNANT DURING REF PERIOD - RD 3/1\n",
    "59. LIMITATION IN PHYSICAL FUNCTIONING-RD3/1\n",
    "60. EMPLOYMENT STATUS RD 3/1\n",
    "61. HAS MORE THAN ONE JOB RD 3/1 INT DATE\n",
    "62. SELF-EMPLOYED AT RD 3/1 CMJ\n",
    "63. CHOICE OF HEALTH PLANS AT RD 3/1 CMJ\n",
    "64. INDUSTRY GROUP RD 3/1 CMJ\n",
    "65. UNION STATUS AT RD 3/1 CMJ\n",
    "66. OCCUPATION GROUP RD 3/1 CMJ\n",
    "67. HEALTH INSUR HELD FROM RD 3/1 CMJ (ED)\n",
    "68. HEALTH INSUR OFFERED BY RD 3/1 CMJ (ED)\n",
    "69. EMPLOYER OFFERS HEALTH INS RD 3/1 CMJ\n",
    "70. FULL YEAR INSURANCE COVERAGE STATUS 2013\n",
    "71. ANYONE IN RU HAVE FSA - R3/1\n",
    "72. \\# WKS/MON WOUT HLTH INS PRV YR-PN 18 ONL\n",
    "73. PRIVATE INSURANCE ANY TIME IN R5/R3\n",
    "74. PUBLIC INS ANY TIME IN R5/R3\n",
    "75. INSURED ANY TIME IN R3/1\n",
    "76. ANY TIME COVERAGE BY STATE INS - R3/1\n",
    "77. \\# OFFICE-BASED PROVIDER VISITS 13\n",
    "78. \\# OUTPATIENT DEPT PROVIDER VISITS 13\n",
    "79. \\# EMERGENCY ROOM VISITS 13\n",
    "80. \\# NIGHTS IN HOSP FOR DISCHARGES 2013\n",
    "81. FINAL PERSON WEIGHT 2013\n",
    "82. TOTAL OFFICE-BASED EXP 13\n",
    "83. TOTAL OUTPATIENT PROVIDER EXP 13\n",
    "84. TOT HOSP IP FACILITY + DR EXP 13\n",
    "85. TOTAL ER FACILITY + DR EXP 13\n",
    "86. CENSUS REGION AS OF 12/31/13\n",
    "87. EDUCATION RECODE (EDITED)"
   ]
  },
  {
   "cell_type": "markdown",
   "metadata": {},
   "source": [
    "It's going to be extremely interesting to see if these have explanatory power for the statistical variation in spending on healthcare!\n",
    "\n",
    "Speaking of which, what are the variables we're trying to predict?\n",
    "\n",
    "1. TOTAL OFFICE-BASED EXP 13\n",
    "2. TOTAL OUTPATIENT PROVIDER EXP 13\n",
    "3. TOT HOSP IP FACILITY + DR EXP 13\n",
    "4. TOTAL ER FACILITY + DR EXP 13\n",
    "\n",
    "The dataset breaks out healthcare expenses into these four location based categories: office, outpatient, inpatient and ER.\n",
    "\n",
    "Another modeling choice that needs to be made is whether to try and predict total expenses, or predict each category of expense individually. In my Insight project, I opted to try and predict them individually, to see if I could shed some light on whether the service location affected prices charged. There's reason to think this may be the case: ER sticker shock is widely reported in the news, more so than office visits.\n",
    "\n",
    "Finally, it's time to reflect a bit on what we've done here. We've isolated explanatory variables that we hope and expect should be predictive of how much a person is charged for healthcare services in four different categories. That's great, but there's a very large number of predictors: over 80. Since the ultimate goal is to build a usable interface to the model that people can use to get a sense of their expected outlays on healthcare, it makes sense to refine and reduce this list. But how?\n",
    "\n",
    "One way to think about this is to consider what information people are likely to be comfortable sharing about themselves that could help to predict expenses. Another is to focus on what the most predictive variables are, and then ask users to populate these variables in order to get a prediction. \n",
    "\n",
    "In my Insight project, I opted to balance both these concerns by ranking the explanatory variables in terms of statistical variation explained, cutting off at a reasonable threshold (somewhere in between 10 and 20 variables, corresponding to 10-20 questions asked of the user), and also culling variables that would be particularly burdensome to the user to have to report.\n",
    "\n",
    "The next thing to think about is: now that we have explanatory variables and explained variables selected, how do we best go about building a model?\n",
    "\n",
    "My next step is to examine the data feature by feature, to get a better sense of what it looks like and to pick up hunches for what may explain the variation. Along the way I'm sure I'll develop some more detailed hypotheses about healthcare spending, and discover that some of what I implicitly assume to be true about the healthcare market isn't actually so.\n",
    "\n"
   ]
  },
  {
   "cell_type": "markdown",
   "metadata": {},
   "source": [
    "First, let's look at the explained variables:"
   ]
  },
  {
   "cell_type": "code",
   "execution_count": 25,
   "metadata": {
    "collapsed": false,
    "scrolled": false
   },
   "outputs": [
    {
     "data": {
      "text/plain": [
       "count     36940.000000\n",
       "mean        884.442799\n",
       "std        3290.683088\n",
       "min           0.000000\n",
       "25%           0.000000\n",
       "50%         156.000000\n",
       "75%         653.000000\n",
       "max      195295.000000\n",
       "Name: TOTAL_OFFICE-BASED_EXP_13, dtype: float64"
      ]
     },
     "execution_count": 25,
     "metadata": {},
     "output_type": "execute_result"
    }
   ],
   "source": [
    "data[\"TOTAL_OFFICE-BASED_EXP_13\"].describe()"
   ]
  },
  {
   "cell_type": "markdown",
   "metadata": {},
   "source": [
    "This is interesting. It looks like upto half of respondents spend less than $200 for office-based services in a year. The maximum though, is concerning: over a hundred thousand dollars? Let's take a closer look at that."
   ]
  },
  {
   "cell_type": "code",
   "execution_count": 26,
   "metadata": {
    "collapsed": false,
    "scrolled": false
   },
   "outputs": [
    {
     "data": {
      "text/html": [
       "<div>\n",
       "<table border=\"1\" class=\"dataframe\">\n",
       "  <thead>\n",
       "    <tr style=\"text-align: right;\">\n",
       "      <th></th>\n",
       "      <th>DWELLING_UNIT_ID</th>\n",
       "      <th>PERSON_NUMBER</th>\n",
       "      <th>PERSON_ID_(DUID_+_PID)</th>\n",
       "      <th>PANEL_NUMBER</th>\n",
       "      <th>FAMILY_ID_(STUDENT_MERGED_IN)_-_R3/1</th>\n",
       "      <th>FAMILY_ID_(STUDENT_MERGED_IN)_-_R4/2</th>\n",
       "      <th>FAMILY_ID_(STUDENT_MERGED_IN)_-_R5/3</th>\n",
       "      <th>FAMILY_ID_(STUDENT_MERGED_IN)_-_12/31/13</th>\n",
       "      <th>ANNUAL_FAMILY_IDENTIFIER</th>\n",
       "      <th>CPSFAMID</th>\n",
       "      <th>...</th>\n",
       "      <th>TOT_RX-OTH_UNCLASS_SRCE_AMT_13</th>\n",
       "      <th>TOTAL_RX-PRV_&amp;_TRI_AMT_13</th>\n",
       "      <th>TOTAL_RX-OTH_COMBINED_AMT_13</th>\n",
       "      <th>FINAL_PERSON_WEIGHT_2013</th>\n",
       "      <th>FINAL_FAMILY_WEIGHT_2013</th>\n",
       "      <th>POV_ADJ_FAMILY_WGT-CPS_FAM_ON_12/31/13</th>\n",
       "      <th>FINAL_SAQ_PERSON_WEIGHT_2013</th>\n",
       "      <th>FINAL_DIABETES_CARE_SUPPLEMENT_WEIGHT</th>\n",
       "      <th>VARIANCE_ESTIMATION_STRATUM_-_2013</th>\n",
       "      <th>VARIANCE_ESTIMATION_PSU_-_2013</th>\n",
       "    </tr>\n",
       "  </thead>\n",
       "  <tbody>\n",
       "    <tr>\n",
       "      <th>2384</th>\n",
       "      <td>21174</td>\n",
       "      <td>101</td>\n",
       "      <td>21174101</td>\n",
       "      <td>17</td>\n",
       "      <td>A</td>\n",
       "      <td>A</td>\n",
       "      <td>A</td>\n",
       "      <td>A</td>\n",
       "      <td>A</td>\n",
       "      <td>A</td>\n",
       "      <td>...</td>\n",
       "      <td>0</td>\n",
       "      <td>0</td>\n",
       "      <td>0</td>\n",
       "      <td>10189.789734</td>\n",
       "      <td>8764.276613</td>\n",
       "      <td>8764.276613</td>\n",
       "      <td>11832.982213</td>\n",
       "      <td>13517.344724</td>\n",
       "      <td>1007</td>\n",
       "      <td>1</td>\n",
       "    </tr>\n",
       "    <tr>\n",
       "      <th>2834</th>\n",
       "      <td>21386</td>\n",
       "      <td>102</td>\n",
       "      <td>21386102</td>\n",
       "      <td>17</td>\n",
       "      <td>A</td>\n",
       "      <td>A</td>\n",
       "      <td>A</td>\n",
       "      <td>A</td>\n",
       "      <td>A</td>\n",
       "      <td>A</td>\n",
       "      <td>...</td>\n",
       "      <td>0</td>\n",
       "      <td>16487</td>\n",
       "      <td>0</td>\n",
       "      <td>22234.388648</td>\n",
       "      <td>26645.022692</td>\n",
       "      <td>26645.022692</td>\n",
       "      <td>24377.214141</td>\n",
       "      <td>26657.263092</td>\n",
       "      <td>1065</td>\n",
       "      <td>1</td>\n",
       "    </tr>\n",
       "    <tr>\n",
       "      <th>15019</th>\n",
       "      <td>27647</td>\n",
       "      <td>105</td>\n",
       "      <td>27647105</td>\n",
       "      <td>17</td>\n",
       "      <td>A</td>\n",
       "      <td>A</td>\n",
       "      <td>A</td>\n",
       "      <td>A</td>\n",
       "      <td>A</td>\n",
       "      <td>A</td>\n",
       "      <td>...</td>\n",
       "      <td>0</td>\n",
       "      <td>173</td>\n",
       "      <td>0</td>\n",
       "      <td>16134.188642</td>\n",
       "      <td>6000.045922</td>\n",
       "      <td>6000.045922</td>\n",
       "      <td>0.000000</td>\n",
       "      <td>0.000000</td>\n",
       "      <td>1149</td>\n",
       "      <td>2</td>\n",
       "    </tr>\n",
       "    <tr>\n",
       "      <th>15659</th>\n",
       "      <td>27976</td>\n",
       "      <td>101</td>\n",
       "      <td>27976101</td>\n",
       "      <td>17</td>\n",
       "      <td>A</td>\n",
       "      <td>A</td>\n",
       "      <td>A</td>\n",
       "      <td>A</td>\n",
       "      <td>A</td>\n",
       "      <td>A</td>\n",
       "      <td>...</td>\n",
       "      <td>0</td>\n",
       "      <td>0</td>\n",
       "      <td>0</td>\n",
       "      <td>15650.765936</td>\n",
       "      <td>12480.521290</td>\n",
       "      <td>12480.521290</td>\n",
       "      <td>14907.860615</td>\n",
       "      <td>16293.073976</td>\n",
       "      <td>1140</td>\n",
       "      <td>1</td>\n",
       "    </tr>\n",
       "  </tbody>\n",
       "</table>\n",
       "<p>4 rows × 1791 columns</p>\n",
       "</div>"
      ],
      "text/plain": [
       "       DWELLING_UNIT_ID  PERSON_NUMBER  PERSON_ID_(DUID_+_PID)  PANEL_NUMBER  \\\n",
       "2384              21174            101                21174101            17   \n",
       "2834              21386            102                21386102            17   \n",
       "15019             27647            105                27647105            17   \n",
       "15659             27976            101                27976101            17   \n",
       "\n",
       "      FAMILY_ID_(STUDENT_MERGED_IN)_-_R3/1  \\\n",
       "2384                                    A    \n",
       "2834                                    A    \n",
       "15019                                   A    \n",
       "15659                                   A    \n",
       "\n",
       "      FAMILY_ID_(STUDENT_MERGED_IN)_-_R4/2  \\\n",
       "2384                                    A    \n",
       "2834                                    A    \n",
       "15019                                   A    \n",
       "15659                                   A    \n",
       "\n",
       "      FAMILY_ID_(STUDENT_MERGED_IN)_-_R5/3  \\\n",
       "2384                                    A    \n",
       "2834                                    A    \n",
       "15019                                   A    \n",
       "15659                                   A    \n",
       "\n",
       "      FAMILY_ID_(STUDENT_MERGED_IN)_-_12/31/13 ANNUAL_FAMILY_IDENTIFIER  \\\n",
       "2384                                        A                        A    \n",
       "2834                                        A                        A    \n",
       "15019                                       A                        A    \n",
       "15659                                       A                        A    \n",
       "\n",
       "      CPSFAMID               ...                \\\n",
       "2384        A                ...                 \n",
       "2834        A                ...                 \n",
       "15019       A                ...                 \n",
       "15659       A                ...                 \n",
       "\n",
       "       TOT_RX-OTH_UNCLASS_SRCE_AMT_13  TOTAL_RX-PRV_&_TRI_AMT_13  \\\n",
       "2384                                0                          0   \n",
       "2834                                0                      16487   \n",
       "15019                               0                        173   \n",
       "15659                               0                          0   \n",
       "\n",
       "      TOTAL_RX-OTH_COMBINED_AMT_13 FINAL_PERSON_WEIGHT_2013  \\\n",
       "2384                             0             10189.789734   \n",
       "2834                             0             22234.388648   \n",
       "15019                            0             16134.188642   \n",
       "15659                            0             15650.765936   \n",
       "\n",
       "      FINAL_FAMILY_WEIGHT_2013 POV_ADJ_FAMILY_WGT-CPS_FAM_ON_12/31/13  \\\n",
       "2384               8764.276613                            8764.276613   \n",
       "2834              26645.022692                           26645.022692   \n",
       "15019              6000.045922                            6000.045922   \n",
       "15659             12480.521290                           12480.521290   \n",
       "\n",
       "       FINAL_SAQ_PERSON_WEIGHT_2013  FINAL_DIABETES_CARE_SUPPLEMENT_WEIGHT  \\\n",
       "2384                   11832.982213                           13517.344724   \n",
       "2834                   24377.214141                           26657.263092   \n",
       "15019                      0.000000                               0.000000   \n",
       "15659                  14907.860615                           16293.073976   \n",
       "\n",
       "       VARIANCE_ESTIMATION_STRATUM_-_2013  VARIANCE_ESTIMATION_PSU_-_2013  \n",
       "2384                                 1007                               1  \n",
       "2834                                 1065                               1  \n",
       "15019                                1149                               2  \n",
       "15659                                1140                               1  \n",
       "\n",
       "[4 rows x 1791 columns]"
      ]
     },
     "execution_count": 26,
     "metadata": {},
     "output_type": "execute_result"
    }
   ],
   "source": [
    "data[data[\"TOTAL_OFFICE-BASED_EXP_13\"]>=100000]"
   ]
  },
  {
   "cell_type": "markdown",
   "metadata": {
    "collapsed": true
   },
   "source": [
    "There are 4 people with office based expenses of over 100k. I'd like to take a look to see if these records are bad data, or if they should be kept in the dataset. My prior is that they should be kept in the dataset (the MEPS survey has been running for over 15 years by people who I can only assume know what they're doing). But it doesn't hurt to take a closer look.\n",
    "\n",
    "Now, I don't want to look at all the extra features in the dataset beyond those that I've decided I care about, so let's go about trimming the dataframe down to contain just these features.\n",
    "\n",
    "As a matter of good practice, let's write the current dataset to a file, in case we break something and need to come back to this checkpoint."
   ]
  },
  {
   "cell_type": "code",
   "execution_count": 27,
   "metadata": {
    "collapsed": true,
    "scrolled": false
   },
   "outputs": [],
   "source": [
    "data.to_pickle(\"/home/soumya/research/insight/insight_project/modeling/data/dsm_data_cleaned_columns.pkl\")"
   ]
  },
  {
   "cell_type": "markdown",
   "metadata": {},
   "source": [
    "I've manually written the explanatory variables to a text file located at \"/home/soumya/research/insight/insight\\_project/modeling/code/dsm\\_exog\\_.txt\". I'm going to read this into memory:"
   ]
  },
  {
   "cell_type": "code",
   "execution_count": 28,
   "metadata": {
    "collapsed": false
   },
   "outputs": [
    {
     "name": "stdout",
     "output_type": "stream",
     "text": [
      "['AGE_AS_OF_12/31/13_(EDITED/IMPUTED)', 'SEX', 'RACE/ETHNICITY_(EDITED/IMPUTED)', 'MARITAL_STATUS-12/31/13_(EDITED/IMPUTED)', \"FAMILY'S_TOTAL_INCOME\", 'ADULT_BODY_MASS_INDEX_(>17)_-_RD_5/3', 'HIGH_BLOOD_PRESSURE_DIAG_(>17)', 'CORONARY_HRT_DISEASE_DIAG_(>17)', 'AGE_OF_DIAGNOSIS-HIGH_BLOOD_PRESSURE', 'MULT_DIAG_HIGH_BLOOD_PRESS_(>17)', 'AGE_OF_DIAGNOSIS-CORONARY_HEART_DISEASE', 'ANGINA_DIAGNOSIS_(>17)', 'AGE_OF_DIAGNOSIS-ANGINA', 'HEART_ATTACK_(MI)_DIAG_(>17)', 'AGE_OF_DIAGNOSIS-HEART_ATTACK(MI)', 'OTHER_HEART_DISEASE_DIAG_(>17)', 'AGE_OF_DIAGNOSIS-OTHER_HEART_DISEASE', 'STROKE_DIAGNOSIS_(>17)', 'AGE_OF_DIAGNOSIS-STROKE', 'EMPHYSEMA_DIAGNOSIS_(>17)', 'AGE_OF_DIAGNOSIS-EMPHYSEMA', 'CHRONC_BRONCHITS_LAST_12_MTHS_(>17)-R3/1', 'CHRONC_BRONCHITS_LAST_12_MTHS_(>17)-R5/3', 'HIGH_CHOLESTEROL_DIAGNOSIS_(>17)', 'AGE_OF_DIAGNOSIS-HIGH_CHOLESTEROL', 'CANCER_DIAGNOSIS_(>17)', 'CANCER_DIAGNOSED_-_BLADDER_(>17)', 'CANCER_DIAGNOSED_-_BREAST_(>17)', 'CANCER_DIAGNOSED_-_CERVIX_(>17)', 'CANCER_DIAGNOSED_-_COLON_(>17)', 'CANCER_DIAGNOSED_-_LUNG_(>17)', 'CANCER_DIAGNOSED_-_LYMPHOMA_(>17)', 'CANCER_DIAGNOSED_-_MELANOMA_(>17)', 'CANCER_DIAGNOSED_-_OTHER_(>17)', 'CANCER_DIAGNOSED_-_PROSTATE_(>17)', 'CANCER_DIAGNOSED_-_SKIN-NONMELANO_(>17)', 'CANCER_DIAGNOSED-SKIN-UNKNOWN_TYPE_(>17)', 'CANCER_DIAGNOSED_-_UTERUS_(>17)', 'DIABETES_DIAGNOSIS_(>17)', 'AGE_OF_DIAGNOSIS-DIABETES', 'JOINT_PAIN_LAST_12_MONTHS_(>17)_-_RD_3/1', 'JOINT_PAIN_LAST_12_MONTHS_(>17)_-_RD_5/3', 'ARTHRITIS_DIAGNOSIS_(>17)', 'AGE_OF_DIAGNOSIS-ARTHRITIS', 'ASTHMA_DIAGNOSIS', 'AGE_OF_DIAGNOSIS-ASTHMA', 'DOES_PERSON_STILL_HAVE_ASTHMA-RD3/1', 'DOES_PERSON_STILL_HAVE_ASTHMA_-_RD_5/3', 'ASTHMA_ATTACK_LAST_12_MOS_-_RD3/1', 'USED_ACUTE_PRES_INHALER_LAST_3_MOS-RD5/3', 'USED>3ACUTE_CN_PRES_INH_LAST_3_MOS-RD5/3', 'EVER_USED_PREV_DAILY_ASTHMA_MEDS_-RD_5/3', 'NOW_TAKE_PREV_DAILY_ASTHMA_MEDS_-_RD_5/3', 'HAVE_PEAK_FLOW_METER_AT_HOME_-_RD_5/3', 'EVER_USED_PEAK_FLOW_METER_-_RD_5/3', 'ADHDADD_DIAGNOSIS_(5-17)', 'AGE_OF_DIAGNOSIS-ADHD/ADD', 'PREGNANT_DURING_REF_PERIOD_-_RD_3/1', 'LIMITATION_IN_PHYSICAL_FUNCTIONING-RD3/1', 'EMPLOYMENT_STATUS_RD_3/1', 'HAS_MORE_THAN_ONE_JOB_RD_3/1_INT_DATE', 'SELF-EMPLOYED_AT_RD_3/1_CMJ', 'CHOICE_OF_HEALTH_PLANS_AT_RD_3/1_CMJ', 'INDUSTRY_GROUP_RD_3/1_CMJ', 'UNION_STATUS_AT_RD_3/1_CMJ', 'OCCUPATION_GROUP_RD_3/1_CMJ', 'HEALTH_INSUR_HELD_FROM_RD_3/1_CMJ_(ED)', 'HEALTH_INSUR_OFFERED_BY_RD_3/1_CMJ_(ED)', 'EMPLOYER_OFFERS_HEALTH_INS_RD_3/1_CMJ', 'FULL_YEAR_INSURANCE_COVERAGE_STATUS_2013', 'ANYONE_IN_RU_HAVE_FSA_-_R3/1', '#_WKS/MON_WOUT_HLTH_INS_PRV_YR-PN_18_ONL', 'PRIVATE_INSURANCE_ANY_TIME_IN_R5/R3', 'PUBLIC_INS_ANY_TIME_IN_R5/R3', 'INSURED_ANY_TIME_IN_R3/1', 'ANY_TIME_COVERAGE_BY_STATE_INS_-_R3/1', '#_OFFICE-BASED_PROVIDER_VISITS_13', '#_OUTPATIENT_DEPT_PROVIDER_VISITS_13', '#_EMERGENCY_ROOM_VISITS_13', '#_NIGHTS_IN_HOSP_FOR_DISCHARGES_2013', 'FINAL_PERSON_WEIGHT_2013', 'TOTAL_OFFICE-BASED_EXP_13', 'TOTAL_OUTPATIENT_PROVIDER_EXP_13', 'TOT_HOSP_IP_FACILITY_+_DR_EXP_13', 'TOTAL_ER_FACILITY_+_DR_EXP_13', 'CENSUS_REGION_AS_OF_12/31/13', 'EDUCATION_RECODE_(EDITED)']\n"
     ]
    }
   ],
   "source": [
    "variables=[]\n",
    "with open(\"/home/soumya/research/insight/insight_project/modeling/code/dsm_exog_.txt\",\"r\") as f:\n",
    "    lines=f.readlines()\n",
    "    for line in lines:\n",
    "        variables.append(line.strip().upper())\n",
    "print(variables)"
   ]
  },
  {
   "cell_type": "markdown",
   "metadata": {},
   "source": [
    "I'm going to make sure there are no duplicates in my list:"
   ]
  },
  {
   "cell_type": "code",
   "execution_count": 29,
   "metadata": {
    "collapsed": false,
    "scrolled": false
   },
   "outputs": [
    {
     "name": "stdout",
     "output_type": "stream",
     "text": [
      "There were 87 variables to start.\n",
      "There were 87 variables at the end.\n"
     ]
    }
   ],
   "source": [
    "print(\"There were %d variables to start.\"%len(variables))\n",
    "temp=[]\n",
    "while variables!=[]:\n",
    "    this=variables.pop()\n",
    "    if this in temp:\n",
    "        continue\n",
    "    else:\n",
    "        temp.append(this)\n",
    "while temp!=[]:\n",
    "    variables.append(temp.pop())\n",
    "print(\"There were %d variables at the end.\"%len(variables))"
   ]
  },
  {
   "cell_type": "markdown",
   "metadata": {},
   "source": [
    "For future reference, let's write this dataset to disk so we don't have to do all this over again."
   ]
  },
  {
   "cell_type": "code",
   "execution_count": 30,
   "metadata": {
    "collapsed": false,
    "scrolled": false
   },
   "outputs": [],
   "source": [
    "data[variables].to_pickle(\"/home/soumya/research/insight/insight_project/modeling/data/dsm_data_scoped_variables.pkl\")"
   ]
  },
  {
   "cell_type": "markdown",
   "metadata": {},
   "source": [
    "Let's check this worked:"
   ]
  },
  {
   "cell_type": "code",
   "execution_count": 31,
   "metadata": {
    "collapsed": false,
    "scrolled": false
   },
   "outputs": [],
   "source": [
    "data=pd.read_pickle(\"/home/soumya/research/insight/insight_project/modeling/data/dsm_data_scoped_variables.pkl\")"
   ]
  },
  {
   "cell_type": "code",
   "execution_count": 32,
   "metadata": {
    "collapsed": false,
    "scrolled": false
   },
   "outputs": [
    {
     "data": {
      "text/html": [
       "<div>\n",
       "<table border=\"1\" class=\"dataframe\">\n",
       "  <thead>\n",
       "    <tr style=\"text-align: right;\">\n",
       "      <th></th>\n",
       "      <th>AGE_AS_OF_12/31/13_(EDITED/IMPUTED)</th>\n",
       "      <th>SEX</th>\n",
       "      <th>RACE/ETHNICITY_(EDITED/IMPUTED)</th>\n",
       "      <th>MARITAL_STATUS-12/31/13_(EDITED/IMPUTED)</th>\n",
       "      <th>FAMILY'S_TOTAL_INCOME</th>\n",
       "      <th>ADULT_BODY_MASS_INDEX_(&gt;17)_-_RD_5/3</th>\n",
       "      <th>HIGH_BLOOD_PRESSURE_DIAG_(&gt;17)</th>\n",
       "      <th>CORONARY_HRT_DISEASE_DIAG_(&gt;17)</th>\n",
       "      <th>AGE_OF_DIAGNOSIS-HIGH_BLOOD_PRESSURE</th>\n",
       "      <th>MULT_DIAG_HIGH_BLOOD_PRESS_(&gt;17)</th>\n",
       "      <th>...</th>\n",
       "      <th>#_OUTPATIENT_DEPT_PROVIDER_VISITS_13</th>\n",
       "      <th>#_EMERGENCY_ROOM_VISITS_13</th>\n",
       "      <th>#_NIGHTS_IN_HOSP_FOR_DISCHARGES_2013</th>\n",
       "      <th>FINAL_PERSON_WEIGHT_2013</th>\n",
       "      <th>TOTAL_OFFICE-BASED_EXP_13</th>\n",
       "      <th>TOTAL_OUTPATIENT_PROVIDER_EXP_13</th>\n",
       "      <th>TOT_HOSP_IP_FACILITY_+_DR_EXP_13</th>\n",
       "      <th>TOTAL_ER_FACILITY_+_DR_EXP_13</th>\n",
       "      <th>CENSUS_REGION_AS_OF_12/31/13</th>\n",
       "      <th>EDUCATION_RECODE_(EDITED)</th>\n",
       "    </tr>\n",
       "  </thead>\n",
       "  <tbody>\n",
       "    <tr>\n",
       "      <th>0</th>\n",
       "      <td>39</td>\n",
       "      <td>1</td>\n",
       "      <td>1</td>\n",
       "      <td>1</td>\n",
       "      <td>85728</td>\n",
       "      <td>35.5</td>\n",
       "      <td>2</td>\n",
       "      <td>2</td>\n",
       "      <td>-1</td>\n",
       "      <td>-1</td>\n",
       "      <td>...</td>\n",
       "      <td>0</td>\n",
       "      <td>0</td>\n",
       "      <td>0</td>\n",
       "      <td>6594.801768</td>\n",
       "      <td>428</td>\n",
       "      <td>0</td>\n",
       "      <td>0</td>\n",
       "      <td>0</td>\n",
       "      <td>3</td>\n",
       "      <td>14</td>\n",
       "    </tr>\n",
       "    <tr>\n",
       "      <th>1</th>\n",
       "      <td>40</td>\n",
       "      <td>2</td>\n",
       "      <td>1</td>\n",
       "      <td>1</td>\n",
       "      <td>85728</td>\n",
       "      <td>28.5</td>\n",
       "      <td>2</td>\n",
       "      <td>2</td>\n",
       "      <td>-1</td>\n",
       "      <td>-1</td>\n",
       "      <td>...</td>\n",
       "      <td>0</td>\n",
       "      <td>0</td>\n",
       "      <td>0</td>\n",
       "      <td>7144.183132</td>\n",
       "      <td>0</td>\n",
       "      <td>0</td>\n",
       "      <td>0</td>\n",
       "      <td>0</td>\n",
       "      <td>3</td>\n",
       "      <td>13</td>\n",
       "    </tr>\n",
       "    <tr>\n",
       "      <th>2</th>\n",
       "      <td>10</td>\n",
       "      <td>2</td>\n",
       "      <td>1</td>\n",
       "      <td>6</td>\n",
       "      <td>85728</td>\n",
       "      <td>-1.0</td>\n",
       "      <td>-1</td>\n",
       "      <td>-1</td>\n",
       "      <td>-1</td>\n",
       "      <td>-1</td>\n",
       "      <td>...</td>\n",
       "      <td>2</td>\n",
       "      <td>0</td>\n",
       "      <td>0</td>\n",
       "      <td>5616.278666</td>\n",
       "      <td>0</td>\n",
       "      <td>108</td>\n",
       "      <td>0</td>\n",
       "      <td>0</td>\n",
       "      <td>3</td>\n",
       "      <td>1</td>\n",
       "    </tr>\n",
       "    <tr>\n",
       "      <th>3</th>\n",
       "      <td>52</td>\n",
       "      <td>1</td>\n",
       "      <td>1</td>\n",
       "      <td>4</td>\n",
       "      <td>20142</td>\n",
       "      <td>26.6</td>\n",
       "      <td>1</td>\n",
       "      <td>2</td>\n",
       "      <td>41</td>\n",
       "      <td>2</td>\n",
       "      <td>...</td>\n",
       "      <td>0</td>\n",
       "      <td>0</td>\n",
       "      <td>0</td>\n",
       "      <td>4045.586998</td>\n",
       "      <td>674</td>\n",
       "      <td>0</td>\n",
       "      <td>0</td>\n",
       "      <td>0</td>\n",
       "      <td>1</td>\n",
       "      <td>14</td>\n",
       "    </tr>\n",
       "    <tr>\n",
       "      <th>4</th>\n",
       "      <td>22</td>\n",
       "      <td>1</td>\n",
       "      <td>1</td>\n",
       "      <td>5</td>\n",
       "      <td>20142</td>\n",
       "      <td>22.9</td>\n",
       "      <td>2</td>\n",
       "      <td>2</td>\n",
       "      <td>-1</td>\n",
       "      <td>-1</td>\n",
       "      <td>...</td>\n",
       "      <td>0</td>\n",
       "      <td>0</td>\n",
       "      <td>0</td>\n",
       "      <td>6901.505814</td>\n",
       "      <td>0</td>\n",
       "      <td>0</td>\n",
       "      <td>0</td>\n",
       "      <td>0</td>\n",
       "      <td>1</td>\n",
       "      <td>14</td>\n",
       "    </tr>\n",
       "  </tbody>\n",
       "</table>\n",
       "<p>5 rows × 87 columns</p>\n",
       "</div>"
      ],
      "text/plain": [
       "   AGE_AS_OF_12/31/13_(EDITED/IMPUTED)  SEX  RACE/ETHNICITY_(EDITED/IMPUTED)  \\\n",
       "0                                   39    1                                1   \n",
       "1                                   40    2                                1   \n",
       "2                                   10    2                                1   \n",
       "3                                   52    1                                1   \n",
       "4                                   22    1                                1   \n",
       "\n",
       "   MARITAL_STATUS-12/31/13_(EDITED/IMPUTED)  FAMILY'S_TOTAL_INCOME  \\\n",
       "0                                         1                  85728   \n",
       "1                                         1                  85728   \n",
       "2                                         6                  85728   \n",
       "3                                         4                  20142   \n",
       "4                                         5                  20142   \n",
       "\n",
       "   ADULT_BODY_MASS_INDEX_(>17)_-_RD_5/3  HIGH_BLOOD_PRESSURE_DIAG_(>17)  \\\n",
       "0                                  35.5                               2   \n",
       "1                                  28.5                               2   \n",
       "2                                  -1.0                              -1   \n",
       "3                                  26.6                               1   \n",
       "4                                  22.9                               2   \n",
       "\n",
       "   CORONARY_HRT_DISEASE_DIAG_(>17)  AGE_OF_DIAGNOSIS-HIGH_BLOOD_PRESSURE  \\\n",
       "0                                2                                    -1   \n",
       "1                                2                                    -1   \n",
       "2                               -1                                    -1   \n",
       "3                                2                                    41   \n",
       "4                                2                                    -1   \n",
       "\n",
       "   MULT_DIAG_HIGH_BLOOD_PRESS_(>17)            ...              \\\n",
       "0                                -1            ...               \n",
       "1                                -1            ...               \n",
       "2                                -1            ...               \n",
       "3                                 2            ...               \n",
       "4                                -1            ...               \n",
       "\n",
       "   #_OUTPATIENT_DEPT_PROVIDER_VISITS_13  #_EMERGENCY_ROOM_VISITS_13  \\\n",
       "0                                     0                           0   \n",
       "1                                     0                           0   \n",
       "2                                     2                           0   \n",
       "3                                     0                           0   \n",
       "4                                     0                           0   \n",
       "\n",
       "   #_NIGHTS_IN_HOSP_FOR_DISCHARGES_2013  FINAL_PERSON_WEIGHT_2013  \\\n",
       "0                                     0               6594.801768   \n",
       "1                                     0               7144.183132   \n",
       "2                                     0               5616.278666   \n",
       "3                                     0               4045.586998   \n",
       "4                                     0               6901.505814   \n",
       "\n",
       "   TOTAL_OFFICE-BASED_EXP_13  TOTAL_OUTPATIENT_PROVIDER_EXP_13  \\\n",
       "0                        428                                 0   \n",
       "1                          0                                 0   \n",
       "2                          0                               108   \n",
       "3                        674                                 0   \n",
       "4                          0                                 0   \n",
       "\n",
       "   TOT_HOSP_IP_FACILITY_+_DR_EXP_13  TOTAL_ER_FACILITY_+_DR_EXP_13  \\\n",
       "0                                 0                              0   \n",
       "1                                 0                              0   \n",
       "2                                 0                              0   \n",
       "3                                 0                              0   \n",
       "4                                 0                              0   \n",
       "\n",
       "   CENSUS_REGION_AS_OF_12/31/13  EDUCATION_RECODE_(EDITED)  \n",
       "0                             3                         14  \n",
       "1                             3                         13  \n",
       "2                             3                          1  \n",
       "3                             1                         14  \n",
       "4                             1                         14  \n",
       "\n",
       "[5 rows x 87 columns]"
      ]
     },
     "execution_count": 32,
     "metadata": {},
     "output_type": "execute_result"
    }
   ],
   "source": [
    "data.head()"
   ]
  },
  {
   "cell_type": "markdown",
   "metadata": {},
   "source": [
    "Great! Now let's look at those four data points more closely. **N.B: Note the change of assignment to the name \"data\".**"
   ]
  },
  {
   "cell_type": "code",
   "execution_count": 33,
   "metadata": {
    "collapsed": false
   },
   "outputs": [
    {
     "data": {
      "text/html": [
       "<div>\n",
       "<table border=\"1\" class=\"dataframe\">\n",
       "  <thead>\n",
       "    <tr style=\"text-align: right;\">\n",
       "      <th></th>\n",
       "      <th>#_OFFICE-BASED_PROVIDER_VISITS_13</th>\n",
       "      <th>TOTAL_OFFICE-BASED_EXP_13</th>\n",
       "    </tr>\n",
       "  </thead>\n",
       "  <tbody>\n",
       "    <tr>\n",
       "      <th>2384</th>\n",
       "      <td>168</td>\n",
       "      <td>109403</td>\n",
       "    </tr>\n",
       "    <tr>\n",
       "      <th>2834</th>\n",
       "      <td>164</td>\n",
       "      <td>195295</td>\n",
       "    </tr>\n",
       "    <tr>\n",
       "      <th>15019</th>\n",
       "      <td>51</td>\n",
       "      <td>137891</td>\n",
       "    </tr>\n",
       "    <tr>\n",
       "      <th>15659</th>\n",
       "      <td>128</td>\n",
       "      <td>183384</td>\n",
       "    </tr>\n",
       "  </tbody>\n",
       "</table>\n",
       "</div>"
      ],
      "text/plain": [
       "       #_OFFICE-BASED_PROVIDER_VISITS_13  TOTAL_OFFICE-BASED_EXP_13\n",
       "2384                                 168                     109403\n",
       "2834                                 164                     195295\n",
       "15019                                 51                     137891\n",
       "15659                                128                     183384"
      ]
     },
     "execution_count": 33,
     "metadata": {},
     "output_type": "execute_result"
    }
   ],
   "source": [
    "data[[\"#_OFFICE-BASED_PROVIDER_VISITS_13\",\"TOTAL_OFFICE-BASED_EXP_13\"]][data[\"TOTAL_OFFICE-BASED_EXP_13\"]>=100000]"
   ]
  },
  {
   "cell_type": "markdown",
   "metadata": {},
   "source": [
    "Ok, if you look at the feature called \"# OFFICE-BASED PROVIDER VISITS 13\", it looks like these people had 168, 164, 51 and 128 visits each. While this certainly seems anomalous, it's consistent with the high values for amounts billed for office-based expenses.\n",
    "\n",
    "At this point it's unclear whether these points should be left in the dataset, or thrown out. On the one hand, one would hope that most people don't need over 160 visits to an office-based provider in a year. On the other hand, it's a well-documented fact that a small handful of very ill people account for the vast majority of healthcare costs in the U.S. every year (this is well known to third-party payors). This may make it important to keep in these outliers in the final model.\n",
    "\n",
    "I'd like to take a closer look at these points. What was the average charge per visit for these respondents?"
   ]
  },
  {
   "cell_type": "code",
   "execution_count": 34,
   "metadata": {
    "collapsed": false
   },
   "outputs": [
    {
     "data": {
      "text/plain": [
       "2384      651.208333\n",
       "2834     1190.823171\n",
       "15019    2703.745098\n",
       "15659    1432.687500\n",
       "dtype: float64"
      ]
     },
     "execution_count": 34,
     "metadata": {},
     "output_type": "execute_result"
    }
   ],
   "source": [
    "(data[\"TOTAL_OFFICE-BASED_EXP_13\"]/data[\"#_OFFICE-BASED_PROVIDER_VISITS_13\"])[data[\"TOTAL_OFFICE-BASED_EXP_13\"]>=100000]"
   ]
  },
  {
   "cell_type": "markdown",
   "metadata": {},
   "source": [
    "Between $\\$650$ and $\\$2700$. Presumably these were specialists, and expensive.\n",
    "\n",
    "If these amounts are not fraudulent, I can imagine that it would be important to leave them in while modeling, to help account for the risk of large healthcare bills. Since there are only four respondents with such high levels of expenditure, let's take a closer look to see if we can find out what drove their spending."
   ]
  },
  {
   "cell_type": "code",
   "execution_count": 35,
   "metadata": {
    "collapsed": false,
    "scrolled": true
   },
   "outputs": [
    {
     "data": {
      "text/html": [
       "<div>\n",
       "<table border=\"1\" class=\"dataframe\">\n",
       "  <thead>\n",
       "    <tr style=\"text-align: right;\">\n",
       "      <th></th>\n",
       "      <th>AGE_AS_OF_12/31/13_(EDITED/IMPUTED)</th>\n",
       "      <th>SEX</th>\n",
       "      <th>RACE/ETHNICITY_(EDITED/IMPUTED)</th>\n",
       "      <th>MARITAL_STATUS-12/31/13_(EDITED/IMPUTED)</th>\n",
       "      <th>FAMILY'S_TOTAL_INCOME</th>\n",
       "      <th>ADULT_BODY_MASS_INDEX_(&gt;17)_-_RD_5/3</th>\n",
       "      <th>HIGH_BLOOD_PRESSURE_DIAG_(&gt;17)</th>\n",
       "      <th>CORONARY_HRT_DISEASE_DIAG_(&gt;17)</th>\n",
       "      <th>AGE_OF_DIAGNOSIS-HIGH_BLOOD_PRESSURE</th>\n",
       "      <th>MULT_DIAG_HIGH_BLOOD_PRESS_(&gt;17)</th>\n",
       "      <th>...</th>\n",
       "      <th>#_OUTPATIENT_DEPT_PROVIDER_VISITS_13</th>\n",
       "      <th>#_EMERGENCY_ROOM_VISITS_13</th>\n",
       "      <th>#_NIGHTS_IN_HOSP_FOR_DISCHARGES_2013</th>\n",
       "      <th>FINAL_PERSON_WEIGHT_2013</th>\n",
       "      <th>TOTAL_OFFICE-BASED_EXP_13</th>\n",
       "      <th>TOTAL_OUTPATIENT_PROVIDER_EXP_13</th>\n",
       "      <th>TOT_HOSP_IP_FACILITY_+_DR_EXP_13</th>\n",
       "      <th>TOTAL_ER_FACILITY_+_DR_EXP_13</th>\n",
       "      <th>CENSUS_REGION_AS_OF_12/31/13</th>\n",
       "      <th>EDUCATION_RECODE_(EDITED)</th>\n",
       "    </tr>\n",
       "  </thead>\n",
       "  <tbody>\n",
       "    <tr>\n",
       "      <th>2384</th>\n",
       "      <td>54</td>\n",
       "      <td>1</td>\n",
       "      <td>2</td>\n",
       "      <td>3</td>\n",
       "      <td>8652</td>\n",
       "      <td>35.0</td>\n",
       "      <td>1</td>\n",
       "      <td>2</td>\n",
       "      <td>50</td>\n",
       "      <td>2</td>\n",
       "      <td>...</td>\n",
       "      <td>2</td>\n",
       "      <td>3</td>\n",
       "      <td>0</td>\n",
       "      <td>10189.789734</td>\n",
       "      <td>109403</td>\n",
       "      <td>1122</td>\n",
       "      <td>0</td>\n",
       "      <td>1878</td>\n",
       "      <td>3</td>\n",
       "      <td>2</td>\n",
       "    </tr>\n",
       "    <tr>\n",
       "      <th>2834</th>\n",
       "      <td>67</td>\n",
       "      <td>2</td>\n",
       "      <td>2</td>\n",
       "      <td>1</td>\n",
       "      <td>126230</td>\n",
       "      <td>26.3</td>\n",
       "      <td>1</td>\n",
       "      <td>1</td>\n",
       "      <td>35</td>\n",
       "      <td>1</td>\n",
       "      <td>...</td>\n",
       "      <td>0</td>\n",
       "      <td>0</td>\n",
       "      <td>17</td>\n",
       "      <td>22234.388648</td>\n",
       "      <td>195295</td>\n",
       "      <td>0</td>\n",
       "      <td>74030</td>\n",
       "      <td>0</td>\n",
       "      <td>4</td>\n",
       "      <td>14</td>\n",
       "    </tr>\n",
       "    <tr>\n",
       "      <th>15019</th>\n",
       "      <td>10</td>\n",
       "      <td>1</td>\n",
       "      <td>3</td>\n",
       "      <td>6</td>\n",
       "      <td>73568</td>\n",
       "      <td>-1.0</td>\n",
       "      <td>-1</td>\n",
       "      <td>-1</td>\n",
       "      <td>-1</td>\n",
       "      <td>-1</td>\n",
       "      <td>...</td>\n",
       "      <td>11</td>\n",
       "      <td>3</td>\n",
       "      <td>26</td>\n",
       "      <td>16134.188642</td>\n",
       "      <td>137891</td>\n",
       "      <td>3444</td>\n",
       "      <td>59615</td>\n",
       "      <td>1163</td>\n",
       "      <td>3</td>\n",
       "      <td>1</td>\n",
       "    </tr>\n",
       "    <tr>\n",
       "      <th>15659</th>\n",
       "      <td>68</td>\n",
       "      <td>2</td>\n",
       "      <td>5</td>\n",
       "      <td>3</td>\n",
       "      <td>31349</td>\n",
       "      <td>27.8</td>\n",
       "      <td>1</td>\n",
       "      <td>2</td>\n",
       "      <td>52</td>\n",
       "      <td>1</td>\n",
       "      <td>...</td>\n",
       "      <td>9</td>\n",
       "      <td>3</td>\n",
       "      <td>7</td>\n",
       "      <td>15650.765936</td>\n",
       "      <td>183384</td>\n",
       "      <td>484</td>\n",
       "      <td>10670</td>\n",
       "      <td>1600</td>\n",
       "      <td>1</td>\n",
       "      <td>14</td>\n",
       "    </tr>\n",
       "  </tbody>\n",
       "</table>\n",
       "<p>4 rows × 87 columns</p>\n",
       "</div>"
      ],
      "text/plain": [
       "       AGE_AS_OF_12/31/13_(EDITED/IMPUTED)  SEX  \\\n",
       "2384                                    54    1   \n",
       "2834                                    67    2   \n",
       "15019                                   10    1   \n",
       "15659                                   68    2   \n",
       "\n",
       "       RACE/ETHNICITY_(EDITED/IMPUTED)  \\\n",
       "2384                                 2   \n",
       "2834                                 2   \n",
       "15019                                3   \n",
       "15659                                5   \n",
       "\n",
       "       MARITAL_STATUS-12/31/13_(EDITED/IMPUTED)  FAMILY'S_TOTAL_INCOME  \\\n",
       "2384                                          3                   8652   \n",
       "2834                                          1                 126230   \n",
       "15019                                         6                  73568   \n",
       "15659                                         3                  31349   \n",
       "\n",
       "       ADULT_BODY_MASS_INDEX_(>17)_-_RD_5/3  HIGH_BLOOD_PRESSURE_DIAG_(>17)  \\\n",
       "2384                                   35.0                               1   \n",
       "2834                                   26.3                               1   \n",
       "15019                                  -1.0                              -1   \n",
       "15659                                  27.8                               1   \n",
       "\n",
       "       CORONARY_HRT_DISEASE_DIAG_(>17)  AGE_OF_DIAGNOSIS-HIGH_BLOOD_PRESSURE  \\\n",
       "2384                                 2                                    50   \n",
       "2834                                 1                                    35   \n",
       "15019                               -1                                    -1   \n",
       "15659                                2                                    52   \n",
       "\n",
       "       MULT_DIAG_HIGH_BLOOD_PRESS_(>17)            ...              \\\n",
       "2384                                  2            ...               \n",
       "2834                                  1            ...               \n",
       "15019                                -1            ...               \n",
       "15659                                 1            ...               \n",
       "\n",
       "       #_OUTPATIENT_DEPT_PROVIDER_VISITS_13  #_EMERGENCY_ROOM_VISITS_13  \\\n",
       "2384                                      2                           3   \n",
       "2834                                      0                           0   \n",
       "15019                                    11                           3   \n",
       "15659                                     9                           3   \n",
       "\n",
       "       #_NIGHTS_IN_HOSP_FOR_DISCHARGES_2013  FINAL_PERSON_WEIGHT_2013  \\\n",
       "2384                                      0              10189.789734   \n",
       "2834                                     17              22234.388648   \n",
       "15019                                    26              16134.188642   \n",
       "15659                                     7              15650.765936   \n",
       "\n",
       "       TOTAL_OFFICE-BASED_EXP_13  TOTAL_OUTPATIENT_PROVIDER_EXP_13  \\\n",
       "2384                      109403                              1122   \n",
       "2834                      195295                                 0   \n",
       "15019                     137891                              3444   \n",
       "15659                     183384                               484   \n",
       "\n",
       "       TOT_HOSP_IP_FACILITY_+_DR_EXP_13  TOTAL_ER_FACILITY_+_DR_EXP_13  \\\n",
       "2384                                  0                           1878   \n",
       "2834                              74030                              0   \n",
       "15019                             59615                           1163   \n",
       "15659                             10670                           1600   \n",
       "\n",
       "       CENSUS_REGION_AS_OF_12/31/13  EDUCATION_RECODE_(EDITED)  \n",
       "2384                              3                          2  \n",
       "2834                              4                         14  \n",
       "15019                             3                          1  \n",
       "15659                             1                         14  \n",
       "\n",
       "[4 rows x 87 columns]"
      ]
     },
     "execution_count": 35,
     "metadata": {},
     "output_type": "execute_result"
    }
   ],
   "source": [
    "temp=data[variables][data[\"TOTAL_OFFICE-BASED_EXP_13\"]>=100000]\n",
    "temp"
   ]
  },
  {
   "cell_type": "markdown",
   "metadata": {},
   "source": [
    "I'll take a look at these respondents one by one:"
   ]
  },
  {
   "cell_type": "code",
   "execution_count": 36,
   "metadata": {
    "collapsed": false,
    "scrolled": true
   },
   "outputs": [
    {
     "name": "stdout",
     "output_type": "stream",
     "text": [
      "AGE_AS_OF_12/31/13_(EDITED/IMPUTED) \t 54\n",
      "SEX \t MALE\n",
      "RACE/ETHNICITY_(EDITED/IMPUTED) \t NON-HISPANIC WHITE ONLY\n",
      "MARITAL_STATUS-12/31/13_(EDITED/IMPUTED) \t DIVORCED\n",
      "FAMILY'S_TOTAL_INCOME \t 8652\n",
      "ADULT_BODY_MASS_INDEX_(>17)_-_RD_5/3 \t 35.0\n",
      "HIGH_BLOOD_PRESSURE_DIAG_(>17) \t Yes\n",
      "CORONARY_HRT_DISEASE_DIAG_(>17) \t No\n",
      "AGE_OF_DIAGNOSIS-HIGH_BLOOD_PRESSURE \t 50\n",
      "MULT_DIAG_HIGH_BLOOD_PRESS_(>17) \t No\n",
      "AGE_OF_DIAGNOSIS-CORONARY_HEART_DISEASE \t inapplicable\n",
      "ANGINA_DIAGNOSIS_(>17) \t No\n",
      "AGE_OF_DIAGNOSIS-ANGINA \t inapplicable\n",
      "HEART_ATTACK_(MI)_DIAG_(>17) \t No\n",
      "AGE_OF_DIAGNOSIS-HEART_ATTACK(MI) \t inapplicable\n",
      "OTHER_HEART_DISEASE_DIAG_(>17) \t No\n",
      "AGE_OF_DIAGNOSIS-OTHER_HEART_DISEASE \t inapplicable\n",
      "STROKE_DIAGNOSIS_(>17) \t No\n",
      "AGE_OF_DIAGNOSIS-STROKE \t inapplicable\n",
      "EMPHYSEMA_DIAGNOSIS_(>17) \t Yes\n",
      "AGE_OF_DIAGNOSIS-EMPHYSEMA \t 45\n",
      "CHRONC_BRONCHITS_LAST_12_MTHS_(>17)-R3/1 \t No\n",
      "CHRONC_BRONCHITS_LAST_12_MTHS_(>17)-R5/3 \t No\n",
      "HIGH_CHOLESTEROL_DIAGNOSIS_(>17) \t No\n",
      "AGE_OF_DIAGNOSIS-HIGH_CHOLESTEROL \t inapplicable\n",
      "CANCER_DIAGNOSIS_(>17) \t No\n",
      "CANCER_DIAGNOSED_-_BLADDER_(>17) \t Inapplicable\n",
      "CANCER_DIAGNOSED_-_BREAST_(>17) \t Inapplicable\n",
      "CANCER_DIAGNOSED_-_CERVIX_(>17) \t Inapplicable\n",
      "CANCER_DIAGNOSED_-_COLON_(>17) \t Inapplicable\n",
      "CANCER_DIAGNOSED_-_LUNG_(>17) \t Inapplicable\n",
      "CANCER_DIAGNOSED_-_LYMPHOMA_(>17) \t Inapplicable\n",
      "CANCER_DIAGNOSED_-_MELANOMA_(>17) \t Inapplicable\n",
      "CANCER_DIAGNOSED_-_OTHER_(>17) \t Inapplicable\n",
      "CANCER_DIAGNOSED_-_PROSTATE_(>17) \t Inapplicable\n",
      "CANCER_DIAGNOSED_-_SKIN-NONMELANO_(>17) \t Inapplicable\n",
      "CANCER_DIAGNOSED-SKIN-UNKNOWN_TYPE_(>17) \t Inapplicable\n",
      "CANCER_DIAGNOSED_-_UTERUS_(>17) \t Inapplicable\n",
      "DIABETES_DIAGNOSIS_(>17) \t Yes\n",
      "AGE_OF_DIAGNOSIS-DIABETES \t 53\n",
      "JOINT_PAIN_LAST_12_MONTHS_(>17)_-_RD_3/1 \t Yes\n",
      "JOINT_PAIN_LAST_12_MONTHS_(>17)_-_RD_5/3 \t Yes\n",
      "ARTHRITIS_DIAGNOSIS_(>17) \t No\n",
      "AGE_OF_DIAGNOSIS-ARTHRITIS \t inapplicable\n",
      "ASTHMA_DIAGNOSIS \t No\n",
      "AGE_OF_DIAGNOSIS-ASTHMA \t inapplicable\n",
      "DOES_PERSON_STILL_HAVE_ASTHMA-RD3/1 \t Inapplicable\n",
      "DOES_PERSON_STILL_HAVE_ASTHMA_-_RD_5/3 \t Inapplicable\n",
      "ASTHMA_ATTACK_LAST_12_MOS_-_RD3/1 \t Inapplicable\n",
      "USED_ACUTE_PRES_INHALER_LAST_3_MOS-RD5/3 \t Inapplicable\n",
      "USED>3ACUTE_CN_PRES_INH_LAST_3_MOS-RD5/3 \t Inapplicable\n",
      "EVER_USED_PREV_DAILY_ASTHMA_MEDS_-RD_5/3 \t Inapplicable\n",
      "NOW_TAKE_PREV_DAILY_ASTHMA_MEDS_-_RD_5/3 \t Inapplicable\n",
      "HAVE_PEAK_FLOW_METER_AT_HOME_-_RD_5/3 \t Inapplicable\n",
      "EVER_USED_PEAK_FLOW_METER_-_RD_5/3 \t Inapplicable\n",
      "ADHDADD_DIAGNOSIS_(5-17) \t Inapplicable\n",
      "AGE_OF_DIAGNOSIS-ADHD/ADD \t inapplicable\n",
      "PREGNANT_DURING_REF_PERIOD_-_RD_3/1 \t Inapplicable\n",
      "LIMITATION_IN_PHYSICAL_FUNCTIONING-RD3/1 \t Yes\n",
      "EMPLOYMENT_STATUS_RD_3/1 \t NOT EMPLOYED DURING RD 3/1\n",
      "HAS_MORE_THAN_ONE_JOB_RD_3/1_INT_DATE \t Inapplicable\n",
      "SELF-EMPLOYED_AT_RD_3/1_CMJ \t Inapplicable\n",
      "CHOICE_OF_HEALTH_PLANS_AT_RD_3/1_CMJ \t Inapplicable\n",
      "INDUSTRY_GROUP_RD_3/1_CMJ \t INAPPLICABLE\n",
      "UNION_STATUS_AT_RD_3/1_CMJ \t Inapplicable\n",
      "OCCUPATION_GROUP_RD_3/1_CMJ \t INAPPLICABLE\n",
      "HEALTH_INSUR_HELD_FROM_RD_3/1_CMJ_(ED) \t Inapplicable\n",
      "HEALTH_INSUR_OFFERED_BY_RD_3/1_CMJ_(ED) \t Inapplicable\n",
      "EMPLOYER_OFFERS_HEALTH_INS_RD_3/1_CMJ \t Inapplicable\n",
      "FULL_YEAR_INSURANCE_COVERAGE_STATUS_2013 \t <65 ANY PRIVATE\n",
      "ANYONE_IN_RU_HAVE_FSA_-_R3/1 \t No\n",
      "#_WKS/MON_WOUT_HLTH_INS_PRV_YR-PN_18_ONL \t inapplicable\n",
      "PRIVATE_INSURANCE_ANY_TIME_IN_R5/R3 \t Yes\n",
      "PUBLIC_INS_ANY_TIME_IN_R5/R3 \t Yes\n",
      "INSURED_ANY_TIME_IN_R3/1 \t Yes\n",
      "ANY_TIME_COVERAGE_BY_STATE_INS_-_R3/1 \t No\n",
      "#_OFFICE-BASED_PROVIDER_VISITS_13 \t 168\n",
      "#_OUTPATIENT_DEPT_PROVIDER_VISITS_13 \t 2\n",
      "#_EMERGENCY_ROOM_VISITS_13 \t 3\n",
      "#_NIGHTS_IN_HOSP_FOR_DISCHARGES_2013 \t 0\n",
      "FINAL_PERSON_WEIGHT_2013 \t 10189.789734\n",
      "TOTAL_OFFICE-BASED_EXP_13 \t 109403\n",
      "TOTAL_OUTPATIENT_PROVIDER_EXP_13 \t 1122\n",
      "TOT_HOSP_IP_FACILITY_+_DR_EXP_13 \t 0\n",
      "TOTAL_ER_FACILITY_+_DR_EXP_13 \t 1878\n",
      "CENSUS_REGION_AS_OF_12/31/13 \t South\n",
      "EDUCATION_RECODE_(EDITED) \t 9 - 12TH GRADE, NO HS DIPLOMA OR GED\n"
     ]
    }
   ],
   "source": [
    "for f in temp.columns:\n",
    "    print(f,\"\\t\",interpret_vectorized(temp,f).ix[2384])\n",
    "    \n",
    "#54 year old male, high blood pressure, low income, high bmi, emphysema, joint pain, limitations in physical functioning\n",
    "#private insurance"
   ]
  },
  {
   "cell_type": "code",
   "execution_count": 37,
   "metadata": {
    "collapsed": false,
    "scrolled": true
   },
   "outputs": [
    {
     "name": "stdout",
     "output_type": "stream",
     "text": [
      "AGE_AS_OF_12/31/13_(EDITED/IMPUTED) \t 67\n",
      "SEX \t FEMALE\n",
      "RACE/ETHNICITY_(EDITED/IMPUTED) \t NON-HISPANIC WHITE ONLY\n",
      "MARITAL_STATUS-12/31/13_(EDITED/IMPUTED) \t MARRIED\n",
      "FAMILY'S_TOTAL_INCOME \t 126230\n",
      "ADULT_BODY_MASS_INDEX_(>17)_-_RD_5/3 \t 26.3\n",
      "HIGH_BLOOD_PRESSURE_DIAG_(>17) \t Yes\n",
      "CORONARY_HRT_DISEASE_DIAG_(>17) \t Yes\n",
      "AGE_OF_DIAGNOSIS-HIGH_BLOOD_PRESSURE \t 35\n",
      "MULT_DIAG_HIGH_BLOOD_PRESS_(>17) \t Yes\n",
      "AGE_OF_DIAGNOSIS-CORONARY_HEART_DISEASE \t 44\n",
      "ANGINA_DIAGNOSIS_(>17) \t Yes\n",
      "AGE_OF_DIAGNOSIS-ANGINA \t 44\n",
      "HEART_ATTACK_(MI)_DIAG_(>17) \t No\n",
      "AGE_OF_DIAGNOSIS-HEART_ATTACK(MI) \t inapplicable\n",
      "OTHER_HEART_DISEASE_DIAG_(>17) \t Yes\n",
      "AGE_OF_DIAGNOSIS-OTHER_HEART_DISEASE \t 63\n",
      "STROKE_DIAGNOSIS_(>17) \t Yes\n",
      "AGE_OF_DIAGNOSIS-STROKE \t 66\n",
      "EMPHYSEMA_DIAGNOSIS_(>17) \t No\n",
      "AGE_OF_DIAGNOSIS-EMPHYSEMA \t inapplicable\n",
      "CHRONC_BRONCHITS_LAST_12_MTHS_(>17)-R3/1 \t No\n",
      "CHRONC_BRONCHITS_LAST_12_MTHS_(>17)-R5/3 \t No\n",
      "HIGH_CHOLESTEROL_DIAGNOSIS_(>17) \t No\n",
      "AGE_OF_DIAGNOSIS-HIGH_CHOLESTEROL \t inapplicable\n",
      "CANCER_DIAGNOSIS_(>17) \t No\n",
      "CANCER_DIAGNOSED_-_BLADDER_(>17) \t Inapplicable\n",
      "CANCER_DIAGNOSED_-_BREAST_(>17) \t Inapplicable\n",
      "CANCER_DIAGNOSED_-_CERVIX_(>17) \t Inapplicable\n",
      "CANCER_DIAGNOSED_-_COLON_(>17) \t Inapplicable\n",
      "CANCER_DIAGNOSED_-_LUNG_(>17) \t Inapplicable\n",
      "CANCER_DIAGNOSED_-_LYMPHOMA_(>17) \t Inapplicable\n",
      "CANCER_DIAGNOSED_-_MELANOMA_(>17) \t Inapplicable\n",
      "CANCER_DIAGNOSED_-_OTHER_(>17) \t Inapplicable\n",
      "CANCER_DIAGNOSED_-_PROSTATE_(>17) \t Inapplicable\n",
      "CANCER_DIAGNOSED_-_SKIN-NONMELANO_(>17) \t Inapplicable\n",
      "CANCER_DIAGNOSED-SKIN-UNKNOWN_TYPE_(>17) \t Inapplicable\n",
      "CANCER_DIAGNOSED_-_UTERUS_(>17) \t Inapplicable\n",
      "DIABETES_DIAGNOSIS_(>17) \t Yes\n",
      "AGE_OF_DIAGNOSIS-DIABETES \t 38\n",
      "JOINT_PAIN_LAST_12_MONTHS_(>17)_-_RD_3/1 \t No\n",
      "JOINT_PAIN_LAST_12_MONTHS_(>17)_-_RD_5/3 \t No\n",
      "ARTHRITIS_DIAGNOSIS_(>17) \t Yes\n",
      "AGE_OF_DIAGNOSIS-ARTHRITIS \t 60\n",
      "ASTHMA_DIAGNOSIS \t No\n",
      "AGE_OF_DIAGNOSIS-ASTHMA \t inapplicable\n",
      "DOES_PERSON_STILL_HAVE_ASTHMA-RD3/1 \t Inapplicable\n",
      "DOES_PERSON_STILL_HAVE_ASTHMA_-_RD_5/3 \t Inapplicable\n",
      "ASTHMA_ATTACK_LAST_12_MOS_-_RD3/1 \t Inapplicable\n",
      "USED_ACUTE_PRES_INHALER_LAST_3_MOS-RD5/3 \t Inapplicable\n",
      "USED>3ACUTE_CN_PRES_INH_LAST_3_MOS-RD5/3 \t Inapplicable\n",
      "EVER_USED_PREV_DAILY_ASTHMA_MEDS_-RD_5/3 \t Inapplicable\n",
      "NOW_TAKE_PREV_DAILY_ASTHMA_MEDS_-_RD_5/3 \t Inapplicable\n",
      "HAVE_PEAK_FLOW_METER_AT_HOME_-_RD_5/3 \t Inapplicable\n",
      "EVER_USED_PEAK_FLOW_METER_-_RD_5/3 \t Inapplicable\n",
      "ADHDADD_DIAGNOSIS_(5-17) \t Inapplicable\n",
      "AGE_OF_DIAGNOSIS-ADHD/ADD \t inapplicable\n",
      "PREGNANT_DURING_REF_PERIOD_-_RD_3/1 \t Inapplicable\n",
      "LIMITATION_IN_PHYSICAL_FUNCTIONING-RD3/1 \t Yes\n",
      "EMPLOYMENT_STATUS_RD_3/1 \t NOT EMPLOYED DURING RD 3/1\n",
      "HAS_MORE_THAN_ONE_JOB_RD_3/1_INT_DATE \t Inapplicable\n",
      "SELF-EMPLOYED_AT_RD_3/1_CMJ \t Inapplicable\n",
      "CHOICE_OF_HEALTH_PLANS_AT_RD_3/1_CMJ \t Inapplicable\n",
      "INDUSTRY_GROUP_RD_3/1_CMJ \t INAPPLICABLE\n",
      "UNION_STATUS_AT_RD_3/1_CMJ \t Inapplicable\n",
      "OCCUPATION_GROUP_RD_3/1_CMJ \t INAPPLICABLE\n",
      "HEALTH_INSUR_HELD_FROM_RD_3/1_CMJ_(ED) \t Inapplicable\n",
      "HEALTH_INSUR_OFFERED_BY_RD_3/1_CMJ_(ED) \t Inapplicable\n",
      "EMPLOYER_OFFERS_HEALTH_INS_RD_3/1_CMJ \t Inapplicable\n",
      "FULL_YEAR_INSURANCE_COVERAGE_STATUS_2013 \t 65+ EDITED MEDICARE AND PRIVATE\n",
      "ANYONE_IN_RU_HAVE_FSA_-_R3/1 \t No\n",
      "#_WKS/MON_WOUT_HLTH_INS_PRV_YR-PN_18_ONL \t inapplicable\n",
      "PRIVATE_INSURANCE_ANY_TIME_IN_R5/R3 \t Yes\n",
      "PUBLIC_INS_ANY_TIME_IN_R5/R3 \t Yes\n",
      "INSURED_ANY_TIME_IN_R3/1 \t Yes\n",
      "ANY_TIME_COVERAGE_BY_STATE_INS_-_R3/1 \t No\n",
      "#_OFFICE-BASED_PROVIDER_VISITS_13 \t 164\n",
      "#_OUTPATIENT_DEPT_PROVIDER_VISITS_13 \t 0\n",
      "#_EMERGENCY_ROOM_VISITS_13 \t 0\n",
      "#_NIGHTS_IN_HOSP_FOR_DISCHARGES_2013 \t 17\n",
      "FINAL_PERSON_WEIGHT_2013 \t 22234.388648\n",
      "TOTAL_OFFICE-BASED_EXP_13 \t 195295\n",
      "TOTAL_OUTPATIENT_PROVIDER_EXP_13 \t 0\n",
      "TOT_HOSP_IP_FACILITY_+_DR_EXP_13 \t 74030\n",
      "TOTAL_ER_FACILITY_+_DR_EXP_13 \t 0\n",
      "CENSUS_REGION_AS_OF_12/31/13 \t West\n",
      "EDUCATION_RECODE_(EDITED) \t BEYOND HS,COLLEGE(NO 4YR DEG),ASSOC DEG\n"
     ]
    }
   ],
   "source": [
    "for f in temp.columns:\n",
    "    print(f,\"\\t\",interpret_vectorized(temp,f).ix[2834])\n",
    "    \n",
    "#67 year old female, relatively high income, heart disease, high blood pressure, angina, stroke, diabetes, arthritis, \n",
    "#on both medicare and private insurance, "
   ]
  },
  {
   "cell_type": "code",
   "execution_count": 38,
   "metadata": {
    "collapsed": false,
    "scrolled": true
   },
   "outputs": [
    {
     "name": "stdout",
     "output_type": "stream",
     "text": [
      "AGE_AS_OF_12/31/13_(EDITED/IMPUTED) \t 10\n",
      "SEX \t MALE\n",
      "RACE/ETHNICITY_(EDITED/IMPUTED) \t NON-HISPANIC BLACK ONLY\n",
      "MARITAL_STATUS-12/31/13_(EDITED/IMPUTED) \t UNDER 16 - INAPPLICABLE\n",
      "FAMILY'S_TOTAL_INCOME \t 73568\n",
      "ADULT_BODY_MASS_INDEX_(>17)_-_RD_5/3 \t inapplicable\n",
      "HIGH_BLOOD_PRESSURE_DIAG_(>17) \t Inapplicable\n",
      "CORONARY_HRT_DISEASE_DIAG_(>17) \t Inapplicable\n",
      "AGE_OF_DIAGNOSIS-HIGH_BLOOD_PRESSURE \t inapplicable\n",
      "MULT_DIAG_HIGH_BLOOD_PRESS_(>17) \t Inapplicable\n",
      "AGE_OF_DIAGNOSIS-CORONARY_HEART_DISEASE \t inapplicable\n",
      "ANGINA_DIAGNOSIS_(>17) \t Inapplicable\n",
      "AGE_OF_DIAGNOSIS-ANGINA \t inapplicable\n",
      "HEART_ATTACK_(MI)_DIAG_(>17) \t Inapplicable\n",
      "AGE_OF_DIAGNOSIS-HEART_ATTACK(MI) \t inapplicable\n",
      "OTHER_HEART_DISEASE_DIAG_(>17) \t Inapplicable\n",
      "AGE_OF_DIAGNOSIS-OTHER_HEART_DISEASE \t inapplicable\n",
      "STROKE_DIAGNOSIS_(>17) \t Inapplicable\n",
      "AGE_OF_DIAGNOSIS-STROKE \t inapplicable\n",
      "EMPHYSEMA_DIAGNOSIS_(>17) \t Inapplicable\n",
      "AGE_OF_DIAGNOSIS-EMPHYSEMA \t inapplicable\n",
      "CHRONC_BRONCHITS_LAST_12_MTHS_(>17)-R3/1 \t Inapplicable\n",
      "CHRONC_BRONCHITS_LAST_12_MTHS_(>17)-R5/3 \t Inapplicable\n",
      "HIGH_CHOLESTEROL_DIAGNOSIS_(>17) \t Inapplicable\n",
      "AGE_OF_DIAGNOSIS-HIGH_CHOLESTEROL \t inapplicable\n",
      "CANCER_DIAGNOSIS_(>17) \t Inapplicable\n",
      "CANCER_DIAGNOSED_-_BLADDER_(>17) \t Inapplicable\n",
      "CANCER_DIAGNOSED_-_BREAST_(>17) \t Inapplicable\n",
      "CANCER_DIAGNOSED_-_CERVIX_(>17) \t Inapplicable\n",
      "CANCER_DIAGNOSED_-_COLON_(>17) \t Inapplicable\n",
      "CANCER_DIAGNOSED_-_LUNG_(>17) \t Inapplicable\n",
      "CANCER_DIAGNOSED_-_LYMPHOMA_(>17) \t Inapplicable\n",
      "CANCER_DIAGNOSED_-_MELANOMA_(>17) \t Inapplicable\n",
      "CANCER_DIAGNOSED_-_OTHER_(>17) \t Inapplicable\n",
      "CANCER_DIAGNOSED_-_PROSTATE_(>17) \t Inapplicable\n",
      "CANCER_DIAGNOSED_-_SKIN-NONMELANO_(>17) \t Inapplicable\n",
      "CANCER_DIAGNOSED-SKIN-UNKNOWN_TYPE_(>17) \t Inapplicable\n",
      "CANCER_DIAGNOSED_-_UTERUS_(>17) \t Inapplicable\n",
      "DIABETES_DIAGNOSIS_(>17) \t Inapplicable\n",
      "AGE_OF_DIAGNOSIS-DIABETES \t inapplicable\n",
      "JOINT_PAIN_LAST_12_MONTHS_(>17)_-_RD_3/1 \t Inapplicable\n",
      "JOINT_PAIN_LAST_12_MONTHS_(>17)_-_RD_5/3 \t Inapplicable\n",
      "ARTHRITIS_DIAGNOSIS_(>17) \t Inapplicable\n",
      "AGE_OF_DIAGNOSIS-ARTHRITIS \t inapplicable\n",
      "ASTHMA_DIAGNOSIS \t Yes\n",
      "AGE_OF_DIAGNOSIS-ASTHMA \t 6\n",
      "DOES_PERSON_STILL_HAVE_ASTHMA-RD3/1 \t Yes\n",
      "DOES_PERSON_STILL_HAVE_ASTHMA_-_RD_5/3 \t Yes\n",
      "ASTHMA_ATTACK_LAST_12_MOS_-_RD3/1 \t No\n",
      "USED_ACUTE_PRES_INHALER_LAST_3_MOS-RD5/3 \t Yes\n",
      "USED>3ACUTE_CN_PRES_INH_LAST_3_MOS-RD5/3 \t No\n",
      "EVER_USED_PREV_DAILY_ASTHMA_MEDS_-RD_5/3 \t Yes\n",
      "NOW_TAKE_PREV_DAILY_ASTHMA_MEDS_-_RD_5/3 \t Yes\n",
      "HAVE_PEAK_FLOW_METER_AT_HOME_-_RD_5/3 \t No\n",
      "EVER_USED_PEAK_FLOW_METER_-_RD_5/3 \t Inapplicable\n",
      "ADHDADD_DIAGNOSIS_(5-17) \t No\n",
      "AGE_OF_DIAGNOSIS-ADHD/ADD \t inapplicable\n",
      "PREGNANT_DURING_REF_PERIOD_-_RD_3/1 \t Inapplicable\n",
      "LIMITATION_IN_PHYSICAL_FUNCTIONING-RD3/1 \t Don't know\n",
      "EMPLOYMENT_STATUS_RD_3/1 \t INAPPLICABLE\n",
      "HAS_MORE_THAN_ONE_JOB_RD_3/1_INT_DATE \t Inapplicable\n",
      "SELF-EMPLOYED_AT_RD_3/1_CMJ \t Inapplicable\n",
      "CHOICE_OF_HEALTH_PLANS_AT_RD_3/1_CMJ \t Inapplicable\n",
      "INDUSTRY_GROUP_RD_3/1_CMJ \t INAPPLICABLE\n",
      "UNION_STATUS_AT_RD_3/1_CMJ \t Inapplicable\n",
      "OCCUPATION_GROUP_RD_3/1_CMJ \t INAPPLICABLE\n",
      "HEALTH_INSUR_HELD_FROM_RD_3/1_CMJ_(ED) \t Inapplicable\n",
      "HEALTH_INSUR_OFFERED_BY_RD_3/1_CMJ_(ED) \t Inapplicable\n",
      "EMPLOYER_OFFERS_HEALTH_INS_RD_3/1_CMJ \t Inapplicable\n",
      "FULL_YEAR_INSURANCE_COVERAGE_STATUS_2013 \t <65 ANY PRIVATE\n",
      "ANYONE_IN_RU_HAVE_FSA_-_R3/1 \t No\n",
      "#_WKS/MON_WOUT_HLTH_INS_PRV_YR-PN_18_ONL \t inapplicable\n",
      "PRIVATE_INSURANCE_ANY_TIME_IN_R5/R3 \t Yes\n",
      "PUBLIC_INS_ANY_TIME_IN_R5/R3 \t Yes\n",
      "INSURED_ANY_TIME_IN_R3/1 \t Yes\n",
      "ANY_TIME_COVERAGE_BY_STATE_INS_-_R3/1 \t No\n",
      "#_OFFICE-BASED_PROVIDER_VISITS_13 \t 51\n",
      "#_OUTPATIENT_DEPT_PROVIDER_VISITS_13 \t 11\n",
      "#_EMERGENCY_ROOM_VISITS_13 \t 3\n",
      "#_NIGHTS_IN_HOSP_FOR_DISCHARGES_2013 \t 26\n",
      "FINAL_PERSON_WEIGHT_2013 \t 16134.188642\n",
      "TOTAL_OFFICE-BASED_EXP_13 \t 137891\n",
      "TOTAL_OUTPATIENT_PROVIDER_EXP_13 \t 3444\n",
      "TOT_HOSP_IP_FACILITY_+_DR_EXP_13 \t 59615\n",
      "TOTAL_ER_FACILITY_+_DR_EXP_13 \t 1163\n",
      "CENSUS_REGION_AS_OF_12/31/13 \t South\n",
      "EDUCATION_RECODE_(EDITED) \t LESS THAN/EQUAL TO 8TH GRADE\n"
     ]
    }
   ],
   "source": [
    "for f in temp.columns:\n",
    "    print(f,\"\\t\",interpret_vectorized(temp,f).ix[15019])\n",
    "    \n",
    "# 10 year old male, moderately high family income, asthma, every other diagnosis is censored. This respondent may be very sick, but the survey censors\n",
    "#diagnosis information for everyone under 18"
   ]
  },
  {
   "cell_type": "code",
   "execution_count": 39,
   "metadata": {
    "collapsed": false,
    "scrolled": true
   },
   "outputs": [
    {
     "name": "stdout",
     "output_type": "stream",
     "text": [
      "AGE_AS_OF_12/31/13_(EDITED/IMPUTED) \t 68\n",
      "SEX \t FEMALE\n",
      "RACE/ETHNICITY_(EDITED/IMPUTED) \t NON-HISPANIC OTHER RACE OR MULTIPLE RACE\n",
      "MARITAL_STATUS-12/31/13_(EDITED/IMPUTED) \t DIVORCED\n",
      "FAMILY'S_TOTAL_INCOME \t 31349\n",
      "ADULT_BODY_MASS_INDEX_(>17)_-_RD_5/3 \t 27.8\n",
      "HIGH_BLOOD_PRESSURE_DIAG_(>17) \t Yes\n",
      "CORONARY_HRT_DISEASE_DIAG_(>17) \t No\n",
      "AGE_OF_DIAGNOSIS-HIGH_BLOOD_PRESSURE \t 52\n",
      "MULT_DIAG_HIGH_BLOOD_PRESS_(>17) \t Yes\n",
      "AGE_OF_DIAGNOSIS-CORONARY_HEART_DISEASE \t inapplicable\n",
      "ANGINA_DIAGNOSIS_(>17) \t No\n",
      "AGE_OF_DIAGNOSIS-ANGINA \t inapplicable\n",
      "HEART_ATTACK_(MI)_DIAG_(>17) \t No\n",
      "AGE_OF_DIAGNOSIS-HEART_ATTACK(MI) \t inapplicable\n",
      "OTHER_HEART_DISEASE_DIAG_(>17) \t Yes\n",
      "AGE_OF_DIAGNOSIS-OTHER_HEART_DISEASE \t inapplicable\n",
      "STROKE_DIAGNOSIS_(>17) \t No\n",
      "AGE_OF_DIAGNOSIS-STROKE \t inapplicable\n",
      "EMPHYSEMA_DIAGNOSIS_(>17) \t No\n",
      "AGE_OF_DIAGNOSIS-EMPHYSEMA \t inapplicable\n",
      "CHRONC_BRONCHITS_LAST_12_MTHS_(>17)-R3/1 \t No\n",
      "CHRONC_BRONCHITS_LAST_12_MTHS_(>17)-R5/3 \t No\n",
      "HIGH_CHOLESTEROL_DIAGNOSIS_(>17) \t Yes\n",
      "AGE_OF_DIAGNOSIS-HIGH_CHOLESTEROL \t 59\n",
      "CANCER_DIAGNOSIS_(>17) \t No\n",
      "CANCER_DIAGNOSED_-_BLADDER_(>17) \t Inapplicable\n",
      "CANCER_DIAGNOSED_-_BREAST_(>17) \t Inapplicable\n",
      "CANCER_DIAGNOSED_-_CERVIX_(>17) \t Inapplicable\n",
      "CANCER_DIAGNOSED_-_COLON_(>17) \t Inapplicable\n",
      "CANCER_DIAGNOSED_-_LUNG_(>17) \t Inapplicable\n",
      "CANCER_DIAGNOSED_-_LYMPHOMA_(>17) \t Inapplicable\n",
      "CANCER_DIAGNOSED_-_MELANOMA_(>17) \t Inapplicable\n",
      "CANCER_DIAGNOSED_-_OTHER_(>17) \t Inapplicable\n",
      "CANCER_DIAGNOSED_-_PROSTATE_(>17) \t Inapplicable\n",
      "CANCER_DIAGNOSED_-_SKIN-NONMELANO_(>17) \t Inapplicable\n",
      "CANCER_DIAGNOSED-SKIN-UNKNOWN_TYPE_(>17) \t Inapplicable\n",
      "CANCER_DIAGNOSED_-_UTERUS_(>17) \t Inapplicable\n",
      "DIABETES_DIAGNOSIS_(>17) \t Yes\n",
      "AGE_OF_DIAGNOSIS-DIABETES \t 52\n",
      "JOINT_PAIN_LAST_12_MONTHS_(>17)_-_RD_3/1 \t Yes\n",
      "JOINT_PAIN_LAST_12_MONTHS_(>17)_-_RD_5/3 \t Yes\n",
      "ARTHRITIS_DIAGNOSIS_(>17) \t Yes\n",
      "AGE_OF_DIAGNOSIS-ARTHRITIS \t 52\n",
      "ASTHMA_DIAGNOSIS \t No\n",
      "AGE_OF_DIAGNOSIS-ASTHMA \t inapplicable\n",
      "DOES_PERSON_STILL_HAVE_ASTHMA-RD3/1 \t Inapplicable\n",
      "DOES_PERSON_STILL_HAVE_ASTHMA_-_RD_5/3 \t Inapplicable\n",
      "ASTHMA_ATTACK_LAST_12_MOS_-_RD3/1 \t Inapplicable\n",
      "USED_ACUTE_PRES_INHALER_LAST_3_MOS-RD5/3 \t Inapplicable\n",
      "USED>3ACUTE_CN_PRES_INH_LAST_3_MOS-RD5/3 \t Inapplicable\n",
      "EVER_USED_PREV_DAILY_ASTHMA_MEDS_-RD_5/3 \t Inapplicable\n",
      "NOW_TAKE_PREV_DAILY_ASTHMA_MEDS_-_RD_5/3 \t Inapplicable\n",
      "HAVE_PEAK_FLOW_METER_AT_HOME_-_RD_5/3 \t Inapplicable\n",
      "EVER_USED_PEAK_FLOW_METER_-_RD_5/3 \t Inapplicable\n",
      "ADHDADD_DIAGNOSIS_(5-17) \t Inapplicable\n",
      "AGE_OF_DIAGNOSIS-ADHD/ADD \t inapplicable\n",
      "PREGNANT_DURING_REF_PERIOD_-_RD_3/1 \t Inapplicable\n",
      "LIMITATION_IN_PHYSICAL_FUNCTIONING-RD3/1 \t Yes\n",
      "EMPLOYMENT_STATUS_RD_3/1 \t NOT EMPLOYED DURING RD 3/1\n",
      "HAS_MORE_THAN_ONE_JOB_RD_3/1_INT_DATE \t Inapplicable\n",
      "SELF-EMPLOYED_AT_RD_3/1_CMJ \t Inapplicable\n",
      "CHOICE_OF_HEALTH_PLANS_AT_RD_3/1_CMJ \t Inapplicable\n",
      "INDUSTRY_GROUP_RD_3/1_CMJ \t INAPPLICABLE\n",
      "UNION_STATUS_AT_RD_3/1_CMJ \t Inapplicable\n",
      "OCCUPATION_GROUP_RD_3/1_CMJ \t INAPPLICABLE\n",
      "HEALTH_INSUR_HELD_FROM_RD_3/1_CMJ_(ED) \t Inapplicable\n",
      "HEALTH_INSUR_OFFERED_BY_RD_3/1_CMJ_(ED) \t Inapplicable\n",
      "EMPLOYER_OFFERS_HEALTH_INS_RD_3/1_CMJ \t Inapplicable\n",
      "FULL_YEAR_INSURANCE_COVERAGE_STATUS_2013 \t 65+ EDITED MEDICARE AND PRIVATE\n",
      "ANYONE_IN_RU_HAVE_FSA_-_R3/1 \t No\n",
      "#_WKS/MON_WOUT_HLTH_INS_PRV_YR-PN_18_ONL \t inapplicable\n",
      "PRIVATE_INSURANCE_ANY_TIME_IN_R5/R3 \t No\n",
      "PUBLIC_INS_ANY_TIME_IN_R5/R3 \t Yes\n",
      "INSURED_ANY_TIME_IN_R3/1 \t Yes\n",
      "ANY_TIME_COVERAGE_BY_STATE_INS_-_R3/1 \t No\n",
      "#_OFFICE-BASED_PROVIDER_VISITS_13 \t 128\n",
      "#_OUTPATIENT_DEPT_PROVIDER_VISITS_13 \t 9\n",
      "#_EMERGENCY_ROOM_VISITS_13 \t 3\n",
      "#_NIGHTS_IN_HOSP_FOR_DISCHARGES_2013 \t 7\n",
      "FINAL_PERSON_WEIGHT_2013 \t 15650.765936\n",
      "TOTAL_OFFICE-BASED_EXP_13 \t 183384\n",
      "TOTAL_OUTPATIENT_PROVIDER_EXP_13 \t 484\n",
      "TOT_HOSP_IP_FACILITY_+_DR_EXP_13 \t 10670\n",
      "TOTAL_ER_FACILITY_+_DR_EXP_13 \t 1600\n",
      "CENSUS_REGION_AS_OF_12/31/13 \t Northeast\n",
      "EDUCATION_RECODE_(EDITED) \t BEYOND HS,COLLEGE(NO 4YR DEG),ASSOC DEG\n"
     ]
    }
   ],
   "source": [
    "for f in temp.columns:\n",
    "    print(f,\"\\t\",interpret_vectorized(temp,f).ix[15659])\n",
    "    \n",
    "#68 year old female, moderate family income, high blood pressure, high cholesterol, diabetes, joint pain, arthritis, limitations in physical\n",
    "#functioning"
   ]
  },
  {
   "cell_type": "markdown",
   "metadata": {},
   "source": [
    "It looks like the outliers consist of respondents who are chronically unwell, and this may be driving heavy treatment regimens.\n",
    "\n",
    "Given the evidence, I'm inclined to leave these respondents in the dataset for now. While they are a small proportion of the population, their cases may be indicative of the financial consequences of unmanaged illness. I'll have to make sure their inclusion is explicitly mentioned in my model writeup, since I am making a call on whether these points are corrupt data.\n",
    "\n",
    "Next, let's look at the overall distribution of expenditure on office based services."
   ]
  },
  {
   "cell_type": "code",
   "execution_count": 40,
   "metadata": {
    "collapsed": false,
    "scrolled": false
   },
   "outputs": [
    {
     "data": {
      "image/png": "[encoded data removed]",
      "text/plain": [
       "<matplotlib.figure.Figure at 0x7efd11dd2c50>"
      ]
     },
     "metadata": {},
     "output_type": "display_data"
    }
   ],
   "source": [
    "ax=data[\"TOTAL_OFFICE-BASED_EXP_13\"][data[\"TOTAL_OFFICE-BASED_EXP_13\"]>0].hist(bins=100)\n",
    "ax.set_title(\"OFFICE BASED EXPENSES\")\n",
    "plt.show()"
   ]
  },
  {
   "cell_type": "markdown",
   "metadata": {},
   "source": [
    "The graph above is a histogram of billed charges in the dataset. This graph is difficult to read because of the scale. I might try and break it in to a few pieces: one consisting of data points near zero (perhaps one with zero and one with strictly positive values), another consisting of data points that are positive but not too large (say less than 50k or so) and the final piece consisting of the extremely large positive values.\n",
    "\n",
    "Let's try this:"
   ]
  },
  {
   "cell_type": "code",
   "execution_count": 41,
   "metadata": {
    "collapsed": false
   },
   "outputs": [],
   "source": [
    "def zoom_hist(thevar, therange,bin_width=100):\n",
    "    '''wrapper around df.hist'''\n",
    "    temp=data[[thevar]+[\"FINAL_PERSON_WEIGHT_2013\"]]\n",
    "    bins=range(therange[0],therange[1],bin_width)\n",
    "    ax=temp[thevar].hist(bins=bins,range=therange, weights=temp[\"FINAL_PERSON_WEIGHT_2013\"])\n",
    "    ax.set_title(\"%s between $%s and $%s, bin width is $%s\"%(thevar,therange[0],therange[1],bin_width))\n",
    "    ax.set_xlabel(\"Charges in $\")\n",
    "    ax.set_ylabel(\"Count\")"
   ]
  },
  {
   "cell_type": "markdown",
   "metadata": {},
   "source": [
    "I want to point out here that the dataset consists of *weighted* points; each point carries a weight (the column is \"FINAL_PERSON_WEIGHT_2013\") such that when the dataset is scaled out pointwise by these weights, it gives a representative sampling of the U.S. population. Since I do have these weights given to me, I've used these in my histograms to get a more accurate sense of the distribution of these features in the U.S. population.\n",
    "\n"
   ]
  },
  {
   "cell_type": "code",
   "execution_count": 42,
   "metadata": {
    "collapsed": false,
    "scrolled": true
   },
   "outputs": [
    {
     "data": {
      "image/png": "[encoded data removed]",
      "text/plain": [
       "<matplotlib.figure.Figure at 0x7efd08d19c50>"
      ]
     },
     "metadata": {},
     "output_type": "display_data"
    }
   ],
   "source": [
    "thevar=\"TOTAL_OFFICE-BASED_EXP_13\"\n",
    "zoom_hist(thevar,therange=[0,1000],bin_width=10)"
   ]
  },
  {
   "cell_type": "markdown",
   "metadata": {},
   "source": [
    "This graph clearly shows the extent of the zero clustering. It looks like over 80m people are estimated to have expenses of less than $\\$10$ - this is about one-fourth of the population.\n",
    "\n",
    "Next, let's take a look at the same range, but without the mass at 0."
   ]
  },
  {
   "cell_type": "code",
   "execution_count": 43,
   "metadata": {
    "collapsed": false
   },
   "outputs": [
    {
     "data": {
      "image/png": "[encoded data removed]",
      "text/plain": [
       "<matplotlib.figure.Figure at 0x7efd06d5b400>"
      ]
     },
     "metadata": {},
     "output_type": "display_data"
    }
   ],
   "source": [
    "zoom_hist(thevar,therange=[1,1000],bin_width=100)"
   ]
  },
  {
   "cell_type": "markdown",
   "metadata": {},
   "source": [
    "This shows that the modal nonzero expense for office services is about $\\$100-\\$200$ dollars, with about 32 million people falling into that bucket.\n",
    "\n",
    "Let's look further out."
   ]
  },
  {
   "cell_type": "code",
   "execution_count": 44,
   "metadata": {
    "collapsed": false
   },
   "outputs": [],
   "source": [
    "def aggregate(feature,therange):\n",
    "    temp=data[\"FINAL_PERSON_WEIGHT_2013\"][(data[feature]>=therange[0]) & (data[feature]<=therange[1])]\n",
    "    return round(temp.sum())\n",
    "\n",
    "def print_aggregate(feature, therange):\n",
    "    print(\"There are %s people in the range %s to %s\"%(aggregate(feature,therange),therange[0],therange[1]))"
   ]
  },
  {
   "cell_type": "code",
   "execution_count": 45,
   "metadata": {
    "collapsed": false,
    "scrolled": true
   },
   "outputs": [
    {
     "data": {
      "image/png": "[encoded data removed]",
      "text/plain": [
       "<matplotlib.figure.Figure at 0x7efd08e2a550>"
      ]
     },
     "metadata": {},
     "output_type": "display_data"
    }
   ],
   "source": [
    "zoom_hist(thevar,therange=[1000,10000],bin_width=100)"
   ]
  },
  {
   "cell_type": "code",
   "execution_count": 46,
   "metadata": {
    "collapsed": false
   },
   "outputs": [
    {
     "name": "stdout",
     "output_type": "stream",
     "text": [
      "There are 240259742 people in the range 0 to 1000\n",
      "There are 49350962 people in the range 1000 to 3000\n",
      "There are 8539737 people in the range 5000 to 10000\n"
     ]
    }
   ],
   "source": [
    "print_aggregate(thevar,[0,1000])\n",
    "print_aggregate(thevar,[1000,3000])\n",
    "print_aggregate(thevar,[5000,10000])"
   ]
  },
  {
   "cell_type": "markdown",
   "metadata": {},
   "source": [
    "I've used a bin width of $\\$100$ again, to keep things consistent. It looks like about 240m people spend less than $\\$1000$ a year for office based services. Significant numbers of people (about 50m people) spend between $\\$1000$ and $\\$3000$ on office based services. After that, each $\\$100$ bin contains relatively few people, but these are at fairly high levels of expenditure for an average person or family.\n",
    "\n",
    "There is quite a bit of mass in the range $\\$5000 - \\$10,000$. These people, at 8.5 million people, or about $2.7\\%$ of the population, are paying a lot for office based healthcare services. It would be interesting to know how much of expenditure at this level is discretionary or non-essential, and how much of it is for relatively routine healthcare - perhaps for badly managed chronic illnesses, etc. In terms of informing policy, there's nothing wrong with the former, but since chronic illness tends to affect a broad section of people - not all of whom can afford to pay upto $\\$10,000$ a year for healthcare services, there may be something to worry about if a lot of this high expenditure is for non-discretionary services.\n",
    "\n",
    "Let's look a bit further:"
   ]
  },
  {
   "cell_type": "code",
   "execution_count": 47,
   "metadata": {
    "collapsed": false,
    "scrolled": false
   },
   "outputs": [
    {
     "data": {
      "image/png": "[encoded data removed]",
      "text/plain": [
       "<matplotlib.figure.Figure at 0x7efd084a7518>"
      ]
     },
     "metadata": {},
     "output_type": "display_data"
    }
   ],
   "source": [
    "zoom_hist(\"TOTAL_OFFICE-BASED_EXP_13\",therange=[10000,50000],bin_width=1000)"
   ]
  },
  {
   "cell_type": "code",
   "execution_count": 48,
   "metadata": {
    "collapsed": false
   },
   "outputs": [
    {
     "name": "stdout",
     "output_type": "stream",
     "text": [
      "There are 4452543 people in the range 10000 to 50000\n"
     ]
    }
   ],
   "source": [
    "print_aggregate(thevar,[10000,50000])"
   ]
  },
  {
   "cell_type": "markdown",
   "metadata": {},
   "source": [
    "There is significant mass at these higher levels of expenditure - it's a small proportion of the population (4.5 million, or about $1.4\\%$ of the population), but the severity of the costs is non-trivial. It will be very interesting to see if we can find out more about what characterizes people who tend to pay this much for healthcare in a year. Do they have terminal illnesses? Badly managed chronic illnesses? Severe accidents?\n",
    "\n",
    "Let's look at the tail end of the distribution:"
   ]
  },
  {
   "cell_type": "code",
   "execution_count": 49,
   "metadata": {
    "collapsed": false,
    "scrolled": false
   },
   "outputs": [
    {
     "data": {
      "image/png": "[encoded data removed]",
      "text/plain": [
       "<matplotlib.figure.Figure at 0x7efd06cdea90>"
      ]
     },
     "metadata": {},
     "output_type": "display_data"
    }
   ],
   "source": [
    "zoom_hist(\"TOTAL_OFFICE-BASED_EXP_13\",therange=[50000,250000],bin_width=2000)"
   ]
  },
  {
   "cell_type": "code",
   "execution_count": 50,
   "metadata": {
    "collapsed": false
   },
   "outputs": [
    {
     "name": "stdout",
     "output_type": "stream",
     "text": [
      "There are 181340 people in the range 50000 to 250000\n"
     ]
    }
   ],
   "source": [
    "print_aggregate(thevar,[50000,250000])"
   ]
  },
  {
   "cell_type": "markdown",
   "metadata": {},
   "source": [
    "There are about 1.8 million people in this range, and the severity of the costs they face is astonishingly high. Again, it will be extremely interesting to know what about these people drives this level of expenditure.\n"
   ]
  },
  {
   "cell_type": "markdown",
   "metadata": {},
   "source": [
    "Next, let's take a look at the other three predicted variables, in the following order:\n",
    "\n",
    "1. Outpatient services\n",
    "2. Inpatient services\n",
    "3. Emergency Room services\n",
    "\n"
   ]
  },
  {
   "cell_type": "code",
   "execution_count": 51,
   "metadata": {
    "collapsed": true
   },
   "outputs": [],
   "source": [
    "thevar=\"TOTAL_OUTPATIENT_PROVIDER_EXP_13\""
   ]
  },
  {
   "cell_type": "code",
   "execution_count": 52,
   "metadata": {
    "collapsed": false
   },
   "outputs": [
    {
     "data": {
      "text/plain": [
       "<matplotlib.axes._subplots.AxesSubplot at 0x7efd08e73438>"
      ]
     },
     "execution_count": 52,
     "metadata": {},
     "output_type": "execute_result"
    },
    {
     "data": {
      "image/png": "[encoded data removed]",
      "text/plain": [
       "<matplotlib.figure.Figure at 0x7efd08e657b8>"
      ]
     },
     "metadata": {},
     "output_type": "display_data"
    }
   ],
   "source": [
    "data[thevar].hist(bins=100)"
   ]
  },
  {
   "cell_type": "markdown",
   "metadata": {
    "collapsed": true
   },
   "source": [
    "Clearly, there's a lot of zero clustering going on here as well. Let's break it out into pieces like we did for office based services, and see what we find."
   ]
  },
  {
   "cell_type": "code",
   "execution_count": 53,
   "metadata": {
    "collapsed": false
   },
   "outputs": [
    {
     "name": "stdout",
     "output_type": "stream",
     "text": [
      "There are 310041464 people in the range 0 to 1000\n"
     ]
    },
    {
     "data": {
      "image/png": "[encoded data removed]",
      "text/plain": [
       "<matplotlib.figure.Figure at 0x7efd072879b0>"
      ]
     },
     "metadata": {},
     "output_type": "display_data"
    }
   ],
   "source": [
    "therange=[0,1000]\n",
    "zoom_hist(thevar,therange,bin_width=10)\n",
    "print_aggregate(thevar,therange)"
   ]
  },
  {
   "cell_type": "markdown",
   "metadata": {
    "collapsed": true
   },
   "source": [
    "It looks like the vast majority of respondents pay less than $\\$10$ for outpatient services.\n",
    "\n",
    "Let's see what happens if we drop the zero payments:"
   ]
  },
  {
   "cell_type": "code",
   "execution_count": 54,
   "metadata": {
    "collapsed": false
   },
   "outputs": [
    {
     "name": "stdout",
     "output_type": "stream",
     "text": [
      "There are 23065896 people in the range 1 to 1000\n",
      "There are 300065999 people in the range 0 to 200\n"
     ]
    },
    {
     "data": {
      "image/png": "[encoded data removed]",
      "text/plain": [
       "<matplotlib.figure.Figure at 0x7efd08dad470>"
      ]
     },
     "metadata": {},
     "output_type": "display_data"
    }
   ],
   "source": [
    "therange=[1,1000]\n",
    "zoom_hist(thevar,therange,bin_width=10)\n",
    "print_aggregate(thevar,therange)\n",
    "print_aggregate(thevar,[0,200])"
   ]
  },
  {
   "cell_type": "markdown",
   "metadata": {},
   "source": [
    "Of the order of 300m people incur charges of a couple of hundred dollars for outpatient services in the year.\n",
    "\n",
    "Let's zoom in a bit more to that area and see if we can figure out what the modal charge is."
   ]
  },
  {
   "cell_type": "code",
   "execution_count": 55,
   "metadata": {
    "collapsed": false
   },
   "outputs": [
    {
     "data": {
      "image/png": "[encoded data removed]",
      "text/plain": [
       "<matplotlib.figure.Figure at 0x7efd0734ee48>"
      ]
     },
     "metadata": {},
     "output_type": "display_data"
    }
   ],
   "source": [
    "therange=[1,200]\n",
    "zoom_hist(thevar,therange,bin_width=10)"
   ]
  },
  {
   "cell_type": "markdown",
   "metadata": {},
   "source": [
    "The modal charge seems to be $\\$30-\\$40$ dollars for outpatient services. \n",
    "\n",
    "Let's now look further to the right to see what the high expenditure cases look like:"
   ]
  },
  {
   "cell_type": "code",
   "execution_count": 56,
   "metadata": {
    "collapsed": false
   },
   "outputs": [
    {
     "data": {
      "image/png": "[encoded data removed]",
      "text/plain": [
       "<matplotlib.figure.Figure at 0x7efd06ea9470>"
      ]
     },
     "metadata": {},
     "output_type": "display_data"
    }
   ],
   "source": [
    "zoom_hist(thevar,therange=[1000,10000],bin_width=100)"
   ]
  },
  {
   "cell_type": "code",
   "execution_count": 57,
   "metadata": {
    "collapsed": false
   },
   "outputs": [
    {
     "name": "stdout",
     "output_type": "stream",
     "text": [
      "There are 5603240 people in the range 1000 to 10000\n",
      "There are 1168142 people in the range 3000 to 10000\n"
     ]
    }
   ],
   "source": [
    "print_aggregate(thevar,therange=[1000,10000])\n",
    "print_aggregate(thevar,therange=[3000,10000])"
   ]
  },
  {
   "cell_type": "markdown",
   "metadata": {},
   "source": [
    "There are about 5.6m people in this range, which is about $1.75\\%$ of the population. There are about 1.1m people, or $0.34\\%$ of respondents that are paying over $\\$3,000$ in this range. \n",
    "\n",
    "Let's take a look at the rest of the data."
   ]
  },
  {
   "cell_type": "code",
   "execution_count": 58,
   "metadata": {
    "collapsed": false
   },
   "outputs": [
    {
     "data": {
      "image/png": "[encoded data removed]",
      "text/plain": [
       "<matplotlib.figure.Figure at 0x7efd11e5fa20>"
      ]
     },
     "metadata": {},
     "output_type": "display_data"
    }
   ],
   "source": [
    "zoom_hist(thevar,therange=[10000,50000],bin_width=1000)"
   ]
  },
  {
   "cell_type": "code",
   "execution_count": 59,
   "metadata": {
    "collapsed": false
   },
   "outputs": [
    {
     "name": "stdout",
     "output_type": "stream",
     "text": [
      "There are 77278 people in the range 10000 to 50000\n"
     ]
    }
   ],
   "source": [
    "print_aggregate(thevar,therange=[10000,50000])"
   ]
  },
  {
   "cell_type": "markdown",
   "metadata": {},
   "source": [
    "Not many people here - about 77,000. The maximum amount paid by any respondent is $\\$26,703$, so we won't find mass any further to the right.\n",
    "\n",
    "It looks like outpatient expenditure follows a similar pattern to office based expenditure, although the severity is less extreme.\n",
    "\n",
    "Let's turn to inpatient expenditure."
   ]
  },
  {
   "cell_type": "code",
   "execution_count": 60,
   "metadata": {
    "collapsed": true
   },
   "outputs": [],
   "source": [
    "thevar=\"TOT_HOSP_IP_FACILITY_+_DR_EXP_13\""
   ]
  },
  {
   "cell_type": "code",
   "execution_count": 61,
   "metadata": {
    "collapsed": false
   },
   "outputs": [
    {
     "data": {
      "text/plain": [
       "count     36940.000000\n",
       "mean        977.643097\n",
       "std        7413.503502\n",
       "min           0.000000\n",
       "25%           0.000000\n",
       "50%           0.000000\n",
       "75%           0.000000\n",
       "max      320929.000000\n",
       "Name: TOT_HOSP_IP_FACILITY_+_DR_EXP_13, dtype: float64"
      ]
     },
     "execution_count": 61,
     "metadata": {},
     "output_type": "execute_result"
    }
   ],
   "source": [
    "data[thevar].describe()"
   ]
  },
  {
   "cell_type": "markdown",
   "metadata": {},
   "source": [
    "Alright, so we have a max of about $\\$320,000$. That's extremely high!\n",
    "\n",
    "Let's go through the same steps as before:"
   ]
  },
  {
   "cell_type": "code",
   "execution_count": 62,
   "metadata": {
    "collapsed": false
   },
   "outputs": [
    {
     "data": {
      "image/png": "[encoded data removed]",
      "text/plain": [
       "<matplotlib.figure.Figure at 0x7efd070167f0>"
      ]
     },
     "metadata": {},
     "output_type": "display_data"
    }
   ],
   "source": [
    "zoom_hist(thevar,therange=[0,1000],bin_width=10)"
   ]
  },
  {
   "cell_type": "markdown",
   "metadata": {},
   "source": [
    "Again, most people pay less than $\\$10$.\n",
    "\n",
    "What if we drop the mass at 0?"
   ]
  },
  {
   "cell_type": "code",
   "execution_count": 63,
   "metadata": {
    "collapsed": false
   },
   "outputs": [
    {
     "data": {
      "image/png": "[encoded data removed]",
      "text/plain": [
       "<matplotlib.figure.Figure at 0x7efd06f44f98>"
      ]
     },
     "metadata": {},
     "output_type": "display_data"
    }
   ],
   "source": [
    "zoom_hist(thevar,therange=[1,1000],bin_width=10)"
   ]
  },
  {
   "cell_type": "markdown",
   "metadata": {},
   "source": [
    "Let's move out a bit further:"
   ]
  },
  {
   "cell_type": "code",
   "execution_count": 64,
   "metadata": {
    "collapsed": false
   },
   "outputs": [
    {
     "data": {
      "image/png": "[encoded data removed]",
      "text/plain": [
       "<matplotlib.figure.Figure at 0x7efd072e7ba8>"
      ]
     },
     "metadata": {},
     "output_type": "display_data"
    }
   ],
   "source": [
    "zoom_hist(thevar,therange=[1000,10000],bin_width=100)"
   ]
  },
  {
   "cell_type": "markdown",
   "metadata": {},
   "source": [
    "Ok, quite a lot of mass in this range. Charges in the thousands of dollars seem more likely in the context of inpatient services, since this usually includes procedures like surgeries.\n",
    "\n",
    "Let's look out past $\\$10,000$."
   ]
  },
  {
   "cell_type": "code",
   "execution_count": 65,
   "metadata": {
    "collapsed": false
   },
   "outputs": [
    {
     "data": {
      "image/png": "[encoded data removed]",
      "text/plain": [
       "<matplotlib.figure.Figure at 0x7efd08cfc550>"
      ]
     },
     "metadata": {},
     "output_type": "display_data"
    }
   ],
   "source": [
    "zoom_hist(thevar,therange=[10000,50000],bin_width=1000)"
   ]
  },
  {
   "cell_type": "code",
   "execution_count": 66,
   "metadata": {
    "collapsed": false
   },
   "outputs": [
    {
     "name": "stdout",
     "output_type": "stream",
     "text": [
      "There are 3910489 people in the range 20000 to 50000\n"
     ]
    }
   ],
   "source": [
    "print_aggregate(thevar,therange=[20000,50000])"
   ]
  },
  {
   "cell_type": "markdown",
   "metadata": {},
   "source": [
    "This is consistent with the kinds of amounts we're used to hearing about being charged for surgeries, etc. About 4m people seem to have inpatient services costing over $\\$20,000$; these amounts are quite severely high. Let's see if it gets worse for anyone."
   ]
  },
  {
   "cell_type": "code",
   "execution_count": 67,
   "metadata": {
    "collapsed": false,
    "scrolled": true
   },
   "outputs": [
    {
     "data": {
      "image/png": "[encoded data removed]",
      "text/plain": [
       "<matplotlib.figure.Figure at 0x7efd11e34f98>"
      ]
     },
     "metadata": {},
     "output_type": "display_data"
    }
   ],
   "source": [
    "zoom_hist(thevar,therange=[50000,350000],bin_width=10000)"
   ]
  },
  {
   "cell_type": "code",
   "execution_count": 68,
   "metadata": {
    "collapsed": false
   },
   "outputs": [
    {
     "name": "stdout",
     "output_type": "stream",
     "text": [
      "There are 1381075 people in the range 50000 to 350000\n"
     ]
    }
   ],
   "source": [
    "print_aggregate(thevar,therange=[50000,350000])"
   ]
  },
  {
   "cell_type": "markdown",
   "metadata": {},
   "source": [
    "For the 1.4m people in this range, the amounts charged are more than the median household's annual income in the United States. Anyone that falls into this range - and it looks like many people do - will be at great financial risk.\n",
    "\n",
    "I'd really like to know if the people who end up in this range have anything in common, or whether it's mostly random. Are these life-threatening accidents? Terminal illness? Badly managed chronic illness? Being able to tell the difference, if there is any, could be very informative for healthcare policy, and for advising healthcare consumers about their financial risk.\n",
    "\n",
    "Let's move on to the final predicted variable, ER expenditure."
   ]
  },
  {
   "cell_type": "code",
   "execution_count": 69,
   "metadata": {
    "collapsed": true
   },
   "outputs": [],
   "source": [
    "thevar=\"TOTAL_ER_FACILITY_+_DR_EXP_13\""
   ]
  },
  {
   "cell_type": "code",
   "execution_count": 70,
   "metadata": {
    "collapsed": false
   },
   "outputs": [
    {
     "data": {
      "text/plain": [
       "count    36940.000000\n",
       "mean       176.546833\n",
       "std       1029.557499\n",
       "min          0.000000\n",
       "25%          0.000000\n",
       "50%          0.000000\n",
       "75%          0.000000\n",
       "max      63179.000000\n",
       "Name: TOTAL_ER_FACILITY_+_DR_EXP_13, dtype: float64"
      ]
     },
     "execution_count": 70,
     "metadata": {},
     "output_type": "execute_result"
    }
   ],
   "source": [
    "data[thevar].describe()"
   ]
  },
  {
   "cell_type": "markdown",
   "metadata": {},
   "source": [
    "The maximum charge for ER services is $\\$63,179$. This is a lot lower than the maximum for inpatient services, but still very high.\n",
    "\n",
    "Let's look at this close up."
   ]
  },
  {
   "cell_type": "code",
   "execution_count": 71,
   "metadata": {
    "collapsed": false
   },
   "outputs": [
    {
     "data": {
      "image/png": "[encoded data removed]",
      "text/plain": [
       "<matplotlib.figure.Figure at 0x7efd0848f898>"
      ]
     },
     "metadata": {},
     "output_type": "display_data"
    }
   ],
   "source": [
    "zoom_hist(thevar,therange=[0,1000],bin_width=10)"
   ]
  },
  {
   "cell_type": "markdown",
   "metadata": {},
   "source": [
    "Fewer people at $\\$0$ than for outpatient or inpatient expenditure, but more than for office based expenditure.\n",
    "\n",
    "Let's drop the $\\$0$ charges and see what it looks like."
   ]
  },
  {
   "cell_type": "code",
   "execution_count": 72,
   "metadata": {
    "collapsed": false
   },
   "outputs": [
    {
     "data": {
      "image/png": "[encoded data removed]",
      "text/plain": [
       "<matplotlib.figure.Figure at 0x7efd06dce6d8>"
      ]
     },
     "metadata": {},
     "output_type": "display_data"
    }
   ],
   "source": [
    "zoom_hist(thevar,therange=[1,1000],bin_width=10)"
   ]
  },
  {
   "cell_type": "markdown",
   "metadata": {},
   "source": [
    "There are more people in this range than there were for inpatient services, though less than for office based services and outpatient services. A side-by-side comparison:"
   ]
  },
  {
   "cell_type": "code",
   "execution_count": 73,
   "metadata": {
    "collapsed": false
   },
   "outputs": [],
   "source": [
    "def compare_hist(therange,bin_width):\n",
    "    \n",
    "    bottom=therange[0]\n",
    "    top=therange[1]\n",
    "    \n",
    "    plt.subplot(2,2,1)\n",
    "    temp=data[\"TOTAL_OFFICE-BASED_EXP_13\"]\n",
    "    weights=data[\"FINAL_PERSON_WEIGHT_2013\"]\n",
    "    ax=temp.hist(range=therange,bins=range(bottom,top,bin_width), weights=weights)\n",
    "    ax.set_title(\"Office\")\n",
    "    plt.xticks(rotation=45)\n",
    "    \n",
    "    plt.subplot(2,2,2)\n",
    "    temp=data[\"TOTAL_OUTPATIENT_PROVIDER_EXP_13\"]\n",
    "    ax=temp.hist(range=therange,bins=range(bottom,top,bin_width), weights=weights)\n",
    "    ax.set_title(\"Outpatient\")\n",
    "    plt.xticks(rotation=45)\n",
    "\n",
    "    plt.subplot(2,2,3)\n",
    "    temp=data[\"TOT_HOSP_IP_FACILITY_+_DR_EXP_13\"]\n",
    "    weights=data[\"FINAL_PERSON_WEIGHT_2013\"]\n",
    "    ax=temp.hist(range=therange,bins=range(bottom,top,bin_width), weights=weights)\n",
    "    ax.set_title(\"Inpatient\")\n",
    "    plt.xticks(rotation=45)\n",
    "    \n",
    "    plt.subplot(2,2,4)\n",
    "    temp=data[\"TOTAL_ER_FACILITY_+_DR_EXP_13\"]\n",
    "    weights=data[\"FINAL_PERSON_WEIGHT_2013\"]\n",
    "    ax=temp.hist(range=therange,bins=range(bottom,top,bin_width), weights=weights)\n",
    "    ax.set_title(\"ER\")\n",
    "    plt.xticks(rotation=45)\n",
    "    \n",
    "    plt.tight_layout()\n",
    "    plt.show()"
   ]
  },
  {
   "cell_type": "code",
   "execution_count": 74,
   "metadata": {
    "collapsed": false
   },
   "outputs": [
    {
     "data": {
      "image/png": "[encoded data removed]",
      "text/plain": [
       "<matplotlib.figure.Figure at 0x7efd0736b470>"
      ]
     },
     "metadata": {},
     "output_type": "display_data"
    }
   ],
   "source": [
    "compare_hist([1,1000],10)"
   ]
  },
  {
   "cell_type": "markdown",
   "metadata": {},
   "source": [
    "While the overall utilization of ER services is lower than for office based services at each cost level, there seem to be many more people using ER services at the higher end of this range than either outpatient or inpatient services.\n",
    "\n",
    "It's hard to say whether this means anything at this point, but it is interesting nonetheless.\n",
    "\n",
    "Medical emergencies often come with significant sticker shock, so I'm curious to see what this looks like at much higher levels of expenditure."
   ]
  },
  {
   "cell_type": "code",
   "execution_count": 75,
   "metadata": {
    "collapsed": false
   },
   "outputs": [
    {
     "data": {
      "image/png": "[encoded data removed]",
      "text/plain": [
       "<matplotlib.figure.Figure at 0x7efd07016358>"
      ]
     },
     "metadata": {},
     "output_type": "display_data"
    }
   ],
   "source": [
    "zoom_hist(thevar,therange=[1000,10000],bin_width=100)"
   ]
  },
  {
   "cell_type": "markdown",
   "metadata": {},
   "source": [
    "Let's go a bit further..."
   ]
  },
  {
   "cell_type": "code",
   "execution_count": 76,
   "metadata": {
    "collapsed": false
   },
   "outputs": [
    {
     "data": {
      "image/png": "[encoded data removed]",
      "text/plain": [
       "<matplotlib.figure.Figure at 0x7efd0781a2b0>"
      ]
     },
     "metadata": {},
     "output_type": "display_data"
    }
   ],
   "source": [
    "zoom_hist(thevar,therange=[10000,50000],bin_width=1000)"
   ]
  },
  {
   "cell_type": "markdown",
   "metadata": {},
   "source": [
    "And a bit further ......"
   ]
  },
  {
   "cell_type": "code",
   "execution_count": 77,
   "metadata": {
    "collapsed": false
   },
   "outputs": [
    {
     "data": {
      "image/png": "[encoded data removed]",
      "text/plain": [
       "<matplotlib.figure.Figure at 0x7efd07708400>"
      ]
     },
     "metadata": {},
     "output_type": "display_data"
    }
   ],
   "source": [
    "zoom_hist(thevar,therange=[50000,70000],bin_width=1000)"
   ]
  },
  {
   "cell_type": "markdown",
   "metadata": {},
   "source": [
    "Over 4000 people are estimated to see bills in excess of $\\$60,000$ in a year.\n",
    "\n",
    "I'd like to compare these ranges across categories for a moment."
   ]
  },
  {
   "cell_type": "code",
   "execution_count": 78,
   "metadata": {
    "collapsed": false
   },
   "outputs": [
    {
     "data": {
      "image/png": "[encoded data removed]",
      "text/plain": [
       "<matplotlib.figure.Figure at 0x7efd076e9588>"
      ]
     },
     "metadata": {},
     "output_type": "display_data"
    }
   ],
   "source": [
    "compare_hist([1000,10000],100)"
   ]
  },
  {
   "cell_type": "markdown",
   "metadata": {},
   "source": [
    "Again, ER services are the second most frequently used at each cost level in the $\\$1000 - \\$10,000$ range.\n",
    "\n",
    "Let's look at the $\\$10,000 - \\$50,000$ range."
   ]
  },
  {
   "cell_type": "code",
   "execution_count": 79,
   "metadata": {
    "collapsed": false
   },
   "outputs": [
    {
     "data": {
      "image/png": "[encoded data removed]",
      "text/plain": [
       "<matplotlib.figure.Figure at 0x7efd07622550>"
      ]
     },
     "metadata": {},
     "output_type": "display_data"
    }
   ],
   "source": [
    "compare_hist([10000,50000],1000)"
   ]
  },
  {
   "cell_type": "markdown",
   "metadata": {},
   "source": [
    "In the $\\$10,000 - \\$50,000$ range, ER services give way to inpatient services to become the third most frequently used at each cost level. (This is an approximate statement, I'm not checking each bin.)\n",
    "\n",
    "Finally, let's look at the tail end:"
   ]
  },
  {
   "cell_type": "code",
   "execution_count": 80,
   "metadata": {
    "collapsed": false
   },
   "outputs": [
    {
     "data": {
      "image/png": "[encoded data removed]",
      "text/plain": [
       "<matplotlib.figure.Figure at 0x7efd06f156a0>"
      ]
     },
     "metadata": {},
     "output_type": "display_data"
    }
   ],
   "source": [
    "compare_hist([50000,250000],1000)"
   ]
  },
  {
   "cell_type": "markdown",
   "metadata": {},
   "source": [
    "It looks much the same in this range.\n",
    "\n",
    "My main takeaway from doing this is that the expenditure for these four location based services follows a reasonable pattern for *most* people. That is, the majority of people will see charges for healthcare expenses that are reasonably insurable if on a plan with a low deductible, but that may bite for the average household on a plan with a relatively high deductible.\n",
    "\n",
    "One important issue these plots raise is the following: there is a minority of respondents that incur charges for healthcare that are so high as to be clearly financially ruinous for the median household. Questions to ask include:\n",
    "\n",
    "1. Do the respondents who incur these extremely high charges have the financial means to bear them? Or are they likely to go bankrupt?\n",
    "2. What characterizes the respondents with extremely high healthcare costs? Do certain illnesses come into play? Do these charges come at random? Are some people at greater risk than others? Would it help anyone if they were advised that they were at elevated financial risk because of some characteristic they have? Should they have a particular health insurance plan? Can I use any of these insights to build a better planning tool?\n",
    "\n",
    "These are important questions, and it would be fantastic if I could use my Insight project to shed some light on them, whether as part of the modeling process, or (even better) by integrating them into my webapp."
   ]
  },
  {
   "cell_type": "markdown",
   "metadata": {},
   "source": [
    "In the next post, I'll take a look at the explanatory variables."
   ]
  }
 ],
 "metadata": {
  "kernelspec": {
   "display_name": "Python 3",
   "language": "python",
   "name": "python3"
  },
  "language_info": {
   "codemirror_mode": {
    "name": "ipython",
    "version": 3
   },
   "file_extension": ".py",
   "mimetype": "text/x-python",
   "name": "python",
   "nbconvert_exporter": "python",
   "pygments_lexer": "ipython3",
   "version": "3.4.3"
  }
 },
 "nbformat": 4,
 "nbformat_minor": 0
}
