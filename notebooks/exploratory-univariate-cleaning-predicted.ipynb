{
 "cells": [
  {
   "cell_type": "markdown",
   "metadata": {},
   "source": [
    "The next thing to do is to take a look at the dataset, and see what we have on our hands. Since we have it written to disk as a csv file, I can import it using pandas' read_csv function. I'm going to do a bit of plotting when I explore the dataset, so I'll go ahead and load all the packages I imagine I'll need for this."
   ]
  },
  {
   "cell_type": "code",
   "execution_count": 1,
   "metadata": {
    "collapsed": false,
    "scrolled": false
   },
   "outputs": [],
   "source": [
    "import pandas as pd\n",
    "import numpy as np\n",
    "import matplotlib.pyplot as plt\n",
    "import matplotlib\n",
    "%matplotlib inline\n",
    "matplotlib.pylab.rcParams['figure.figsize'] = (10, 6)"
   ]
  },
  {
   "cell_type": "markdown",
   "metadata": {},
   "source": [
    "Let's load the dataset as a pandas dataframe and see what it contains:"
   ]
  },
  {
   "cell_type": "code",
   "execution_count": 2,
   "metadata": {
    "collapsed": false,
    "scrolled": false
   },
   "outputs": [
    {
     "name": "stdout",
     "output_type": "stream",
     "text": [
      "/home/soumya/research/insight/insight_project/data\n"
     ]
    }
   ],
   "source": [
    "cd /home/soumya/research/insight/insight_project/data/"
   ]
  },
  {
   "cell_type": "code",
   "execution_count": 3,
   "metadata": {
    "collapsed": false,
    "scrolled": false
   },
   "outputs": [
    {
     "name": "stdout",
     "output_type": "stream",
     "text": [
      "2013_consolidated_frame.csv     dsm_data_cleaned_columns.pkl\r\n",
      "2013_test_with_dummies.pkl      dsm_data.csv\r\n",
      "2013_train_with_dummies.pkl     dsm_data.pkl\r\n",
      "2013_validate_with_dummies.pkl  dsm_data_scoped_variables.pkl\r\n",
      "2013_with_dummies_.pkl          Untitled.ipynb\r\n",
      "2013_with_dummies.pkl\r\n"
     ]
    }
   ],
   "source": [
    "ls"
   ]
  },
  {
   "cell_type": "code",
   "execution_count": 4,
   "metadata": {
    "collapsed": false,
    "scrolled": false
   },
   "outputs": [],
   "source": [
    "data=pd.read_csv(\"./2013_consolidated_frame.csv\")"
   ]
  },
  {
   "cell_type": "markdown",
   "metadata": {},
   "source": [
    "First let's take a look at what features we have:"
   ]
  },
  {
   "cell_type": "code",
   "execution_count": 5,
   "metadata": {
    "collapsed": false,
    "scrolled": false
   },
   "outputs": [
    {
     "data": {
      "text/plain": [
       "Index(['DWELLING UNIT ID', ' PERSON NUMBER', ' PERSON ID (DUID + PID)',\n",
       "       ' PANEL NUMBER', ' FAMILY ID (STUDENT MERGED IN) - R3/1',\n",
       "       ' FAMILY ID (STUDENT MERGED IN) - R4/2',\n",
       "       ' FAMILY ID (STUDENT MERGED IN) - R5/3',\n",
       "       ' FAMILY ID (STUDENT MERGED IN) - 12/31/13',\n",
       "       ' ANNUAL FAMILY IDENTIFIER', ' CPSFAMID', \n",
       "       ...\n",
       "       ' TOTAL RX-PRV & TRI AMT 13', ' TOTAL RX-OTH COMBINED AMT 13',\n",
       "       ' FINAL PERSON WEIGHT 2013', ' FINAL FAMILY WEIGHT 2013',\n",
       "       ' POV ADJ FAMILY WGT-CPS FAM ON 12/31/13',\n",
       "       ' FINAL SAQ PERSON WEIGHT 2013',\n",
       "       ' FINAL DIABETES CARE SUPPLEMENT WEIGHT',\n",
       "       ' VARIANCE ESTIMATION STRATUM - 2013',\n",
       "       ' VARIANCE ESTIMATION PSU - 2013', ' '],\n",
       "      dtype='object', length=1792)"
      ]
     },
     "execution_count": 5,
     "metadata": {},
     "output_type": "execute_result"
    }
   ],
   "source": [
    "data.columns"
   ]
  },
  {
   "cell_type": "markdown",
   "metadata": {},
   "source": [
    "The first thing I get from this is that I need to learn what these features actually are, so I'll have to look up the MEPS survey methodology or documentation in order to figure out what these features actually are. There are 1792 features for each record, so this may be a bit involved.\n",
    "\n",
    "The second thing I get out of looking at the column names is that they really do need a bit of cleanup. For example, the first feature is called \"DWELLING UNIT ID\", but the second is called \" PERSON NUMBER\" (note the extra space at the beginning). This seems to be a running problem in the column names.\n",
    "\n",
    "There are 1792 column names to fix, which is entirely too many to fix by hand.\n",
    "\n",
    "On the other hand, it looks like the cleanup consists of a couple of simple rules:\n",
    "\n",
    "    Remove the initial space in the feature name\n",
    "    Pop the last entry from the column names\n",
    "\n",
    "Let's write a function to do the first job:"
   ]
  },
  {
   "cell_type": "code",
   "execution_count": 6,
   "metadata": {
    "collapsed": true,
    "scrolled": false
   },
   "outputs": [],
   "source": [
    "def clean_columns(theframe):\n",
    "    temp=theframe.columns.map(lambda x: (((str(x).lstrip()).rstrip()))).copy()\n",
    "    theframe.columns=temp\n",
    "    return theframe"
   ]
  },
  {
   "cell_type": "markdown",
   "metadata": {},
   "source": [
    "Let's try this on our dataframe and see if it does the first task."
   ]
  },
  {
   "cell_type": "code",
   "execution_count": 7,
   "metadata": {
    "collapsed": false,
    "scrolled": false
   },
   "outputs": [
    {
     "data": {
      "text/html": [
       "<div>\n",
       "<table border=\"1\" class=\"dataframe\">\n",
       "  <thead>\n",
       "    <tr style=\"text-align: right;\">\n",
       "      <th></th>\n",
       "      <th>DWELLING UNIT ID</th>\n",
       "      <th>PERSON NUMBER</th>\n",
       "      <th>PERSON ID (DUID + PID)</th>\n",
       "      <th>PANEL NUMBER</th>\n",
       "      <th>FAMILY ID (STUDENT MERGED IN) - R3/1</th>\n",
       "      <th>FAMILY ID (STUDENT MERGED IN) - R4/2</th>\n",
       "      <th>FAMILY ID (STUDENT MERGED IN) - R5/3</th>\n",
       "      <th>FAMILY ID (STUDENT MERGED IN) - 12/31/13</th>\n",
       "      <th>ANNUAL FAMILY IDENTIFIER</th>\n",
       "      <th>CPSFAMID</th>\n",
       "      <th>...</th>\n",
       "      <th>TOTAL RX-PRV &amp; TRI AMT 13</th>\n",
       "      <th>TOTAL RX-OTH COMBINED AMT 13</th>\n",
       "      <th>FINAL PERSON WEIGHT 2013</th>\n",
       "      <th>FINAL FAMILY WEIGHT 2013</th>\n",
       "      <th>POV ADJ FAMILY WGT-CPS FAM ON 12/31/13</th>\n",
       "      <th>FINAL SAQ PERSON WEIGHT 2013</th>\n",
       "      <th>FINAL DIABETES CARE SUPPLEMENT WEIGHT</th>\n",
       "      <th>VARIANCE ESTIMATION STRATUM - 2013</th>\n",
       "      <th>VARIANCE ESTIMATION PSU - 2013</th>\n",
       "      <th></th>\n",
       "    </tr>\n",
       "  </thead>\n",
       "  <tbody>\n",
       "    <tr>\n",
       "      <th>0</th>\n",
       "      <td>20004</td>\n",
       "      <td>101</td>\n",
       "      <td>20004101</td>\n",
       "      <td>17</td>\n",
       "      <td>A</td>\n",
       "      <td>A</td>\n",
       "      <td>A</td>\n",
       "      <td>A</td>\n",
       "      <td>A</td>\n",
       "      <td>A</td>\n",
       "      <td>...</td>\n",
       "      <td>0</td>\n",
       "      <td>0</td>\n",
       "      <td>6594.801768</td>\n",
       "      <td>6263.398994</td>\n",
       "      <td>6263.398994</td>\n",
       "      <td>7960.062940</td>\n",
       "      <td>0</td>\n",
       "      <td>1109</td>\n",
       "      <td>1</td>\n",
       "      <td>NaN</td>\n",
       "    </tr>\n",
       "    <tr>\n",
       "      <th>1</th>\n",
       "      <td>20004</td>\n",
       "      <td>102</td>\n",
       "      <td>20004102</td>\n",
       "      <td>17</td>\n",
       "      <td>A</td>\n",
       "      <td>A</td>\n",
       "      <td>A</td>\n",
       "      <td>A</td>\n",
       "      <td>A</td>\n",
       "      <td>A</td>\n",
       "      <td>...</td>\n",
       "      <td>0</td>\n",
       "      <td>0</td>\n",
       "      <td>7144.183132</td>\n",
       "      <td>6263.398994</td>\n",
       "      <td>6263.398994</td>\n",
       "      <td>7971.337575</td>\n",
       "      <td>0</td>\n",
       "      <td>1109</td>\n",
       "      <td>1</td>\n",
       "      <td>NaN</td>\n",
       "    </tr>\n",
       "    <tr>\n",
       "      <th>2</th>\n",
       "      <td>20004</td>\n",
       "      <td>103</td>\n",
       "      <td>20004103</td>\n",
       "      <td>17</td>\n",
       "      <td>A</td>\n",
       "      <td>A</td>\n",
       "      <td>A</td>\n",
       "      <td>A</td>\n",
       "      <td>A</td>\n",
       "      <td>A</td>\n",
       "      <td>...</td>\n",
       "      <td>77</td>\n",
       "      <td>0</td>\n",
       "      <td>5616.278666</td>\n",
       "      <td>6263.398994</td>\n",
       "      <td>6263.398994</td>\n",
       "      <td>0.000000</td>\n",
       "      <td>0</td>\n",
       "      <td>1109</td>\n",
       "      <td>1</td>\n",
       "      <td>NaN</td>\n",
       "    </tr>\n",
       "    <tr>\n",
       "      <th>3</th>\n",
       "      <td>20005</td>\n",
       "      <td>101</td>\n",
       "      <td>20005101</td>\n",
       "      <td>17</td>\n",
       "      <td>A</td>\n",
       "      <td>A</td>\n",
       "      <td>A</td>\n",
       "      <td>A</td>\n",
       "      <td>A</td>\n",
       "      <td>A</td>\n",
       "      <td>...</td>\n",
       "      <td>0</td>\n",
       "      <td>53</td>\n",
       "      <td>4045.586998</td>\n",
       "      <td>6080.690177</td>\n",
       "      <td>6080.690177</td>\n",
       "      <td>5604.764494</td>\n",
       "      <td>0</td>\n",
       "      <td>1109</td>\n",
       "      <td>2</td>\n",
       "      <td>NaN</td>\n",
       "    </tr>\n",
       "    <tr>\n",
       "      <th>4</th>\n",
       "      <td>20005</td>\n",
       "      <td>102</td>\n",
       "      <td>20005102</td>\n",
       "      <td>17</td>\n",
       "      <td>A</td>\n",
       "      <td>A</td>\n",
       "      <td>A</td>\n",
       "      <td>A</td>\n",
       "      <td>A</td>\n",
       "      <td>A</td>\n",
       "      <td>...</td>\n",
       "      <td>0</td>\n",
       "      <td>0</td>\n",
       "      <td>6901.505814</td>\n",
       "      <td>6080.690177</td>\n",
       "      <td>6080.690177</td>\n",
       "      <td>7781.609891</td>\n",
       "      <td>0</td>\n",
       "      <td>1109</td>\n",
       "      <td>2</td>\n",
       "      <td>NaN</td>\n",
       "    </tr>\n",
       "  </tbody>\n",
       "</table>\n",
       "<p>5 rows × 1792 columns</p>\n",
       "</div>"
      ],
      "text/plain": [
       "   DWELLING UNIT ID  PERSON NUMBER  PERSON ID (DUID + PID)  PANEL NUMBER  \\\n",
       "0             20004            101                20004101            17   \n",
       "1             20004            102                20004102            17   \n",
       "2             20004            103                20004103            17   \n",
       "3             20005            101                20005101            17   \n",
       "4             20005            102                20005102            17   \n",
       "\n",
       "  FAMILY ID (STUDENT MERGED IN) - R3/1 FAMILY ID (STUDENT MERGED IN) - R4/2  \\\n",
       "0                                   A                                    A    \n",
       "1                                   A                                    A    \n",
       "2                                   A                                    A    \n",
       "3                                   A                                    A    \n",
       "4                                   A                                    A    \n",
       "\n",
       "  FAMILY ID (STUDENT MERGED IN) - R5/3  \\\n",
       "0                                   A    \n",
       "1                                   A    \n",
       "2                                   A    \n",
       "3                                   A    \n",
       "4                                   A    \n",
       "\n",
       "  FAMILY ID (STUDENT MERGED IN) - 12/31/13 ANNUAL FAMILY IDENTIFIER CPSFAMID  \\\n",
       "0                                       A                        A        A    \n",
       "1                                       A                        A        A    \n",
       "2                                       A                        A        A    \n",
       "3                                       A                        A        A    \n",
       "4                                       A                        A        A    \n",
       "\n",
       "  ...  TOTAL RX-PRV & TRI AMT 13  TOTAL RX-OTH COMBINED AMT 13  \\\n",
       "0 ...                          0                             0   \n",
       "1 ...                          0                             0   \n",
       "2 ...                         77                             0   \n",
       "3 ...                          0                            53   \n",
       "4 ...                          0                             0   \n",
       "\n",
       "  FINAL PERSON WEIGHT 2013 FINAL FAMILY WEIGHT 2013  \\\n",
       "0              6594.801768              6263.398994   \n",
       "1              7144.183132              6263.398994   \n",
       "2              5616.278666              6263.398994   \n",
       "3              4045.586998              6080.690177   \n",
       "4              6901.505814              6080.690177   \n",
       "\n",
       "  POV ADJ FAMILY WGT-CPS FAM ON 12/31/13 FINAL SAQ PERSON WEIGHT 2013  \\\n",
       "0                            6263.398994                  7960.062940   \n",
       "1                            6263.398994                  7971.337575   \n",
       "2                            6263.398994                     0.000000   \n",
       "3                            6080.690177                  5604.764494   \n",
       "4                            6080.690177                  7781.609891   \n",
       "\n",
       "   FINAL DIABETES CARE SUPPLEMENT WEIGHT  VARIANCE ESTIMATION STRATUM - 2013  \\\n",
       "0                                      0                                1109   \n",
       "1                                      0                                1109   \n",
       "2                                      0                                1109   \n",
       "3                                      0                                1109   \n",
       "4                                      0                                1109   \n",
       "\n",
       "   VARIANCE ESTIMATION PSU - 2013      \n",
       "0                               1 NaN  \n",
       "1                               1 NaN  \n",
       "2                               1 NaN  \n",
       "3                               2 NaN  \n",
       "4                               2 NaN  \n",
       "\n",
       "[5 rows x 1792 columns]"
      ]
     },
     "execution_count": 7,
     "metadata": {},
     "output_type": "execute_result"
    }
   ],
   "source": [
    "data1=clean_columns(data)\n",
    "data1.head()"
   ]
  },
  {
   "cell_type": "markdown",
   "metadata": {},
   "source": [
    "So far so good; now I just need to get rid of the last column."
   ]
  },
  {
   "cell_type": "code",
   "execution_count": 8,
   "metadata": {
    "collapsed": false,
    "scrolled": false
   },
   "outputs": [
    {
     "data": {
      "text/html": [
       "<div>\n",
       "<table border=\"1\" class=\"dataframe\">\n",
       "  <thead>\n",
       "    <tr style=\"text-align: right;\">\n",
       "      <th></th>\n",
       "      <th>DWELLING UNIT ID</th>\n",
       "      <th>PERSON NUMBER</th>\n",
       "      <th>PERSON ID (DUID + PID)</th>\n",
       "      <th>PANEL NUMBER</th>\n",
       "      <th>FAMILY ID (STUDENT MERGED IN) - R3/1</th>\n",
       "      <th>FAMILY ID (STUDENT MERGED IN) - R4/2</th>\n",
       "      <th>FAMILY ID (STUDENT MERGED IN) - R5/3</th>\n",
       "      <th>FAMILY ID (STUDENT MERGED IN) - 12/31/13</th>\n",
       "      <th>ANNUAL FAMILY IDENTIFIER</th>\n",
       "      <th>CPSFAMID</th>\n",
       "      <th>...</th>\n",
       "      <th>TOT RX-OTH UNCLASS SRCE AMT 13</th>\n",
       "      <th>TOTAL RX-PRV &amp; TRI AMT 13</th>\n",
       "      <th>TOTAL RX-OTH COMBINED AMT 13</th>\n",
       "      <th>FINAL PERSON WEIGHT 2013</th>\n",
       "      <th>FINAL FAMILY WEIGHT 2013</th>\n",
       "      <th>POV ADJ FAMILY WGT-CPS FAM ON 12/31/13</th>\n",
       "      <th>FINAL SAQ PERSON WEIGHT 2013</th>\n",
       "      <th>FINAL DIABETES CARE SUPPLEMENT WEIGHT</th>\n",
       "      <th>VARIANCE ESTIMATION STRATUM - 2013</th>\n",
       "      <th>VARIANCE ESTIMATION PSU - 2013</th>\n",
       "    </tr>\n",
       "  </thead>\n",
       "  <tbody>\n",
       "    <tr>\n",
       "      <th>0</th>\n",
       "      <td>20004</td>\n",
       "      <td>101</td>\n",
       "      <td>20004101</td>\n",
       "      <td>17</td>\n",
       "      <td>A</td>\n",
       "      <td>A</td>\n",
       "      <td>A</td>\n",
       "      <td>A</td>\n",
       "      <td>A</td>\n",
       "      <td>A</td>\n",
       "      <td>...</td>\n",
       "      <td>0</td>\n",
       "      <td>0</td>\n",
       "      <td>0</td>\n",
       "      <td>6594.801768</td>\n",
       "      <td>6263.398994</td>\n",
       "      <td>6263.398994</td>\n",
       "      <td>7960.062940</td>\n",
       "      <td>0</td>\n",
       "      <td>1109</td>\n",
       "      <td>1</td>\n",
       "    </tr>\n",
       "    <tr>\n",
       "      <th>1</th>\n",
       "      <td>20004</td>\n",
       "      <td>102</td>\n",
       "      <td>20004102</td>\n",
       "      <td>17</td>\n",
       "      <td>A</td>\n",
       "      <td>A</td>\n",
       "      <td>A</td>\n",
       "      <td>A</td>\n",
       "      <td>A</td>\n",
       "      <td>A</td>\n",
       "      <td>...</td>\n",
       "      <td>0</td>\n",
       "      <td>0</td>\n",
       "      <td>0</td>\n",
       "      <td>7144.183132</td>\n",
       "      <td>6263.398994</td>\n",
       "      <td>6263.398994</td>\n",
       "      <td>7971.337575</td>\n",
       "      <td>0</td>\n",
       "      <td>1109</td>\n",
       "      <td>1</td>\n",
       "    </tr>\n",
       "    <tr>\n",
       "      <th>2</th>\n",
       "      <td>20004</td>\n",
       "      <td>103</td>\n",
       "      <td>20004103</td>\n",
       "      <td>17</td>\n",
       "      <td>A</td>\n",
       "      <td>A</td>\n",
       "      <td>A</td>\n",
       "      <td>A</td>\n",
       "      <td>A</td>\n",
       "      <td>A</td>\n",
       "      <td>...</td>\n",
       "      <td>0</td>\n",
       "      <td>77</td>\n",
       "      <td>0</td>\n",
       "      <td>5616.278666</td>\n",
       "      <td>6263.398994</td>\n",
       "      <td>6263.398994</td>\n",
       "      <td>0.000000</td>\n",
       "      <td>0</td>\n",
       "      <td>1109</td>\n",
       "      <td>1</td>\n",
       "    </tr>\n",
       "    <tr>\n",
       "      <th>3</th>\n",
       "      <td>20005</td>\n",
       "      <td>101</td>\n",
       "      <td>20005101</td>\n",
       "      <td>17</td>\n",
       "      <td>A</td>\n",
       "      <td>A</td>\n",
       "      <td>A</td>\n",
       "      <td>A</td>\n",
       "      <td>A</td>\n",
       "      <td>A</td>\n",
       "      <td>...</td>\n",
       "      <td>0</td>\n",
       "      <td>0</td>\n",
       "      <td>53</td>\n",
       "      <td>4045.586998</td>\n",
       "      <td>6080.690177</td>\n",
       "      <td>6080.690177</td>\n",
       "      <td>5604.764494</td>\n",
       "      <td>0</td>\n",
       "      <td>1109</td>\n",
       "      <td>2</td>\n",
       "    </tr>\n",
       "    <tr>\n",
       "      <th>4</th>\n",
       "      <td>20005</td>\n",
       "      <td>102</td>\n",
       "      <td>20005102</td>\n",
       "      <td>17</td>\n",
       "      <td>A</td>\n",
       "      <td>A</td>\n",
       "      <td>A</td>\n",
       "      <td>A</td>\n",
       "      <td>A</td>\n",
       "      <td>A</td>\n",
       "      <td>...</td>\n",
       "      <td>0</td>\n",
       "      <td>0</td>\n",
       "      <td>0</td>\n",
       "      <td>6901.505814</td>\n",
       "      <td>6080.690177</td>\n",
       "      <td>6080.690177</td>\n",
       "      <td>7781.609891</td>\n",
       "      <td>0</td>\n",
       "      <td>1109</td>\n",
       "      <td>2</td>\n",
       "    </tr>\n",
       "  </tbody>\n",
       "</table>\n",
       "<p>5 rows × 1791 columns</p>\n",
       "</div>"
      ],
      "text/plain": [
       "   DWELLING UNIT ID  PERSON NUMBER  PERSON ID (DUID + PID)  PANEL NUMBER  \\\n",
       "0             20004            101                20004101            17   \n",
       "1             20004            102                20004102            17   \n",
       "2             20004            103                20004103            17   \n",
       "3             20005            101                20005101            17   \n",
       "4             20005            102                20005102            17   \n",
       "\n",
       "  FAMILY ID (STUDENT MERGED IN) - R3/1 FAMILY ID (STUDENT MERGED IN) - R4/2  \\\n",
       "0                                   A                                    A    \n",
       "1                                   A                                    A    \n",
       "2                                   A                                    A    \n",
       "3                                   A                                    A    \n",
       "4                                   A                                    A    \n",
       "\n",
       "  FAMILY ID (STUDENT MERGED IN) - R5/3  \\\n",
       "0                                   A    \n",
       "1                                   A    \n",
       "2                                   A    \n",
       "3                                   A    \n",
       "4                                   A    \n",
       "\n",
       "  FAMILY ID (STUDENT MERGED IN) - 12/31/13 ANNUAL FAMILY IDENTIFIER CPSFAMID  \\\n",
       "0                                       A                        A        A    \n",
       "1                                       A                        A        A    \n",
       "2                                       A                        A        A    \n",
       "3                                       A                        A        A    \n",
       "4                                       A                        A        A    \n",
       "\n",
       "                ...                TOT RX-OTH UNCLASS SRCE AMT 13  \\\n",
       "0               ...                                             0   \n",
       "1               ...                                             0   \n",
       "2               ...                                             0   \n",
       "3               ...                                             0   \n",
       "4               ...                                             0   \n",
       "\n",
       "   TOTAL RX-PRV & TRI AMT 13 TOTAL RX-OTH COMBINED AMT 13  \\\n",
       "0                          0                            0   \n",
       "1                          0                            0   \n",
       "2                         77                            0   \n",
       "3                          0                           53   \n",
       "4                          0                            0   \n",
       "\n",
       "  FINAL PERSON WEIGHT 2013 FINAL FAMILY WEIGHT 2013  \\\n",
       "0              6594.801768              6263.398994   \n",
       "1              7144.183132              6263.398994   \n",
       "2              5616.278666              6263.398994   \n",
       "3              4045.586998              6080.690177   \n",
       "4              6901.505814              6080.690177   \n",
       "\n",
       "  POV ADJ FAMILY WGT-CPS FAM ON 12/31/13  FINAL SAQ PERSON WEIGHT 2013  \\\n",
       "0                            6263.398994                   7960.062940   \n",
       "1                            6263.398994                   7971.337575   \n",
       "2                            6263.398994                      0.000000   \n",
       "3                            6080.690177                   5604.764494   \n",
       "4                            6080.690177                   7781.609891   \n",
       "\n",
       "   FINAL DIABETES CARE SUPPLEMENT WEIGHT  VARIANCE ESTIMATION STRATUM - 2013  \\\n",
       "0                                      0                                1109   \n",
       "1                                      0                                1109   \n",
       "2                                      0                                1109   \n",
       "3                                      0                                1109   \n",
       "4                                      0                                1109   \n",
       "\n",
       "   VARIANCE ESTIMATION PSU - 2013  \n",
       "0                               1  \n",
       "1                               1  \n",
       "2                               1  \n",
       "3                               2  \n",
       "4                               2  \n",
       "\n",
       "[5 rows x 1791 columns]"
      ]
     },
     "execution_count": 8,
     "metadata": {},
     "output_type": "execute_result"
    }
   ],
   "source": [
    "data1=data1.drop(\"\",axis=1)\n",
    "data1.head()"
   ]
  },
  {
   "cell_type": "markdown",
   "metadata": {},
   "source": [
    "Great, that worked. Alright, let's roll that into the clean_columns function:"
   ]
  },
  {
   "cell_type": "code",
   "execution_count": 9,
   "metadata": {
    "collapsed": true,
    "scrolled": false
   },
   "outputs": [],
   "source": [
    "def clean_columns(theframe):\n",
    "    temp=theframe.columns.map(lambda x: (((str(x).lstrip()).rstrip()))).copy()\n",
    "    theframe.columns=temp\n",
    "    theframe=theframe.drop(\"\",axis=1)\n",
    "    return theframe"
   ]
  },
  {
   "cell_type": "code",
   "execution_count": 10,
   "metadata": {
    "collapsed": false,
    "scrolled": false
   },
   "outputs": [],
   "source": [
    "data=clean_columns(data)"
   ]
  },
  {
   "cell_type": "code",
   "execution_count": 11,
   "metadata": {
    "collapsed": false,
    "scrolled": false
   },
   "outputs": [
    {
     "data": {
      "text/plain": [
       "Index(['DWELLING UNIT ID', 'PERSON NUMBER', 'PERSON ID (DUID + PID)',\n",
       "       'PANEL NUMBER', 'FAMILY ID (STUDENT MERGED IN) - R3/1',\n",
       "       'FAMILY ID (STUDENT MERGED IN) - R4/2',\n",
       "       'FAMILY ID (STUDENT MERGED IN) - R5/3',\n",
       "       'FAMILY ID (STUDENT MERGED IN) - 12/31/13', 'ANNUAL FAMILY IDENTIFIER',\n",
       "       'CPSFAMID', \n",
       "       ...\n",
       "       'TOT RX-OTH UNCLASS SRCE AMT 13', 'TOTAL RX-PRV & TRI AMT 13',\n",
       "       'TOTAL RX-OTH COMBINED AMT 13', 'FINAL PERSON WEIGHT 2013',\n",
       "       'FINAL FAMILY WEIGHT 2013', 'POV ADJ FAMILY WGT-CPS FAM ON 12/31/13',\n",
       "       'FINAL SAQ PERSON WEIGHT 2013', 'FINAL DIABETES CARE SUPPLEMENT WEIGHT',\n",
       "       'VARIANCE ESTIMATION STRATUM - 2013', 'VARIANCE ESTIMATION PSU - 2013'],\n",
       "      dtype='object', length=1791)"
      ]
     },
     "execution_count": 11,
     "metadata": {},
     "output_type": "execute_result"
    }
   ],
   "source": [
    "data.columns"
   ]
  },
  {
   "cell_type": "markdown",
   "metadata": {},
   "source": [
    "Perfect.\n",
    "\n",
    "One thing worth remarking on is that I've actually extracted the variable **description** rather than the variable name in this step. This was a deliberate decision, as I find it much more intuitive to work with variable names like \"MOST RECENT COLONOSCOPY (>39) - R5/3\" rather than the variable name \"CLNTST53\". Those of you familiar with the constraints of variable names in SQL databases will object that this is going to cause trouble in the future. I decided to go with the more descriptive variable names, and write a coding-decoding function to help move data in and out of SQL databases a bit later in the project. Overall, I found this to be a reasonable choice.\n",
    "\n",
    "To this end, let me go head and get rid of the spaces in the variables names before that causes any bugs down the road."
   ]
  },
  {
   "cell_type": "code",
   "execution_count": 12,
   "metadata": {
    "collapsed": true
   },
   "outputs": [],
   "source": [
    "def underscore_the_headers(data):\n",
    "    temp=(data.columns).copy()\n",
    "    result=[term.replace(' ','_') for term in temp]\n",
    "    data.columns=result.copy()\n",
    "    return data"
   ]
  },
  {
   "cell_type": "markdown",
   "metadata": {},
   "source": [
    "Let's run the data columns through this function:"
   ]
  },
  {
   "cell_type": "code",
   "execution_count": 13,
   "metadata": {
    "collapsed": true
   },
   "outputs": [],
   "source": [
    "data_=underscore_the_headers(data)"
   ]
  },
  {
   "cell_type": "code",
   "execution_count": 14,
   "metadata": {
    "collapsed": false
   },
   "outputs": [
    {
     "data": {
      "text/plain": [
       "Index(['DWELLING_UNIT_ID', 'PERSON_NUMBER', 'PERSON_ID_(DUID_+_PID)',\n",
       "       'PANEL_NUMBER', 'FAMILY_ID_(STUDENT_MERGED_IN)_-_R3/1',\n",
       "       'FAMILY_ID_(STUDENT_MERGED_IN)_-_R4/2',\n",
       "       'FAMILY_ID_(STUDENT_MERGED_IN)_-_R5/3',\n",
       "       'FAMILY_ID_(STUDENT_MERGED_IN)_-_12/31/13', 'ANNUAL_FAMILY_IDENTIFIER',\n",
       "       'CPSFAMID', \n",
       "       ...\n",
       "       'TOT_RX-OTH_UNCLASS_SRCE_AMT_13', 'TOTAL_RX-PRV_&_TRI_AMT_13',\n",
       "       'TOTAL_RX-OTH_COMBINED_AMT_13', 'FINAL_PERSON_WEIGHT_2013',\n",
       "       'FINAL_FAMILY_WEIGHT_2013', 'POV_ADJ_FAMILY_WGT-CPS_FAM_ON_12/31/13',\n",
       "       'FINAL_SAQ_PERSON_WEIGHT_2013', 'FINAL_DIABETES_CARE_SUPPLEMENT_WEIGHT',\n",
       "       'VARIANCE_ESTIMATION_STRATUM_-_2013', 'VARIANCE_ESTIMATION_PSU_-_2013'],\n",
       "      dtype='object', length=1791)"
      ]
     },
     "execution_count": 14,
     "metadata": {},
     "output_type": "execute_result"
    }
   ],
   "source": [
    "data_.columns"
   ]
  },
  {
   "cell_type": "markdown",
   "metadata": {},
   "source": [
    "Great!"
   ]
  },
  {
   "cell_type": "markdown",
   "metadata": {},
   "source": [
    "Next, I'd like to learn a bit more about what these features are. The main thing to keep in mind is that having a large number of features will make our model very unwieldy. \n",
    "\n",
    "The crucial thing for this model is for it to be as **useful** as possible, and if I have to collect 1700 features or so about a person before I can give them any useful feedback, this model won't be used by anyone.\n",
    "\n",
    "Secondly, for the purposes of my project, I'm most concerned with how the demographic, economic, or health status of a consumer drives cost, since these are the things that can inform how we choose to design the market for healthcare services.\n",
    "\n"
   ]
  },
  {
   "cell_type": "markdown",
   "metadata": {},
   "source": [
    "To this end, let's take a look at what's available at the MEPS [page](http://meps.ahrq.gov/mepsweb/data_stats/download_data_files_detail.jsp?cboPufNumber=HC-163) that points to the dataset. This page gives us two helpful pieces of information: the first is the [documentation](http://meps.ahrq.gov/mepsweb/data_stats/download_data/pufs/h163/h163doc.shtml) for the dataset  and the second is the [codebook](http://meps.ahrq.gov/mepsweb/data_stats/download_data_files_codebook.jsp?PUFId=H163), which we've already used in constructing the csv file.\n",
    "\n",
    "While the codebook contains the entire listing of variables in the dataset and the start-end points in the ASCII file, it does not tell us what the variables actually record. To be fair, the variable names are fairly descriptive, but a quick query of one of the columns in the dataset we've constructed:\n",
    "\n"
   ]
  },
  {
   "cell_type": "code",
   "execution_count": 15,
   "metadata": {
    "collapsed": false,
    "scrolled": false
   },
   "outputs": [
    {
     "data": {
      "text/plain": [
       "count    36940.000000\n",
       "mean         0.928533\n",
       "std          1.355903\n",
       "min         -9.000000\n",
       "25%         -1.000000\n",
       "50%          2.000000\n",
       "75%          2.000000\n",
       "max          2.000000\n",
       "Name: HIGH_CHOLESTEROL_DIAGNOSIS_(>17), dtype: float64"
      ]
     },
     "execution_count": 15,
     "metadata": {},
     "output_type": "execute_result"
    }
   ],
   "source": [
    "data[\"HIGH_CHOLESTEROL_DIAGNOSIS_(>17)\"].describe()"
   ]
  },
  {
   "cell_type": "markdown",
   "metadata": {},
   "source": [
    "raises the question: what do the values of this variable mean? It has a max of 2, and a min of -9. That doesn't correspond to any prior I currently have over the values of a diagnosis of high cholesterol. Let's take a more detailed look:"
   ]
  },
  {
   "cell_type": "code",
   "execution_count": 16,
   "metadata": {
    "collapsed": false,
    "scrolled": false
   },
   "outputs": [
    {
     "data": {
      "text/plain": [
       " 2    18967\n",
       "-1    10382\n",
       " 1     7497\n",
       "-8       49\n",
       "-7       24\n",
       "-9       21\n",
       "dtype: int64"
      ]
     },
     "execution_count": 16,
     "metadata": {},
     "output_type": "execute_result"
    }
   ],
   "source": [
    "data[\"HIGH_CHOLESTEROL_DIAGNOSIS_(>17)\"].value_counts()"
   ]
  },
  {
   "cell_type": "markdown",
   "metadata": {},
   "source": [
    "The most frequently populated values are 2, 1 and -1, but there are also records with values -8, -7 and -9.\n",
    "\n",
    "This warrants a closer look at the documentation. A quick search for \"cholesterol\" turns up:\n",
    "\n",
    "    High Cholesterol\n",
    "\n",
    "    Questions about high cholesterol were asked of persons aged 18 or older. Consequently, persons aged 17 or younger were coded as “Inapplicable” (-1) on these variables. CHOLDX ascertained whether the person had ever been diagnosed as having high cholesterol. Through 2007, a person-level variable (CHLAGE) indicated the age of diagnosis for high cholesterol on the Person-Level Use PUF. The age of diagnosis for high cholesterol (CHOLAGED) is included in this file. This variable is top-coded to 85 years of age.\n",
    "\n",
    "\n",
    "\n",
    "which is somewhat helpful, but doesn't explain the use of the values -8 and -9.\n",
    "\n",
    "Further digging into the documentation yields the following table:\n",
    "\n",
    "    2.2 Reserved Codes\n",
    "\n",
    "    The following reserved code values are used:\n",
    "\n",
    "    Value \tDefinition\n",
    "    -1 INAPPLICABLE \tQuestion was not asked due to skip pattern\n",
    "    -2 DETERMINED IN PREVIOUS ROUND \tQuestion was not asked in round because there was no change in current main job since previous round\n",
    "    -7 REFUSED \tQuestion was asked and respondent refused to answer question\n",
    "    -8 DK \tQuestion was asked and respondent did not know answer\n",
    "    -9 NOT ASCERTAINED \tInterviewer did not record the data\n",
    "    -10 HOURLY WAGE >= $76.96 \tHourly wage was top-coded for confidentiality\n",
    "    -13 INITIAL WAGE IMPUTED \tHourly wage was previously imputed so an updated wage is not included in this file\n",
    "\n",
    "This is helpful; it indicates that the most relevant levels for our analysis ought to be the following three:\n",
    "\n",
    "1. Positive diagnosis of high cholesterol\n",
    "2. Negative diagnosis of high cholesterol\n",
    "3. Inapplicable to respondent\n",
    "\n",
    "and given the low population in levels below -1, we can either aggregate these data points with level==-1, or discard them entirely. In the following analysis, we choose to discard them.\n",
    "\n",
    "A final question that needs to be asked at this step is which level corresponds to a positive diagnosis of high cholesterol? A close look at the documentation indicates that level==1 corresponds to having the condition, and level==2 corresponds to not having the condition. Knowing which level is which doesn't particularly affect the computations that generate our models going forward, but it is important for being able to interpret the models.\n",
    "\n",
    "As a quick sanity check, let's get a visualization of the distribution of the data between these levels:"
   ]
  },
  {
   "cell_type": "code",
   "execution_count": 17,
   "metadata": {
    "collapsed": false,
    "scrolled": false
   },
   "outputs": [
    {
     "data": {
      "text/plain": [
       "<matplotlib.axes._subplots.AxesSubplot at 0x7f3e7b0d2898>"
      ]
     },
     "execution_count": 17,
     "metadata": {},
     "output_type": "execute_result"
    },
    {
     "data": {
      "image/png": "[encoded data removed]",
      "text/plain": [
       "<matplotlib.figure.Figure at 0x7f3e7b0d2198>"
      ]
     },
     "metadata": {},
     "output_type": "display_data"
    }
   ],
   "source": [
    "data[\"HIGH_CHOLESTEROL_DIAGNOSIS_(>17)\"].hist(bins=100)"
   ]
  },
  {
   "cell_type": "markdown",
   "metadata": {},
   "source": [
    "Of the respondents for whom the question was applicable, it looks like the ratio of level==1 to level==2 is 7/19 or about 1/3. This is close to the CDC estimates of the prevalence of high cholesterol amongst American adults: http://www.cdc.gov/dhdsp/data_statistics/fact_sheets/fs_cholesterol.htm ."
   ]
  },
  {
   "cell_type": "markdown",
   "metadata": {},
   "source": [
    "Next, instead of using level==1 or level==2 to describe the values that a categorical feature takes, I'd like to translate the levels of these categorical variables into their descriptions so my plots are easier to read.\n",
    "\n",
    "Here's a dictionary that implements this:"
   ]
  },
  {
   "cell_type": "code",
   "execution_count": 18,
   "metadata": {
    "collapsed": false
   },
   "outputs": [],
   "source": [
    "interpretation={}\n",
    "interpretation[\"categorical\"]={\n",
    "                1: \"Yes\",\n",
    "                2: \"No\",\n",
    "                -1: \"Inapplicable\",\n",
    "                -2: \"Determined in previous round\",\n",
    "                -7: \"Refused\",\n",
    "                -8: \"Don't know\",\n",
    "                -9: \"Not ascertained\",\n",
    "                -10: \"HOURLY WAGE >= $76.96\",\n",
    "                -13: \"INITIAL WAGE IMPUTED\"\n",
    "                }\n",
    "interpretation[\"RACE/ETHNICITY_(EDITED/IMPUTED)\"]={1: \"HISPANIC\",\n",
    "                        2: \"NON-HISPANIC WHITE ONLY\",\n",
    "                        3: \"NON-HISPANIC BLACK ONLY\",\n",
    "                        4: \"NON-HISPANIC ASIAN ONLY\",\n",
    "                        5: \"NON-HISPANIC OTHER RACE OR MULTIPLE RACE\"\n",
    "                        }\n",
    "interpretation[\"SEX\"]={1: \"MALE\", 2: \"FEMALE\"}\n",
    "interpretation[\"MARITAL_STATUS-12/31/13_(EDITED/IMPUTED)\"]={-9: \"NOT ASCERTAINED\",\n",
    "                           -8: \"DK\",\n",
    "                           -7: \"REFUSED\",\n",
    "                           1: \"MARRIED\",\n",
    "                           2: \"WIDOWED\",\n",
    "                           3: \"DIVORCED\",\n",
    "                           4: \"SEPARATED\",\n",
    "                           5: \"NEVER MARRIED\",\n",
    "                           6: \"UNDER 16 - INAPPLICABLE\"\n",
    "                          }\n",
    "interpretation[\"EDUCATION_RECODE_(EDITED)\"]={-9: \"NOT ASCERTAINED\",\n",
    "                             -8: \"DK\",\n",
    "                             -7: \"REFUSED\",\n",
    "                             -1: \"INAPPLICABLE OR UNDER 5\",\n",
    "                             1: \"LESS THAN/EQUAL TO 8TH GRADE\",\n",
    "                             2: \"9 - 12TH GRADE, NO HS DIPLOMA OR GED\",\n",
    "                             13: \"GED OR HS GRAD\",\n",
    "                             14: \"BEYOND HS,COLLEGE(NO 4YR DEG),ASSOC DEG\",\n",
    "                             15: \"4-YEAR COLLEGE DEGREE, BACHELOR'S DEGREE\",\n",
    "                             16: \"MASTER'S, DOCTORATE, OR PROFESSIONAL DEG\"\n",
    "                             }\n",
    "interpretation[\"INDUSTRY_GROUP_RD_3/1_CMJ\"]={-9: \"NOT ASCERTAINED\",\n",
    "                            -1: \"INAPPLICABLE\",\n",
    "                            1: \"NATURAL RESOURCES\",\n",
    "                            2: \"MINING\",\n",
    "                            3: \"CONSTRUCTION\",\n",
    "                            4: \"MANUFACTURING\",\n",
    "                            5: \"WHOLESALE AND RETAIL TRADE\",\n",
    "                            6: \"TRANSPORTATION AND UTILITIES\",\n",
    "                            7: \"INFORMATION\",\n",
    "                            8: \"FINANCIAL ACTIVITIES\",\n",
    "                            9: \"PROFESSIONAL AND BUSINESS SERVICES\",\n",
    "                            10: \"EDUCATION, HEALTH, AND SOCIAL SERVICES\",\n",
    "                            11: \"LEISURE AND HOSPITALITY\",\n",
    "                            12: \"OTHER SERVICES\",\n",
    "                            13: \"PUBLIC ADMINISTRATION\",\n",
    "                            14: \"MILITARY\",\n",
    "                            15: \"UNCLASSIFIABLE INDUSTRY\"}\n",
    "interpretation[\"OCCUPATION_GROUP_RD_3/1_CMJ\"]={-9: \"NOT ASCERTAINED\", -1: \"INAPPLICABLE\", 1: \"MANAGEMENT, BUSINESS, AND FINANCIAL OPER\",\n",
    "                              2: \"PROFESSIONAL AND RELATED OCCUPATIONS\", 3: \"SERVICE OCCUPATIONS\", \n",
    "                              4: \"SALES AND RELATED OCCUPATIONS\", 5: \"OFFICE AND ADMINISTRATIVE SUPPORT\",\n",
    "                              6: \"FARMING, FISHING, AND FORESTRY\", 7: \"CONSTRUCTION, EXTRACTION, AND MAINTENANC\",\n",
    "                              8: \"PRODUCTION, TRNSPORTATION, MATRL MOVING\", 9: \"MILITARY SPECIFIC OCCUPATIONS\",\n",
    "                              11: \"UNCLASSIFIABLE OCCUPATION\"}\n",
    "interpretation[\"CENSUS_REGION_AS_OF_12/31/13\"]={-1: \"Inapplicable\", 1:\"Northeast\", 2:\"Midwest\", 3:\"South\", 4:\"West\"}\n",
    "interpretation[\"EMPLOYMENT_STATUS_RD_3/1\"]={-9: \"NOT ASCERTAINED\",\n",
    "                                            -8: \"DK\",\n",
    "                                            -7: \"REFUSED\",\n",
    "                                            -1: \"INAPPLICABLE\",\n",
    "                                            1: \"EMPLOYED AT RD 3/1 INT DATE\",\n",
    "                                            2: \"JOB TO RETURN TO AT RD 3/1 INT DATE\",\n",
    "                                            3: \"JOB DURING RD 3/1 REF PERIOD\",\n",
    "                                            4: \"NOT EMPLOYED DURING RD 3/1\"}\n",
    "\n",
    "interpretation[\"FULL_YEAR_INSURANCE_COVERAGE_STATUS_2013\"]={1: \"<65 ANY PRIVATE\",\n",
    "                                                            2: \"<65 PUBLIC ONLY\",\n",
    "                                                            3: \"<65 UNINSURED\",\n",
    "                                                            4: \"65+ EDITED MEDICARE ONLY\",\n",
    "                                                            5: \"65+ EDITED MEDICARE AND PRIVATE\",\n",
    "                                                            6: \"65+ EDITED MEDICARE AND OTH PUB ONLY\",\n",
    "                                                            7: \"65+ UNINSURED\",\n",
    "                                                            8: \"65+ NO MEDICARE AND ANY PUBLIC/PRIVATE\"\n",
    "                                                           }\n",
    "\n"
   ]
  },
  {
   "cell_type": "markdown",
   "metadata": {},
   "source": [
    "Let's write a function that implements this as necessary for a feature:"
   ]
  },
  {
   "cell_type": "code",
   "execution_count": 19,
   "metadata": {
    "collapsed": true
   },
   "outputs": [],
   "source": [
    "def interpret(feature,level):\n",
    "    if feature in interpretation:\n",
    "        return interpretation[feature][level]\n",
    "    elif len(data[feature].value_counts())<50:\n",
    "        if level in interpretation[\"categorical\"]:\n",
    "            return interpretation[\"categorical\"][level]\n",
    "        else:\n",
    "            return level\n",
    "    else:\n",
    "        return level"
   ]
  },
  {
   "cell_type": "code",
   "execution_count": 20,
   "metadata": {
    "collapsed": true
   },
   "outputs": [],
   "source": [
    "def interpret_new(data,feature):\n",
    "    if feature in interpretation:\n",
    "        return data[feature].map(lambda x: interpretation[feature][x])\n",
    "    elif feature in categorical:\n",
    "        return data[feature].map(lambda x: interpretation[\"categorical\"][x])\n",
    "    else:\n",
    "        return data[feature]"
   ]
  },
  {
   "cell_type": "raw",
   "metadata": {},
   "source": [
    "And here's an example of how it transforms the levels in a plot:"
   ]
  },
  {
   "cell_type": "code",
   "execution_count": 21,
   "metadata": {
    "collapsed": true
   },
   "outputs": [],
   "source": [
    "thevar='HIGH_CHOLESTEROL_DIAGNOSIS_(>17)'"
   ]
  },
  {
   "cell_type": "code",
   "execution_count": 22,
   "metadata": {
    "collapsed": false
   },
   "outputs": [
    {
     "data": {
      "text/plain": [
       "<matplotlib.axes._subplots.AxesSubplot at 0x7f3e794ece10>"
      ]
     },
     "execution_count": 22,
     "metadata": {},
     "output_type": "execute_result"
    },
    {
     "data": {
      "image/png": "[encoded data removed]",
      "text/plain": [
       "<matplotlib.figure.Figure at 0x7f3e7a87c828>"
      ]
     },
     "metadata": {},
     "output_type": "display_data"
    }
   ],
   "source": [
    "temp=data[thevar].map(lambda x: interpret(thevar,x))\n",
    "temp.value_counts().plot(kind=\"bar\",title=thevar)"
   ]
  },
  {
   "cell_type": "markdown",
   "metadata": {},
   "source": [
    "That visualization was a nice way of learning something about the data, and confirming a hunch we had about how to interpret it. In fact, simple visual plots of different features in the dataset are a crucial way of getting some initial insight into the data, and helping us prioritize the most fruitful approaches for modeling the data."
   ]
  },
  {
   "cell_type": "markdown",
   "metadata": {},
   "source": [
    "To fix ideas, let's scope down what we want to go into our model.\n",
    "\n",
    "Explicitly, we'd like to be able to answer the following questions: which (if any) of the following features about a person determine what they will pay for healthcare in a year?\n",
    "\n",
    "1. Demographic information:\n",
    "    1. Age\n",
    "    2. Sex\n",
    "    3. Race/Ethnicity\n",
    "    4. Marital Status\n",
    "    5. Educational attainment\n",
    "    6. Census region\n",
    "2. Income information (these are all top-coded in the dataset for confidentiality reasons):\n",
    "3. Idiosyncratic health status variables:\n",
    "    1. High blood pressure, including multiple diagnoses\n",
    "    2. Heart disease (including coronary heart disease, angina, myocardial infarction, and other unspecified heart disease)\n",
    "    3. Stroke\n",
    "    4. Emphysema\n",
    "    5. Chronic Bronchitis\n",
    "    6. High cholesterol, including the age of diagnosis\n",
    "    7. Cancer\n",
    "    8. Diabetes\n",
    "    9. Joint pain\n",
    "    10. Arthritis\n",
    "    11. Asthma\n",
    "    12. Attention Deficit Hyperactivity Disorder/Attention Deficit Disorder (ADHD/ADD)\n",
    "4. Adult Body Mass Index\n",
    "5. Health Insurance Variables\n",
    "    1. Public Insurance Indicators\n",
    "    2. Private Insurance Indicators\n",
    "    3. Any Insurance Indicators\n",
    "    4. HMO plan\n",
    "6. Utilization, expenditure and source of payments information"
   ]
  },
  {
   "cell_type": "markdown",
   "metadata": {},
   "source": [
    "It's fair to say that this is a lot of information to process. One thing that stands out here is that there are a great number of features already recorded for us in this dataset; this is in sharp contrast to some projects I've done using text and/or social media data, in which a crucial part of the modeling process is feature construction in some appropriate way.\n",
    "\n",
    "Since there is such a rich variety of features, I imagine most of the feature engineering in this project will amount to bucketing variables and levels in appropriate ways to optimize explained variation, rather than constructing new features from scratch.\n",
    "\n",
    "To this end, let's make a list of the exact features we want to start working with.\n",
    "\n",
    "1. Age as of 12/31/13 (Edited/Imputed)\n",
    "2. Sex\n",
    "3. Race (Edited/Imputed)\n",
    "4. Marital Status–12/31/13 (Edited/Imputed)\n",
    "5. Marital Status w/Spouse Present–12/31/13\n",
    "6. EDUCATION RECODE (EDITED)\n",
    "7. Family’s Total Income\n",
    "8. High Blood Pressure Diag (>17)\n",
    "9. Coronary Hrt Disease Diag (>17)\n",
    "10. Age of Diagnosis-High Blood Pressure\n",
    "11. Mult Diag High Blood Press (>17) \t\n",
    "12. Coronary Hrt Disease Diag (>17) \t\n",
    "13. Age of Diagnosis–Coronary Heart Disease \t\n",
    "14. Angina Diagnosis (>17) \t\n",
    "15. Age of Diagnosis-Angina \t\n",
    "16. Heart Attack (MI) Diag (>17) \t\n",
    "17. Age of Diagnosis-Heart Attack (MI) \t\n",
    "18. Other Heart Disease Diag (>17) \t\n",
    "19. Age of Diagnosis-Other Heart Disease \t\n",
    "20. Stroke Diagnosis (>17) \t\n",
    "21. Age of Diagnosis-Stroke \t\n",
    "22. Emphysema Diagnosis (>17) \t\n",
    "23. Age of Diagnosis-Emphysema \t\n",
    "24. Chronc Bronchits Last 12 Mths (>17)–R3/1 \t\n",
    "25. Chronc Bronchits Last 12 Mths (>17)–R5/3 \t\n",
    "26. High Cholesterol Diagnosis (>17) \t\n",
    "27. Age of Diagnosis-High Cholesterol \t\n",
    "28. Cancer Diagnosis (>17) \t\n",
    "29. Cancer Diagnosed - Bladder (>17)\n",
    "30. Cancer Diagnosed - Breast (>17) \t\n",
    "31. Cancer Diagnosed - Cervix (>17) \t\n",
    "32. Cancer Diagnosed - Colon (>17) \t\n",
    "33. Cancer Diagnosed - Lung (>17) \t\n",
    "34. Cancer Diagnosed - Lymphoma (>17) \t\n",
    "35. Cancer Diagnosed - Melanoma (>17) \t\n",
    "36. Cancer Diagnosed - Other (>17) \t\n",
    "37. Cancer Diagnosed - Prostate (>17) \t\n",
    "38. Cancer Diagnosed – Skin-Nonmelano (>17) \t\n",
    "39. Cancer Diagnosed – Skin-Unknown Type (>17) \t\n",
    "40. Cancer Diagnosed - Uterus (>17) \t\n",
    "41. Diabetes Diagnosis (>17) \t\n",
    "42. Age of Diagnosis-Diabetes \t\n",
    "43. Joint Pain Last 12 Months (>17) – RD 3/1 \t\n",
    "44. Joint Pain Last 12 Months (>17) – RD 5/3 \t\n",
    "45. Arthritis Diagnosis (>17) \t\n",
    "46. Type Of Arthritis Diagnosed (>17) \t\n",
    "47. Age of Diagnosis-Arthritis \t\n",
    "48. Asthma Diagnosis \t\n",
    "49. Age of Diagnosis-Asthma \t\n",
    "50. Does Person Still Have Asthma – RD 3/1 \t\n",
    "51. Does Person Still Have Asthma - RD 5/3 \t\n",
    "52. Asthma Attack Last 12 Mos– RD 3/1 \t\n",
    "53. Asthma Attack Last 12 Mos– RD 5/3 \t\n",
    "54. When Was Last Episode Of Asthma – Rd 3/1 \t\n",
    "55. When Was Last Episode Of Asthma – Rd 5/3 \t\n",
    "56. Used Acute Pres Inhaler Last 3 Mos-RD5/3 \t\n",
    "57. Used >3Acute Cn Pres Inh Last 3 Mos-RD5/3 \t\n",
    "58. Ever Used Prev Daily Asthma Meds -RD5/3 \t\n",
    "59. Now Take Prev Daily Asthma Meds - RD 5/3 \t\n",
    "60. Have Peak Flow Meter at Home – RD 5/3 \t\n",
    "61. Ever Used Peak Flow Meter - RD 5/3 \t\n",
    "62. When Last Used Peak Flow Meter - RD 5/3 \t\n",
    "63. ADHD/ADD Diagnosis (5-17) \t\n",
    "64. Age of Diagnosis-ADHD/ADD\n",
    "65. Pregnant During Ref Period – RD 3/1 \t\n",
    "66. Limitation in Physical Functioning – RD 3/1\n",
    "67. Employment Status RD 3/1\n",
    "68. Has More than One Job RD 3/1 Int Date\n",
    "69. Self-Employed at RD 3/1 CMJ\n",
    "70. Choice of Health Plans at RD 3/1 CMJ\n",
    "71. Industry Group RD 3/1 CMJ\n",
    "72. Union Status at RD 3/1 CMJ\n",
    "73. Occupation Group RD 3/1 CMJ\n",
    "74. Health Insur Held from RD 3/1 CMJ (Ed)\n",
    "75. Health Insur Offered by RD 3/1 CMJ (Ed)\n",
    "76. Employer Offers Health Ins RD 3/1 CMJ\n",
    "77. Full Year Insurance Coverage Status 2013\n",
    "78. Anyone in RU Have FSA\n",
    "79. \\# Wks/Mon Wout Hlth Ins Prv Yr–Pnl 18 Onl\n",
    "80. Private Insurance Any Time in R5/R3\n",
    "81. Public Ins Any Time in R5/R3\n",
    "82. Insured Any Time in R3/1\n",
    "83. Any Time Coverage by State Ins - R3/1\n",
    "84. \\# Office-Based Provider Visits 2013\n",
    "85. \\# Outpatient Dept Provider Visits 2013\n",
    "87. \\# Emergency Room Visits 2013\n",
    "89. \\# Nights in Hosp for Discharges 2013\n",
    "92. Final Person Weight, 2013\n",
    "93. Census Region as of 12/31/13\n",
    "\n"
   ]
  },
  {
   "cell_type": "markdown",
   "metadata": {},
   "source": [
    "It's going to be extremely interesting to see if these have explanatory power for the statistical variation in spending on healthcare!\n",
    "\n",
    "Speaking of which, what are the variables we're trying to predict?\n",
    "\n",
    "1. TOTAL OFFICE-BASED EXP 13\n",
    "2. TOTAL OUTPATIENT PROVIDER EXP 13\n",
    "3. TOT HOSP IP FACILITY + DR EXP 13\n",
    "4. TOTAL ER FACILITY + DR EXP 13\n",
    "\n",
    "The dataset breaks out healthcare expenses into these four location based categories: office, outpatient, inpatient and ER.\n",
    "\n",
    "Another modeling choice that needs to be made is whether to try and predict total expenses, or predict each category of expense individually. In my Insight project, I opted to try and predict them individually, to see if I could shed some light on whether the service location affected prices charged. There's substantial reason to think this may be the case: ER sticker shock is widely reported in the news, more so than office visits.\n",
    "\n",
    "Finally, it's time to reflect a bit on what we've done here. We've isolated explanatory variables that we hope and expect should be predictive of how much a person is charged for healthcare services in four different categories. That's great, but there's a very large number of predictors: over 80. Since the ultimate goal is to build a usable interface to the model that people can use to get a sense of their expected outlays on healthcare, it makes sense to refine and reduce this list. But how?\n",
    "\n",
    "One way to think about this is to consider what information people are comfortable and likely to share about themselves that could help to predict expenses. Another is to focus on what the most predictive variables are, and then ask users to populate these variables in order to get a prediction. \n",
    "\n",
    "In my Insight project, I opted to balance both these concerns by ranking the explanatory variables in terms of statistical variance explained, cutting off at a reasonable threshold (somewhere in between 10 and 20 variables, corresponding to 10-20 questions asked of the user), and also culling variables that would be particularly burdensome to the user to have to report.\n",
    "\n",
    "The next thing to think about is: now that we have explanatory variables and explained variables selected, how do we best go about building a model?\n",
    "\n",
    "One thing to do is to examine the data feature by feature, to get a better sense of what it looks like and to pick up hunches for what may explain the variation.\n",
    "\n"
   ]
  },
  {
   "cell_type": "markdown",
   "metadata": {},
   "source": [
    "First, let's look at the explained variables:"
   ]
  },
  {
   "cell_type": "code",
   "execution_count": 23,
   "metadata": {
    "collapsed": false,
    "scrolled": false
   },
   "outputs": [
    {
     "data": {
      "text/plain": [
       "count     36940.000000\n",
       "mean        884.442799\n",
       "std        3290.683088\n",
       "min           0.000000\n",
       "25%           0.000000\n",
       "50%         156.000000\n",
       "75%         653.000000\n",
       "max      195295.000000\n",
       "Name: TOTAL_OFFICE-BASED_EXP_13, dtype: float64"
      ]
     },
     "execution_count": 23,
     "metadata": {},
     "output_type": "execute_result"
    }
   ],
   "source": [
    "data[\"TOTAL_OFFICE-BASED_EXP_13\"].describe()"
   ]
  },
  {
   "cell_type": "markdown",
   "metadata": {},
   "source": [
    "This is interesting. It looks like upto half of respondents (and by scaling out using the person weights, half of all Americans) spend less than $200 for office-based services in a year. The maximum though, is concerning: over a hundred thousand dollars? Let's take a closer look at that."
   ]
  },
  {
   "cell_type": "code",
   "execution_count": 24,
   "metadata": {
    "collapsed": false,
    "scrolled": false
   },
   "outputs": [
    {
     "data": {
      "text/html": [
       "<div>\n",
       "<table border=\"1\" class=\"dataframe\">\n",
       "  <thead>\n",
       "    <tr style=\"text-align: right;\">\n",
       "      <th></th>\n",
       "      <th>DWELLING_UNIT_ID</th>\n",
       "      <th>PERSON_NUMBER</th>\n",
       "      <th>PERSON_ID_(DUID_+_PID)</th>\n",
       "      <th>PANEL_NUMBER</th>\n",
       "      <th>FAMILY_ID_(STUDENT_MERGED_IN)_-_R3/1</th>\n",
       "      <th>FAMILY_ID_(STUDENT_MERGED_IN)_-_R4/2</th>\n",
       "      <th>FAMILY_ID_(STUDENT_MERGED_IN)_-_R5/3</th>\n",
       "      <th>FAMILY_ID_(STUDENT_MERGED_IN)_-_12/31/13</th>\n",
       "      <th>ANNUAL_FAMILY_IDENTIFIER</th>\n",
       "      <th>CPSFAMID</th>\n",
       "      <th>...</th>\n",
       "      <th>TOT_RX-OTH_UNCLASS_SRCE_AMT_13</th>\n",
       "      <th>TOTAL_RX-PRV_&amp;_TRI_AMT_13</th>\n",
       "      <th>TOTAL_RX-OTH_COMBINED_AMT_13</th>\n",
       "      <th>FINAL_PERSON_WEIGHT_2013</th>\n",
       "      <th>FINAL_FAMILY_WEIGHT_2013</th>\n",
       "      <th>POV_ADJ_FAMILY_WGT-CPS_FAM_ON_12/31/13</th>\n",
       "      <th>FINAL_SAQ_PERSON_WEIGHT_2013</th>\n",
       "      <th>FINAL_DIABETES_CARE_SUPPLEMENT_WEIGHT</th>\n",
       "      <th>VARIANCE_ESTIMATION_STRATUM_-_2013</th>\n",
       "      <th>VARIANCE_ESTIMATION_PSU_-_2013</th>\n",
       "    </tr>\n",
       "  </thead>\n",
       "  <tbody>\n",
       "    <tr>\n",
       "      <th>2384</th>\n",
       "      <td>21174</td>\n",
       "      <td>101</td>\n",
       "      <td>21174101</td>\n",
       "      <td>17</td>\n",
       "      <td>A</td>\n",
       "      <td>A</td>\n",
       "      <td>A</td>\n",
       "      <td>A</td>\n",
       "      <td>A</td>\n",
       "      <td>A</td>\n",
       "      <td>...</td>\n",
       "      <td>0</td>\n",
       "      <td>0</td>\n",
       "      <td>0</td>\n",
       "      <td>10189.789734</td>\n",
       "      <td>8764.276613</td>\n",
       "      <td>8764.276613</td>\n",
       "      <td>11832.982213</td>\n",
       "      <td>13517.344724</td>\n",
       "      <td>1007</td>\n",
       "      <td>1</td>\n",
       "    </tr>\n",
       "    <tr>\n",
       "      <th>2834</th>\n",
       "      <td>21386</td>\n",
       "      <td>102</td>\n",
       "      <td>21386102</td>\n",
       "      <td>17</td>\n",
       "      <td>A</td>\n",
       "      <td>A</td>\n",
       "      <td>A</td>\n",
       "      <td>A</td>\n",
       "      <td>A</td>\n",
       "      <td>A</td>\n",
       "      <td>...</td>\n",
       "      <td>0</td>\n",
       "      <td>16487</td>\n",
       "      <td>0</td>\n",
       "      <td>22234.388648</td>\n",
       "      <td>26645.022692</td>\n",
       "      <td>26645.022692</td>\n",
       "      <td>24377.214141</td>\n",
       "      <td>26657.263092</td>\n",
       "      <td>1065</td>\n",
       "      <td>1</td>\n",
       "    </tr>\n",
       "    <tr>\n",
       "      <th>15019</th>\n",
       "      <td>27647</td>\n",
       "      <td>105</td>\n",
       "      <td>27647105</td>\n",
       "      <td>17</td>\n",
       "      <td>A</td>\n",
       "      <td>A</td>\n",
       "      <td>A</td>\n",
       "      <td>A</td>\n",
       "      <td>A</td>\n",
       "      <td>A</td>\n",
       "      <td>...</td>\n",
       "      <td>0</td>\n",
       "      <td>173</td>\n",
       "      <td>0</td>\n",
       "      <td>16134.188642</td>\n",
       "      <td>6000.045922</td>\n",
       "      <td>6000.045922</td>\n",
       "      <td>0.000000</td>\n",
       "      <td>0.000000</td>\n",
       "      <td>1149</td>\n",
       "      <td>2</td>\n",
       "    </tr>\n",
       "    <tr>\n",
       "      <th>15659</th>\n",
       "      <td>27976</td>\n",
       "      <td>101</td>\n",
       "      <td>27976101</td>\n",
       "      <td>17</td>\n",
       "      <td>A</td>\n",
       "      <td>A</td>\n",
       "      <td>A</td>\n",
       "      <td>A</td>\n",
       "      <td>A</td>\n",
       "      <td>A</td>\n",
       "      <td>...</td>\n",
       "      <td>0</td>\n",
       "      <td>0</td>\n",
       "      <td>0</td>\n",
       "      <td>15650.765936</td>\n",
       "      <td>12480.521290</td>\n",
       "      <td>12480.521290</td>\n",
       "      <td>14907.860615</td>\n",
       "      <td>16293.073976</td>\n",
       "      <td>1140</td>\n",
       "      <td>1</td>\n",
       "    </tr>\n",
       "  </tbody>\n",
       "</table>\n",
       "<p>4 rows × 1791 columns</p>\n",
       "</div>"
      ],
      "text/plain": [
       "       DWELLING_UNIT_ID  PERSON_NUMBER  PERSON_ID_(DUID_+_PID)  PANEL_NUMBER  \\\n",
       "2384              21174            101                21174101            17   \n",
       "2834              21386            102                21386102            17   \n",
       "15019             27647            105                27647105            17   \n",
       "15659             27976            101                27976101            17   \n",
       "\n",
       "      FAMILY_ID_(STUDENT_MERGED_IN)_-_R3/1  \\\n",
       "2384                                    A    \n",
       "2834                                    A    \n",
       "15019                                   A    \n",
       "15659                                   A    \n",
       "\n",
       "      FAMILY_ID_(STUDENT_MERGED_IN)_-_R4/2  \\\n",
       "2384                                    A    \n",
       "2834                                    A    \n",
       "15019                                   A    \n",
       "15659                                   A    \n",
       "\n",
       "      FAMILY_ID_(STUDENT_MERGED_IN)_-_R5/3  \\\n",
       "2384                                    A    \n",
       "2834                                    A    \n",
       "15019                                   A    \n",
       "15659                                   A    \n",
       "\n",
       "      FAMILY_ID_(STUDENT_MERGED_IN)_-_12/31/13 ANNUAL_FAMILY_IDENTIFIER  \\\n",
       "2384                                        A                        A    \n",
       "2834                                        A                        A    \n",
       "15019                                       A                        A    \n",
       "15659                                       A                        A    \n",
       "\n",
       "      CPSFAMID               ...                \\\n",
       "2384        A                ...                 \n",
       "2834        A                ...                 \n",
       "15019       A                ...                 \n",
       "15659       A                ...                 \n",
       "\n",
       "       TOT_RX-OTH_UNCLASS_SRCE_AMT_13  TOTAL_RX-PRV_&_TRI_AMT_13  \\\n",
       "2384                                0                          0   \n",
       "2834                                0                      16487   \n",
       "15019                               0                        173   \n",
       "15659                               0                          0   \n",
       "\n",
       "      TOTAL_RX-OTH_COMBINED_AMT_13 FINAL_PERSON_WEIGHT_2013  \\\n",
       "2384                             0             10189.789734   \n",
       "2834                             0             22234.388648   \n",
       "15019                            0             16134.188642   \n",
       "15659                            0             15650.765936   \n",
       "\n",
       "      FINAL_FAMILY_WEIGHT_2013 POV_ADJ_FAMILY_WGT-CPS_FAM_ON_12/31/13  \\\n",
       "2384               8764.276613                            8764.276613   \n",
       "2834              26645.022692                           26645.022692   \n",
       "15019              6000.045922                            6000.045922   \n",
       "15659             12480.521290                           12480.521290   \n",
       "\n",
       "       FINAL_SAQ_PERSON_WEIGHT_2013  FINAL_DIABETES_CARE_SUPPLEMENT_WEIGHT  \\\n",
       "2384                   11832.982213                           13517.344724   \n",
       "2834                   24377.214141                           26657.263092   \n",
       "15019                      0.000000                               0.000000   \n",
       "15659                  14907.860615                           16293.073976   \n",
       "\n",
       "       VARIANCE_ESTIMATION_STRATUM_-_2013  VARIANCE_ESTIMATION_PSU_-_2013  \n",
       "2384                                 1007                               1  \n",
       "2834                                 1065                               1  \n",
       "15019                                1149                               2  \n",
       "15659                                1140                               1  \n",
       "\n",
       "[4 rows x 1791 columns]"
      ]
     },
     "execution_count": 24,
     "metadata": {},
     "output_type": "execute_result"
    }
   ],
   "source": [
    "data[data[\"TOTAL_OFFICE-BASED_EXP_13\"]>=100000]"
   ]
  },
  {
   "cell_type": "markdown",
   "metadata": {
    "collapsed": true
   },
   "source": [
    "There are 4 people with office based expenses of over 100k. I'd like to take a look to see if these records are bad data, or if they should be kept in the dataset. My prior is that they should be kept in the dataset (the MEPS survey has been running for over 15 years by people who I can only assume know what they're doing). But it doesn't hurt to take a closer look.\n",
    "\n",
    "I don't want to look at all the extra features in the dataset beyond those that I've decided I care about, so let's go about trimming the dataframe down to contain just these features.\n",
    "\n",
    "As a matter of good practice, let's write the current dataset to a file, in case we break something and need to come back to this checkpoint."
   ]
  },
  {
   "cell_type": "code",
   "execution_count": 25,
   "metadata": {
    "collapsed": true,
    "scrolled": false
   },
   "outputs": [],
   "source": [
    "data.to_pickle(\"/home/soumya/research/insight/insight_project/modeling/data/dsm_data_cleaned_columns.pkl\")"
   ]
  },
  {
   "cell_type": "markdown",
   "metadata": {},
   "source": [
    "I've manually written the explanatory variables to a text file located at \"/home/soumya/research/insight/insight\\_project/modeling/code/dsm\\_exog\\_.txt\". I'm going to read this into memory:"
   ]
  },
  {
   "cell_type": "code",
   "execution_count": 26,
   "metadata": {
    "collapsed": false
   },
   "outputs": [
    {
     "name": "stdout",
     "output_type": "stream",
     "text": [
      "['AGE_AS_OF_12/31/13_(EDITED/IMPUTED)', 'SEX', 'RACE/ETHNICITY_(EDITED/IMPUTED)', 'MARITAL_STATUS-12/31/13_(EDITED/IMPUTED)', \"FAMILY'S_TOTAL_INCOME\", 'ADULT_BODY_MASS_INDEX_(>17)_-_RD_5/3', 'HIGH_BLOOD_PRESSURE_DIAG_(>17)', 'CORONARY_HRT_DISEASE_DIAG_(>17)', 'AGE_OF_DIAGNOSIS-HIGH_BLOOD_PRESSURE', 'MULT_DIAG_HIGH_BLOOD_PRESS_(>17)', 'AGE_OF_DIAGNOSIS-CORONARY_HEART_DISEASE', 'ANGINA_DIAGNOSIS_(>17)', 'AGE_OF_DIAGNOSIS-ANGINA', 'HEART_ATTACK_(MI)_DIAG_(>17)', 'AGE_OF_DIAGNOSIS-HEART_ATTACK(MI)', 'OTHER_HEART_DISEASE_DIAG_(>17)', 'AGE_OF_DIAGNOSIS-OTHER_HEART_DISEASE', 'STROKE_DIAGNOSIS_(>17)', 'AGE_OF_DIAGNOSIS-STROKE', 'EMPHYSEMA_DIAGNOSIS_(>17)', 'AGE_OF_DIAGNOSIS-EMPHYSEMA', 'CHRONC_BRONCHITS_LAST_12_MTHS_(>17)-R3/1', 'CHRONC_BRONCHITS_LAST_12_MTHS_(>17)-R5/3', 'HIGH_CHOLESTEROL_DIAGNOSIS_(>17)', 'AGE_OF_DIAGNOSIS-HIGH_CHOLESTEROL', 'CANCER_DIAGNOSIS_(>17)', 'CANCER_DIAGNOSED_-_BLADDER_(>17)', 'CANCER_DIAGNOSED_-_BREAST_(>17)', 'CANCER_DIAGNOSED_-_CERVIX_(>17)', 'CANCER_DIAGNOSED_-_COLON_(>17)', 'CANCER_DIAGNOSED_-_LUNG_(>17)', 'CANCER_DIAGNOSED_-_LYMPHOMA_(>17)', 'CANCER_DIAGNOSED_-_MELANOMA_(>17)', 'CANCER_DIAGNOSED_-_OTHER_(>17)', 'CANCER_DIAGNOSED_-_PROSTATE_(>17)', 'CANCER_DIAGNOSED_-_SKIN-NONMELANO_(>17)', 'CANCER_DIAGNOSED-SKIN-UNKNOWN_TYPE_(>17)', 'CANCER_DIAGNOSED_-_UTERUS_(>17)', 'DIABETES_DIAGNOSIS_(>17)', 'AGE_OF_DIAGNOSIS-DIABETES', 'JOINT_PAIN_LAST_12_MONTHS_(>17)_-_RD_3/1', 'JOINT_PAIN_LAST_12_MONTHS_(>17)_-_RD_5/3', 'ARTHRITIS_DIAGNOSIS_(>17)', 'AGE_OF_DIAGNOSIS-ARTHRITIS', 'ASTHMA_DIAGNOSIS', 'AGE_OF_DIAGNOSIS-ASTHMA', 'DOES_PERSON_STILL_HAVE_ASTHMA-RD3/1', 'DOES_PERSON_STILL_HAVE_ASTHMA_-_RD_5/3', 'ASTHMA_ATTACK_LAST_12_MOS_-_RD3/1', 'USED_ACUTE_PRES_INHALER_LAST_3_MOS-RD5/3', 'USED>3ACUTE_CN_PRES_INH_LAST_3_MOS-RD5/3', 'EVER_USED_PREV_DAILY_ASTHMA_MEDS_-RD_5/3', 'NOW_TAKE_PREV_DAILY_ASTHMA_MEDS_-_RD_5/3', 'HAVE_PEAK_FLOW_METER_AT_HOME_-_RD_5/3', 'EVER_USED_PEAK_FLOW_METER_-_RD_5/3', 'ADHDADD_DIAGNOSIS_(5-17)', 'AGE_OF_DIAGNOSIS-ADHD/ADD', 'PREGNANT_DURING_REF_PERIOD_-_RD_3/1', 'LIMITATION_IN_PHYSICAL_FUNCTIONING-RD3/1', 'EMPLOYMENT_STATUS_RD_3/1', 'HAS_MORE_THAN_ONE_JOB_RD_3/1_INT_DATE', 'SELF-EMPLOYED_AT_RD_3/1_CMJ', 'CHOICE_OF_HEALTH_PLANS_AT_RD_3/1_CMJ', 'INDUSTRY_GROUP_RD_3/1_CMJ', 'UNION_STATUS_AT_RD_3/1_CMJ', 'OCCUPATION_GROUP_RD_3/1_CMJ', 'HEALTH_INSUR_HELD_FROM_RD_3/1_CMJ_(ED)', 'HEALTH_INSUR_OFFERED_BY_RD_3/1_CMJ_(ED)', 'EMPLOYER_OFFERS_HEALTH_INS_RD_3/1_CMJ', 'FULL_YEAR_INSURANCE_COVERAGE_STATUS_2013', 'ANYONE_IN_RU_HAVE_FSA_-_R3/1', '#_WKS/MON_WOUT_HLTH_INS_PRV_YR-PN_18_ONL', 'PRIVATE_INSURANCE_ANY_TIME_IN_R5/R3', 'PUBLIC_INS_ANY_TIME_IN_R5/R3', 'INSURED_ANY_TIME_IN_R3/1', 'ANY_TIME_COVERAGE_BY_STATE_INS_-_R3/1', '#_OFFICE-BASED_PROVIDER_VISITS_13', '#_OUTPATIENT_DEPT_PROVIDER_VISITS_13', '#_EMERGENCY_ROOM_VISITS_13', '#_NIGHTS_IN_HOSP_FOR_DISCHARGES_2013', 'FINAL_PERSON_WEIGHT_2013', 'TOTAL_OFFICE-BASED_EXP_13', 'TOTAL_OUTPATIENT_PROVIDER_EXP_13', 'TOT_HOSP_IP_FACILITY_+_DR_EXP_13', 'TOTAL_ER_FACILITY_+_DR_EXP_13', 'CENSUS_REGION_AS_OF_12/31/13', 'EDUCATION_RECODE_(EDITED)']\n"
     ]
    }
   ],
   "source": [
    "variables=[]\n",
    "with open(\"/home/soumya/research/insight/insight_project/modeling/code/dsm_exog_.txt\",\"r\") as f:\n",
    "    lines=f.readlines()\n",
    "    for line in lines:\n",
    "        variables.append(line.strip().upper())\n",
    "print(variables)"
   ]
  },
  {
   "cell_type": "markdown",
   "metadata": {},
   "source": [
    "I'm going to make sure there are no duplicates in my list:"
   ]
  },
  {
   "cell_type": "code",
   "execution_count": 27,
   "metadata": {
    "collapsed": false,
    "scrolled": false
   },
   "outputs": [
    {
     "name": "stdout",
     "output_type": "stream",
     "text": [
      "There were 87 variables to start.\n",
      "There were 87 variables at the end.\n"
     ]
    }
   ],
   "source": [
    "print(\"There were %d variables to start.\"%len(variables))\n",
    "temp=[]\n",
    "while variables!=[]:\n",
    "    this=variables.pop()\n",
    "    if this in temp:\n",
    "        continue\n",
    "    else:\n",
    "        temp.append(this)\n",
    "while temp!=[]:\n",
    "    variables.append(temp.pop())\n",
    "print(\"There were %d variables at the end.\"%len(variables))"
   ]
  },
  {
   "cell_type": "markdown",
   "metadata": {},
   "source": [
    "For future reference, let's write this dataset to disk so we don't have to do all this over again."
   ]
  },
  {
   "cell_type": "code",
   "execution_count": 28,
   "metadata": {
    "collapsed": false,
    "scrolled": false
   },
   "outputs": [],
   "source": [
    "data[variables].to_pickle(\"/home/soumya/research/insight/insight_project/modeling/data/dsm_data_scoped_variables.pkl\")"
   ]
  },
  {
   "cell_type": "markdown",
   "metadata": {},
   "source": [
    "Let's check this worked:"
   ]
  },
  {
   "cell_type": "code",
   "execution_count": 29,
   "metadata": {
    "collapsed": true,
    "scrolled": false
   },
   "outputs": [],
   "source": [
    "data=pd.read_pickle(\"/home/soumya/research/insight/insight_project/modeling/data/dsm_data_scoped_variables.pkl\")"
   ]
  },
  {
   "cell_type": "code",
   "execution_count": 30,
   "metadata": {
    "collapsed": false,
    "scrolled": false
   },
   "outputs": [
    {
     "data": {
      "text/html": [
       "<div>\n",
       "<table border=\"1\" class=\"dataframe\">\n",
       "  <thead>\n",
       "    <tr style=\"text-align: right;\">\n",
       "      <th></th>\n",
       "      <th>AGE_AS_OF_12/31/13_(EDITED/IMPUTED)</th>\n",
       "      <th>SEX</th>\n",
       "      <th>RACE/ETHNICITY_(EDITED/IMPUTED)</th>\n",
       "      <th>MARITAL_STATUS-12/31/13_(EDITED/IMPUTED)</th>\n",
       "      <th>FAMILY'S_TOTAL_INCOME</th>\n",
       "      <th>ADULT_BODY_MASS_INDEX_(&gt;17)_-_RD_5/3</th>\n",
       "      <th>HIGH_BLOOD_PRESSURE_DIAG_(&gt;17)</th>\n",
       "      <th>CORONARY_HRT_DISEASE_DIAG_(&gt;17)</th>\n",
       "      <th>AGE_OF_DIAGNOSIS-HIGH_BLOOD_PRESSURE</th>\n",
       "      <th>MULT_DIAG_HIGH_BLOOD_PRESS_(&gt;17)</th>\n",
       "      <th>...</th>\n",
       "      <th>#_OUTPATIENT_DEPT_PROVIDER_VISITS_13</th>\n",
       "      <th>#_EMERGENCY_ROOM_VISITS_13</th>\n",
       "      <th>#_NIGHTS_IN_HOSP_FOR_DISCHARGES_2013</th>\n",
       "      <th>FINAL_PERSON_WEIGHT_2013</th>\n",
       "      <th>TOTAL_OFFICE-BASED_EXP_13</th>\n",
       "      <th>TOTAL_OUTPATIENT_PROVIDER_EXP_13</th>\n",
       "      <th>TOT_HOSP_IP_FACILITY_+_DR_EXP_13</th>\n",
       "      <th>TOTAL_ER_FACILITY_+_DR_EXP_13</th>\n",
       "      <th>CENSUS_REGION_AS_OF_12/31/13</th>\n",
       "      <th>EDUCATION_RECODE_(EDITED)</th>\n",
       "    </tr>\n",
       "  </thead>\n",
       "  <tbody>\n",
       "    <tr>\n",
       "      <th>0</th>\n",
       "      <td>39</td>\n",
       "      <td>1</td>\n",
       "      <td>1</td>\n",
       "      <td>1</td>\n",
       "      <td>85728</td>\n",
       "      <td>35.5</td>\n",
       "      <td>2</td>\n",
       "      <td>2</td>\n",
       "      <td>-1</td>\n",
       "      <td>-1</td>\n",
       "      <td>...</td>\n",
       "      <td>0</td>\n",
       "      <td>0</td>\n",
       "      <td>0</td>\n",
       "      <td>6594.801768</td>\n",
       "      <td>428</td>\n",
       "      <td>0</td>\n",
       "      <td>0</td>\n",
       "      <td>0</td>\n",
       "      <td>3</td>\n",
       "      <td>14</td>\n",
       "    </tr>\n",
       "    <tr>\n",
       "      <th>1</th>\n",
       "      <td>40</td>\n",
       "      <td>2</td>\n",
       "      <td>1</td>\n",
       "      <td>1</td>\n",
       "      <td>85728</td>\n",
       "      <td>28.5</td>\n",
       "      <td>2</td>\n",
       "      <td>2</td>\n",
       "      <td>-1</td>\n",
       "      <td>-1</td>\n",
       "      <td>...</td>\n",
       "      <td>0</td>\n",
       "      <td>0</td>\n",
       "      <td>0</td>\n",
       "      <td>7144.183132</td>\n",
       "      <td>0</td>\n",
       "      <td>0</td>\n",
       "      <td>0</td>\n",
       "      <td>0</td>\n",
       "      <td>3</td>\n",
       "      <td>13</td>\n",
       "    </tr>\n",
       "    <tr>\n",
       "      <th>2</th>\n",
       "      <td>10</td>\n",
       "      <td>2</td>\n",
       "      <td>1</td>\n",
       "      <td>6</td>\n",
       "      <td>85728</td>\n",
       "      <td>-1.0</td>\n",
       "      <td>-1</td>\n",
       "      <td>-1</td>\n",
       "      <td>-1</td>\n",
       "      <td>-1</td>\n",
       "      <td>...</td>\n",
       "      <td>2</td>\n",
       "      <td>0</td>\n",
       "      <td>0</td>\n",
       "      <td>5616.278666</td>\n",
       "      <td>0</td>\n",
       "      <td>108</td>\n",
       "      <td>0</td>\n",
       "      <td>0</td>\n",
       "      <td>3</td>\n",
       "      <td>1</td>\n",
       "    </tr>\n",
       "    <tr>\n",
       "      <th>3</th>\n",
       "      <td>52</td>\n",
       "      <td>1</td>\n",
       "      <td>1</td>\n",
       "      <td>4</td>\n",
       "      <td>20142</td>\n",
       "      <td>26.6</td>\n",
       "      <td>1</td>\n",
       "      <td>2</td>\n",
       "      <td>41</td>\n",
       "      <td>2</td>\n",
       "      <td>...</td>\n",
       "      <td>0</td>\n",
       "      <td>0</td>\n",
       "      <td>0</td>\n",
       "      <td>4045.586998</td>\n",
       "      <td>674</td>\n",
       "      <td>0</td>\n",
       "      <td>0</td>\n",
       "      <td>0</td>\n",
       "      <td>1</td>\n",
       "      <td>14</td>\n",
       "    </tr>\n",
       "    <tr>\n",
       "      <th>4</th>\n",
       "      <td>22</td>\n",
       "      <td>1</td>\n",
       "      <td>1</td>\n",
       "      <td>5</td>\n",
       "      <td>20142</td>\n",
       "      <td>22.9</td>\n",
       "      <td>2</td>\n",
       "      <td>2</td>\n",
       "      <td>-1</td>\n",
       "      <td>-1</td>\n",
       "      <td>...</td>\n",
       "      <td>0</td>\n",
       "      <td>0</td>\n",
       "      <td>0</td>\n",
       "      <td>6901.505814</td>\n",
       "      <td>0</td>\n",
       "      <td>0</td>\n",
       "      <td>0</td>\n",
       "      <td>0</td>\n",
       "      <td>1</td>\n",
       "      <td>14</td>\n",
       "    </tr>\n",
       "  </tbody>\n",
       "</table>\n",
       "<p>5 rows × 87 columns</p>\n",
       "</div>"
      ],
      "text/plain": [
       "   AGE_AS_OF_12/31/13_(EDITED/IMPUTED)  SEX  RACE/ETHNICITY_(EDITED/IMPUTED)  \\\n",
       "0                                   39    1                                1   \n",
       "1                                   40    2                                1   \n",
       "2                                   10    2                                1   \n",
       "3                                   52    1                                1   \n",
       "4                                   22    1                                1   \n",
       "\n",
       "   MARITAL_STATUS-12/31/13_(EDITED/IMPUTED)  FAMILY'S_TOTAL_INCOME  \\\n",
       "0                                         1                  85728   \n",
       "1                                         1                  85728   \n",
       "2                                         6                  85728   \n",
       "3                                         4                  20142   \n",
       "4                                         5                  20142   \n",
       "\n",
       "   ADULT_BODY_MASS_INDEX_(>17)_-_RD_5/3  HIGH_BLOOD_PRESSURE_DIAG_(>17)  \\\n",
       "0                                  35.5                               2   \n",
       "1                                  28.5                               2   \n",
       "2                                  -1.0                              -1   \n",
       "3                                  26.6                               1   \n",
       "4                                  22.9                               2   \n",
       "\n",
       "   CORONARY_HRT_DISEASE_DIAG_(>17)  AGE_OF_DIAGNOSIS-HIGH_BLOOD_PRESSURE  \\\n",
       "0                                2                                    -1   \n",
       "1                                2                                    -1   \n",
       "2                               -1                                    -1   \n",
       "3                                2                                    41   \n",
       "4                                2                                    -1   \n",
       "\n",
       "   MULT_DIAG_HIGH_BLOOD_PRESS_(>17)            ...              \\\n",
       "0                                -1            ...               \n",
       "1                                -1            ...               \n",
       "2                                -1            ...               \n",
       "3                                 2            ...               \n",
       "4                                -1            ...               \n",
       "\n",
       "   #_OUTPATIENT_DEPT_PROVIDER_VISITS_13  #_EMERGENCY_ROOM_VISITS_13  \\\n",
       "0                                     0                           0   \n",
       "1                                     0                           0   \n",
       "2                                     2                           0   \n",
       "3                                     0                           0   \n",
       "4                                     0                           0   \n",
       "\n",
       "   #_NIGHTS_IN_HOSP_FOR_DISCHARGES_2013  FINAL_PERSON_WEIGHT_2013  \\\n",
       "0                                     0               6594.801768   \n",
       "1                                     0               7144.183132   \n",
       "2                                     0               5616.278666   \n",
       "3                                     0               4045.586998   \n",
       "4                                     0               6901.505814   \n",
       "\n",
       "   TOTAL_OFFICE-BASED_EXP_13  TOTAL_OUTPATIENT_PROVIDER_EXP_13  \\\n",
       "0                        428                                 0   \n",
       "1                          0                                 0   \n",
       "2                          0                               108   \n",
       "3                        674                                 0   \n",
       "4                          0                                 0   \n",
       "\n",
       "   TOT_HOSP_IP_FACILITY_+_DR_EXP_13  TOTAL_ER_FACILITY_+_DR_EXP_13  \\\n",
       "0                                 0                              0   \n",
       "1                                 0                              0   \n",
       "2                                 0                              0   \n",
       "3                                 0                              0   \n",
       "4                                 0                              0   \n",
       "\n",
       "   CENSUS_REGION_AS_OF_12/31/13  EDUCATION_RECODE_(EDITED)  \n",
       "0                             3                         14  \n",
       "1                             3                         13  \n",
       "2                             3                          1  \n",
       "3                             1                         14  \n",
       "4                             1                         14  \n",
       "\n",
       "[5 rows x 87 columns]"
      ]
     },
     "execution_count": 30,
     "metadata": {},
     "output_type": "execute_result"
    }
   ],
   "source": [
    "data.head()"
   ]
  },
  {
   "cell_type": "markdown",
   "metadata": {},
   "source": [
    "Great! Now let's look at those four data points more closely. **N.B: Note the change of assignment to the name \"data\".**"
   ]
  },
  {
   "cell_type": "code",
   "execution_count": 31,
   "metadata": {
    "collapsed": false
   },
   "outputs": [
    {
     "data": {
      "text/html": [
       "<div>\n",
       "<table border=\"1\" class=\"dataframe\">\n",
       "  <thead>\n",
       "    <tr style=\"text-align: right;\">\n",
       "      <th></th>\n",
       "      <th>#_OFFICE-BASED_PROVIDER_VISITS_13</th>\n",
       "      <th>TOTAL_OFFICE-BASED_EXP_13</th>\n",
       "    </tr>\n",
       "  </thead>\n",
       "  <tbody>\n",
       "    <tr>\n",
       "      <th>2384</th>\n",
       "      <td>168</td>\n",
       "      <td>109403</td>\n",
       "    </tr>\n",
       "    <tr>\n",
       "      <th>2834</th>\n",
       "      <td>164</td>\n",
       "      <td>195295</td>\n",
       "    </tr>\n",
       "    <tr>\n",
       "      <th>15019</th>\n",
       "      <td>51</td>\n",
       "      <td>137891</td>\n",
       "    </tr>\n",
       "    <tr>\n",
       "      <th>15659</th>\n",
       "      <td>128</td>\n",
       "      <td>183384</td>\n",
       "    </tr>\n",
       "  </tbody>\n",
       "</table>\n",
       "</div>"
      ],
      "text/plain": [
       "       #_OFFICE-BASED_PROVIDER_VISITS_13  TOTAL_OFFICE-BASED_EXP_13\n",
       "2384                                 168                     109403\n",
       "2834                                 164                     195295\n",
       "15019                                 51                     137891\n",
       "15659                                128                     183384"
      ]
     },
     "execution_count": 31,
     "metadata": {},
     "output_type": "execute_result"
    }
   ],
   "source": [
    "data[[\"#_OFFICE-BASED_PROVIDER_VISITS_13\",\"TOTAL_OFFICE-BASED_EXP_13\"]][data[\"TOTAL_OFFICE-BASED_EXP_13\"]>=100000]"
   ]
  },
  {
   "cell_type": "markdown",
   "metadata": {},
   "source": [
    "Ok, if you look at the feature called \"# OFFICE-BASED PROVIDER VISITS 13\", it looks like these people had 168, 164, 51 and 128 visits each. While this certainly seems anomalous, it's consistent with the high values for amounts billed for office-based expenses.\n",
    "\n",
    "At this point it's unclear whether these points should be left in the dataset, or thrown out. On the one hand, one would hope that most people don't need over 160 visits to an office-based provider in a year. On the other hand, it's a well-documented fact that a small handful of very ill people account for the vast majority of healthcare costs in the U.S. every year (this is well known to third-party payors).\n",
    "\n",
    "I'd like to take a closer look at this feature before I make a final decision as to whether to leave it in or not."
   ]
  },
  {
   "cell_type": "code",
   "execution_count": 32,
   "metadata": {
    "collapsed": false,
    "scrolled": false
   },
   "outputs": [
    {
     "data": {
      "image/png": "[encoded data removed]",
      "text/plain": [
       "<matplotlib.figure.Figure at 0x7f3e7b2da080>"
      ]
     },
     "metadata": {},
     "output_type": "display_data"
    }
   ],
   "source": [
    "bins=sorted(data[\"TOTAL_OFFICE-BASED_EXP_13\"][data[\"TOTAL_OFFICE-BASED_EXP_13\"]>0].unique())\n",
    "ax=data[\"TOTAL_OFFICE-BASED_EXP_13\"][data[\"TOTAL_OFFICE-BASED_EXP_13\"]>0].hist(bins=bins)\n",
    "ax.set_title(\"OFFICE BASED EXPENSES\")\n",
    "plt.show()"
   ]
  },
  {
   "cell_type": "markdown",
   "metadata": {},
   "source": [
    "The graph above is a line plot of billed charges vs index in the dataframe. It looks like the outliers are certainly anomalous, but not so much that I want to discard them. For reference, there seems to be quite a lot of mass in the 50k-150k range, and that seems plausible to me in light of the fact that the sickest patients cost disproportionately more to treat.\n",
    "\n",
    "Let's look at the other explained variables:"
   ]
  },
  {
   "cell_type": "code",
   "execution_count": 33,
   "metadata": {
    "collapsed": false,
    "scrolled": false
   },
   "outputs": [
    {
     "data": {
      "text/plain": [
       "count    36940.000000\n",
       "mean        45.211722\n",
       "std        385.887201\n",
       "min          0.000000\n",
       "25%          0.000000\n",
       "50%          0.000000\n",
       "75%          0.000000\n",
       "max      26703.000000\n",
       "Name: TOTAL_OUTPATIENT_PROVIDER_EXP_13, dtype: float64"
      ]
     },
     "execution_count": 33,
     "metadata": {},
     "output_type": "execute_result"
    }
   ],
   "source": [
    "data[\"TOTAL_OUTPATIENT_PROVIDER_EXP_13\"].describe()"
   ]
  },
  {
   "cell_type": "markdown",
   "metadata": {},
   "source": [
    "There seems to be even more skew in outpatient expenses: more than 75% of people spend nothing, yet the maximum spent is over 25k.\n",
    "\n",
    "Let's look at some plots:"
   ]
  },
  {
   "cell_type": "code",
   "execution_count": 34,
   "metadata": {
    "collapsed": false,
    "scrolled": false
   },
   "outputs": [
    {
     "data": {
      "image/png": "[encoded data removed]",
      "text/plain": [
       "<matplotlib.figure.Figure at 0x7f3e7a97bb00>"
      ]
     },
     "metadata": {},
     "output_type": "display_data"
    }
   ],
   "source": [
    "bins=sorted(data[\"TOTAL_OUTPATIENT_PROVIDER_EXP_13\"][data[\"TOTAL_OUTPATIENT_PROVIDER_EXP_13\"]>0].unique())\n",
    "ax=data[\"TOTAL_OUTPATIENT_PROVIDER_EXP_13\"][data[\"TOTAL_OUTPATIENT_PROVIDER_EXP_13\"]>0].hist(bins=bins)\n",
    "ax.set_title(\"OUTPATIENT EXPENSES\")\n",
    "plt.show()"
   ]
  },
  {
   "cell_type": "markdown",
   "metadata": {},
   "source": [
    "That's more helpful. It agains looks like there's little reason to discard the outliers.\n",
    "\n",
    "As an interesting visualization of how few people actually have expenses for outpatient services, let's run the same plot but without restricting to those that have positive expenses:"
   ]
  },
  {
   "cell_type": "code",
   "execution_count": 35,
   "metadata": {
    "collapsed": false,
    "scrolled": false
   },
   "outputs": [
    {
     "data": {
      "text/plain": [
       "<matplotlib.axes._subplots.AxesSubplot at 0x7f3e7a97b208>"
      ]
     },
     "execution_count": 35,
     "metadata": {},
     "output_type": "execute_result"
    },
    {
     "data": {
      "image/png": "[encoded data removed]",
      "text/plain": [
       "<matplotlib.figure.Figure at 0x7f3e7b08bcf8>"
      ]
     },
     "metadata": {},
     "output_type": "display_data"
    }
   ],
   "source": [
    "data[\"TOTAL_OUTPATIENT_PROVIDER_EXP_13\"].hist(bins=100)"
   ]
  },
  {
   "cell_type": "markdown",
   "metadata": {},
   "source": [
    "The vast majority of people are at 0, and I can barely see the rest of the histogram.\n",
    "\n",
    "This level of zero-clustering looks like it will be important to account for in the modeling process. Since positive expenses in this category are rare, the cost functions that we optimize to deduce the correct model parameters will be very strongly influenced by the fact that most of the data points lie at 0. It may be necessary to upsample in some way, or equivalently penalize the data points at 0 in order to generate a helpful model, and the penalization will probably be subject to tuning at the end of all of this.\n",
    "\n",
    "The last two response variables are for inpatient expenses and ER expenses:\n"
   ]
  },
  {
   "cell_type": "code",
   "execution_count": 36,
   "metadata": {
    "collapsed": false,
    "scrolled": false
   },
   "outputs": [
    {
     "data": {
      "text/plain": [
       "count     36940.000000\n",
       "mean        977.643097\n",
       "std        7413.503502\n",
       "min           0.000000\n",
       "25%           0.000000\n",
       "50%           0.000000\n",
       "75%           0.000000\n",
       "max      320929.000000\n",
       "Name: TOT_HOSP_IP_FACILITY_+_DR_EXP_13, dtype: float64"
      ]
     },
     "execution_count": 36,
     "metadata": {},
     "output_type": "execute_result"
    }
   ],
   "source": [
    "data[\"TOT_HOSP_IP_FACILITY_+_DR_EXP_13\"].describe()"
   ]
  },
  {
   "cell_type": "code",
   "execution_count": 37,
   "metadata": {
    "collapsed": false,
    "scrolled": false
   },
   "outputs": [
    {
     "data": {
      "text/plain": [
       "count    36940.000000\n",
       "mean       176.546833\n",
       "std       1029.557499\n",
       "min          0.000000\n",
       "25%          0.000000\n",
       "50%          0.000000\n",
       "75%          0.000000\n",
       "max      63179.000000\n",
       "Name: TOTAL_ER_FACILITY_+_DR_EXP_13, dtype: float64"
      ]
     },
     "execution_count": 37,
     "metadata": {},
     "output_type": "execute_result"
    }
   ],
   "source": [
    "data[\"TOTAL_ER_FACILITY_+_DR_EXP_13\"].describe()"
   ]
  },
  {
   "cell_type": "markdown",
   "metadata": {},
   "source": [
    "Similar skew for both."
   ]
  },
  {
   "cell_type": "code",
   "execution_count": 38,
   "metadata": {
    "collapsed": false,
    "scrolled": false
   },
   "outputs": [
    {
     "data": {
      "text/plain": [
       "count      2220.000000\n",
       "mean      16267.628829\n",
       "std       25808.111520\n",
       "min           3.000000\n",
       "25%        4225.750000\n",
       "50%        8584.500000\n",
       "75%       17470.250000\n",
       "max      320929.000000\n",
       "Name: TOT_HOSP_IP_FACILITY_+_DR_EXP_13, dtype: float64"
      ]
     },
     "execution_count": 38,
     "metadata": {},
     "output_type": "execute_result"
    }
   ],
   "source": [
    "data[\"TOT_HOSP_IP_FACILITY_+_DR_EXP_13\"][data[\"TOT_HOSP_IP_FACILITY_+_DR_EXP_13\"]>0].describe()"
   ]
  },
  {
   "cell_type": "code",
   "execution_count": 39,
   "metadata": {
    "collapsed": false,
    "scrolled": false
   },
   "outputs": [
    {
     "data": {
      "text/plain": [
       "count     4922.000000\n",
       "mean      1324.997968\n",
       "std       2536.670125\n",
       "min          3.000000\n",
       "25%        248.000000\n",
       "50%        590.500000\n",
       "75%       1363.750000\n",
       "max      63179.000000\n",
       "Name: TOTAL_ER_FACILITY_+_DR_EXP_13, dtype: float64"
      ]
     },
     "execution_count": 39,
     "metadata": {},
     "output_type": "execute_result"
    }
   ],
   "source": [
    "data[\"TOTAL_ER_FACILITY_+_DR_EXP_13\"][data[\"TOTAL_ER_FACILITY_+_DR_EXP_13\"]>0].describe()"
   ]
  },
  {
   "cell_type": "code",
   "execution_count": 40,
   "metadata": {
    "collapsed": false,
    "scrolled": true
   },
   "outputs": [
    {
     "data": {
      "text/plain": [
       "<matplotlib.axes._subplots.AxesSubplot at 0x7f3e792a5e80>"
      ]
     },
     "execution_count": 40,
     "metadata": {},
     "output_type": "execute_result"
    },
    {
     "data": {
      "image/png": "[encoded data removed]",
      "text/plain": [
       "<matplotlib.figure.Figure at 0x7f3e79483b00>"
      ]
     },
     "metadata": {},
     "output_type": "display_data"
    }
   ],
   "source": [
    "data[\"TOT_HOSP_IP_FACILITY_+_DR_EXP_13\"][data[\"TOT_HOSP_IP_FACILITY_+_DR_EXP_13\"]>0].hist(bins=1000)"
   ]
  },
  {
   "cell_type": "code",
   "execution_count": 41,
   "metadata": {
    "collapsed": false,
    "scrolled": true
   },
   "outputs": [
    {
     "data": {
      "text/plain": [
       "<matplotlib.axes._subplots.AxesSubplot at 0x7f3e7a9f2dd8>"
      ]
     },
     "execution_count": 41,
     "metadata": {},
     "output_type": "execute_result"
    },
    {
     "data": {
      "image/png": "[encoded data removed]",
      "text/plain": [
       "<matplotlib.figure.Figure at 0x7f3e7aa3f940>"
      ]
     },
     "metadata": {},
     "output_type": "display_data"
    }
   ],
   "source": [
    "data[\"TOTAL_ER_FACILITY_+_DR_EXP_13\"][data[\"TOTAL_ER_FACILITY_+_DR_EXP_13\"]>0].hist(bins=1000)"
   ]
  },
  {
   "cell_type": "code",
   "execution_count": 42,
   "metadata": {
    "collapsed": false,
    "scrolled": false
   },
   "outputs": [
    {
     "data": {
      "text/plain": [
       "<matplotlib.axes._subplots.AxesSubplot at 0x7f3e1200d390>"
      ]
     },
     "execution_count": 42,
     "metadata": {},
     "output_type": "execute_result"
    },
    {
     "data": {
      "image/png": "[encoded data removed]",
      "text/plain": [
       "<matplotlib.figure.Figure at 0x7f3e11e394a8>"
      ]
     },
     "metadata": {},
     "output_type": "display_data"
    }
   ],
   "source": [
    "data[\"TOT_HOSP_IP_FACILITY_+_DR_EXP_13\"][data[\"TOT_HOSP_IP_FACILITY_+_DR_EXP_13\"]].hist(bins=100)"
   ]
  },
  {
   "cell_type": "code",
   "execution_count": 43,
   "metadata": {
    "collapsed": false,
    "scrolled": true
   },
   "outputs": [
    {
     "data": {
      "text/plain": [
       "<matplotlib.axes._subplots.AxesSubplot at 0x7f3e139e5da0>"
      ]
     },
     "execution_count": 43,
     "metadata": {},
     "output_type": "execute_result"
    },
    {
     "data": {
      "image/png": "[encoded data removed]",
      "text/plain": [
       "<matplotlib.figure.Figure at 0x7f3e139f6470>"
      ]
     },
     "metadata": {},
     "output_type": "display_data"
    }
   ],
   "source": [
    "data[\"TOTAL_ER_FACILITY_+_DR_EXP_13\"][data[\"TOTAL_ER_FACILITY_+_DR_EXP_13\"]].hist(bins=100)"
   ]
  },
  {
   "cell_type": "markdown",
   "metadata": {},
   "source": [
    "Once again, the skew (or zero clustering) for these categories is very pronounced.\n",
    "\n",
    "Now that we've looked at plots for the response variables, let's take a look at the distributions for the explanatory variables.\n",
    "\n",
    "There are a lot of these, so I'll devote a blog post to looking at these separately and in a systematic way."
   ]
  }
 ],
 "metadata": {
  "kernelspec": {
   "display_name": "Python 3",
   "language": "python",
   "name": "python3"
  },
  "language_info": {
   "codemirror_mode": {
    "name": "ipython",
    "version": 3
   },
   "file_extension": ".py",
   "mimetype": "text/x-python",
   "name": "python",
   "nbconvert_exporter": "python",
   "pygments_lexer": "ipython3",
   "version": "3.4.3"
  }
 },
 "nbformat": 4,
 "nbformat_minor": 0
}
